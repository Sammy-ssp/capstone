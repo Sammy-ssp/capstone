{
 "cells": [
  {
   "cell_type": "markdown",
   "metadata": {},
   "source": [
    "# Capstone Project: Create a Customer Segmentation Report for Arvato Financial Services\n",
    "\n",
    "In this project, you will analyze demographics data for customers of a mail-order sales company in Germany, comparing it against demographics information for the general population. You'll use unsupervised learning techniques to perform customer segmentation, identifying the parts of the population that best describe the core customer base of the company. Then, you'll apply what you've learned on a third dataset with demographics information for targets of a marketing campaign for the company, and use a model to predict which individuals are most likely to convert into becoming customers for the company. The data that you will use has been provided by our partners at Bertelsmann Arvato Analytics, and represents a real-life data science task.\n",
    "\n",
    "If you completed the first term of this program, you will be familiar with the first part of this project, from the unsupervised learning project. The versions of those two datasets used in this project will include many more features and has not been pre-cleaned. You are also free to choose whatever approach you'd like to analyzing the data rather than follow pre-determined steps. In your work on this project, make sure that you carefully document your steps and decisions, since your main deliverable for this project will be a blog post reporting your findings."
   ]
  },
  {
   "cell_type": "code",
   "execution_count": 1,
   "metadata": {},
   "outputs": [],
   "source": [
    "# import libraries here; add more as necessary\n",
    "import numpy as np\n",
    "import pandas as pd\n",
    "\n",
    "import matplotlib.pyplot as plt\n",
    "import seaborn as sns\n",
    "\n",
    "from sklearn.preprocessing import StandardScaler, MinMaxScaler\n",
    "\n",
    "from sklearn.model_selection import train_test_split\n",
    "from sklearn.model_selection import StratifiedKFold\n",
    "from sklearn.model_selection import GridSearchCV\n",
    "\n",
    "from sklearn.decomposition import PCA\n",
    "from sklearn.preprocessing import Imputer\n",
    "from sklearn.cluster import KMeans\n",
    "from sklearn.cluster import DBSCAN\n",
    "from sklearn.cluster import MeanShift\n",
    "from sklearn.preprocessing import scale\n",
    "\n",
    "# unsupervised machine learning\n",
    "import random\n",
    "from sklearn.preprocessing import Imputer\n",
    "from sklearn.preprocessing import StandardScaler\n",
    "from sklearn.decomposition import PCA\n",
    "from sklearn.cluster import KMeans\n",
    "\n",
    "from sklearn.ensemble import AdaBoostRegressor # Adaptive Boosting\n",
    "from sklearn.ensemble import GradientBoostingRegressor # Gradient Tree Boosting\n",
    "from sklearn.ensemble import RandomForestClassifier, GradientBoostingRegressor\n",
    "#from xgboost.sklearn import XGBClassifier  \n",
    "#from xgboost.sklearn import XGBRegressor\n",
    "#from xgboost.sklearn import XGBRegressor # Extreme Gradient Boosting\n",
    "#import xgboost as xgb\n",
    "\n",
    "from sklearn.metrics import roc_auc_score, fbeta_score, accuracy_score, precision_score, recall_score\n",
    "\n",
    "from scipy import stats\n",
    "from time import time\n",
    "\n",
    "# magic word for producing visualizations in notebook\n",
    "%matplotlib inline"
   ]
  },
  {
   "cell_type": "markdown",
   "metadata": {},
   "source": [
    "## Part 0: Get to Know the Data\n",
    "\n",
    "There are four data files associated with this project:\n",
    "\n",
    "- `Udacity_AZDIAS_052018.csv`: Demographics data for the general population of Germany; 891 211 persons (rows) x 366 features (columns).\n",
    "- `Udacity_CUSTOMERS_052018.csv`: Demographics data for customers of a mail-order company; 191 652 persons (rows) x 369 features (columns).\n",
    "- `Udacity_MAILOUT_052018_TRAIN.csv`: Demographics data for individuals who were targets of a marketing campaign; 42 982 persons (rows) x 367 (columns).\n",
    "- `Udacity_MAILOUT_052018_TEST.csv`: Demographics data for individuals who were targets of a marketing campaign; 42 833 persons (rows) x 366 (columns).\n",
    "\n",
    "Each row of the demographics files represents a single person, but also includes information outside of individuals, including information about their household, building, and neighborhood. Use the information from the first two files to figure out how customers (\"CUSTOMERS\") are similar to or differ from the general population at large (\"AZDIAS\"), then use your analysis to make predictions on the other two files (\"MAILOUT\"), predicting which recipients are most likely to become a customer for the mail-order company.\n",
    "\n",
    "The \"CUSTOMERS\" file contains three extra columns ('CUSTOMER_GROUP', 'ONLINE_PURCHASE', and 'PRODUCT_GROUP'), which provide broad information about the customers depicted in the file. The original \"MAILOUT\" file included one additional column, \"RESPONSE\", which indicated whether or not each recipient became a customer of the company. For the \"TRAIN\" subset, this column has been retained, but in the \"TEST\" subset it has been removed; it is against that withheld column that your final predictions will be assessed in the Kaggle competition.\n",
    "\n",
    "Otherwise, all of the remaining columns are the same between the three data files. For more information about the columns depicted in the files, you can refer to two Excel spreadsheets provided in the workspace. [One of them](./DIAS Information Levels - Attributes 2017.xlsx) is a top-level list of attributes and descriptions, organized by informational category. [The other](./DIAS Attributes - Values 2017.xlsx) is a detailed mapping of data values for each feature in alphabetical order.\n",
    "\n",
    "In the below cell, we've provided some initial code to load in the first two datasets. Note for all of the `.csv` data files in this project that they're semicolon (`;`) delimited, so an additional argument in the [`read_csv()`](https://pandas.pydata.org/pandas-docs/stable/generated/pandas.read_csv.html) call has been included to read in the data properly. Also, considering the size of the datasets, it may take some time for them to load completely.\n",
    "\n",
    "You'll notice when the data is loaded in that a warning message will immediately pop up. Before you really start digging into the modeling and analysis, you're going to need to perform some cleaning. Take some time to browse the structure of the data and look over the informational spreadsheets to understand the data values. Make some decisions on which features to keep, which features to drop, and if any revisions need to be made on data formats. It'll be a good idea to create a function with pre-processing steps, since you'll need to clean all of the datasets before you work with them."
   ]
  },
  {
   "cell_type": "code",
   "execution_count": 3,
   "metadata": {},
   "outputs": [
    {
     "name": "stderr",
     "output_type": "stream",
     "text": [
      "/opt/conda/lib/python3.6/site-packages/IPython/core/interactiveshell.py:2785: DtypeWarning: Columns (18,19) have mixed types. Specify dtype option on import or set low_memory=False.\n",
      "  interactivity=interactivity, compiler=compiler, result=result)\n"
     ]
    }
   ],
   "source": [
    "# load in the data\n",
    "azdias = pd.read_csv('../../data/Term2/capstone/arvato_data/Udacity_AZDIAS_052018.csv', sep=';')\n",
    "customers = pd.read_csv('../../data/Term2/capstone/arvato_data/Udacity_CUSTOMERS_052018.csv', sep=';')"
   ]
  },
  {
   "cell_type": "markdown",
   "metadata": {},
   "source": [
    "Analysis of Dataset Azdias"
   ]
  },
  {
   "cell_type": "code",
   "execution_count": 4,
   "metadata": {},
   "outputs": [
    {
     "name": "stdout",
     "output_type": "stream",
     "text": [
      "(891221, 366)\n"
     ]
    }
   ],
   "source": [
    "azdias.head()\n",
    "print(azdias.shape)"
   ]
  },
  {
   "cell_type": "code",
   "execution_count": 5,
   "metadata": {},
   "outputs": [
    {
     "data": {
      "text/html": [
       "<div>\n",
       "<style scoped>\n",
       "    .dataframe tbody tr th:only-of-type {\n",
       "        vertical-align: middle;\n",
       "    }\n",
       "\n",
       "    .dataframe tbody tr th {\n",
       "        vertical-align: top;\n",
       "    }\n",
       "\n",
       "    .dataframe thead th {\n",
       "        text-align: right;\n",
       "    }\n",
       "</style>\n",
       "<table border=\"1\" class=\"dataframe\">\n",
       "  <thead>\n",
       "    <tr style=\"text-align: right;\">\n",
       "      <th></th>\n",
       "      <th>LNR</th>\n",
       "      <th>AGER_TYP</th>\n",
       "      <th>AKT_DAT_KL</th>\n",
       "      <th>ALTER_HH</th>\n",
       "      <th>ALTER_KIND1</th>\n",
       "      <th>ALTER_KIND2</th>\n",
       "      <th>ALTER_KIND3</th>\n",
       "      <th>ALTER_KIND4</th>\n",
       "      <th>ALTERSKATEGORIE_FEIN</th>\n",
       "      <th>ANZ_HAUSHALTE_AKTIV</th>\n",
       "      <th>...</th>\n",
       "      <th>VHN</th>\n",
       "      <th>VK_DHT4A</th>\n",
       "      <th>VK_DISTANZ</th>\n",
       "      <th>VK_ZG11</th>\n",
       "      <th>W_KEIT_KIND_HH</th>\n",
       "      <th>WOHNDAUER_2008</th>\n",
       "      <th>WOHNLAGE</th>\n",
       "      <th>ZABEOTYP</th>\n",
       "      <th>ANREDE_KZ</th>\n",
       "      <th>ALTERSKATEGORIE_GROB</th>\n",
       "    </tr>\n",
       "  </thead>\n",
       "  <tbody>\n",
       "    <tr>\n",
       "      <th>0</th>\n",
       "      <td>910215</td>\n",
       "      <td>-1</td>\n",
       "      <td>NaN</td>\n",
       "      <td>NaN</td>\n",
       "      <td>NaN</td>\n",
       "      <td>NaN</td>\n",
       "      <td>NaN</td>\n",
       "      <td>NaN</td>\n",
       "      <td>NaN</td>\n",
       "      <td>NaN</td>\n",
       "      <td>...</td>\n",
       "      <td>NaN</td>\n",
       "      <td>NaN</td>\n",
       "      <td>NaN</td>\n",
       "      <td>NaN</td>\n",
       "      <td>NaN</td>\n",
       "      <td>NaN</td>\n",
       "      <td>NaN</td>\n",
       "      <td>3</td>\n",
       "      <td>1</td>\n",
       "      <td>2</td>\n",
       "    </tr>\n",
       "    <tr>\n",
       "      <th>1</th>\n",
       "      <td>910220</td>\n",
       "      <td>-1</td>\n",
       "      <td>9.0</td>\n",
       "      <td>0.0</td>\n",
       "      <td>NaN</td>\n",
       "      <td>NaN</td>\n",
       "      <td>NaN</td>\n",
       "      <td>NaN</td>\n",
       "      <td>21.0</td>\n",
       "      <td>11.0</td>\n",
       "      <td>...</td>\n",
       "      <td>4.0</td>\n",
       "      <td>8.0</td>\n",
       "      <td>11.0</td>\n",
       "      <td>10.0</td>\n",
       "      <td>3.0</td>\n",
       "      <td>9.0</td>\n",
       "      <td>4.0</td>\n",
       "      <td>5</td>\n",
       "      <td>2</td>\n",
       "      <td>1</td>\n",
       "    </tr>\n",
       "    <tr>\n",
       "      <th>2</th>\n",
       "      <td>910225</td>\n",
       "      <td>-1</td>\n",
       "      <td>9.0</td>\n",
       "      <td>17.0</td>\n",
       "      <td>NaN</td>\n",
       "      <td>NaN</td>\n",
       "      <td>NaN</td>\n",
       "      <td>NaN</td>\n",
       "      <td>17.0</td>\n",
       "      <td>10.0</td>\n",
       "      <td>...</td>\n",
       "      <td>2.0</td>\n",
       "      <td>9.0</td>\n",
       "      <td>9.0</td>\n",
       "      <td>6.0</td>\n",
       "      <td>3.0</td>\n",
       "      <td>9.0</td>\n",
       "      <td>2.0</td>\n",
       "      <td>5</td>\n",
       "      <td>2</td>\n",
       "      <td>3</td>\n",
       "    </tr>\n",
       "    <tr>\n",
       "      <th>3</th>\n",
       "      <td>910226</td>\n",
       "      <td>2</td>\n",
       "      <td>1.0</td>\n",
       "      <td>13.0</td>\n",
       "      <td>NaN</td>\n",
       "      <td>NaN</td>\n",
       "      <td>NaN</td>\n",
       "      <td>NaN</td>\n",
       "      <td>13.0</td>\n",
       "      <td>1.0</td>\n",
       "      <td>...</td>\n",
       "      <td>0.0</td>\n",
       "      <td>7.0</td>\n",
       "      <td>10.0</td>\n",
       "      <td>11.0</td>\n",
       "      <td>NaN</td>\n",
       "      <td>9.0</td>\n",
       "      <td>7.0</td>\n",
       "      <td>3</td>\n",
       "      <td>2</td>\n",
       "      <td>4</td>\n",
       "    </tr>\n",
       "    <tr>\n",
       "      <th>4</th>\n",
       "      <td>910241</td>\n",
       "      <td>-1</td>\n",
       "      <td>1.0</td>\n",
       "      <td>20.0</td>\n",
       "      <td>NaN</td>\n",
       "      <td>NaN</td>\n",
       "      <td>NaN</td>\n",
       "      <td>NaN</td>\n",
       "      <td>14.0</td>\n",
       "      <td>3.0</td>\n",
       "      <td>...</td>\n",
       "      <td>2.0</td>\n",
       "      <td>3.0</td>\n",
       "      <td>5.0</td>\n",
       "      <td>4.0</td>\n",
       "      <td>2.0</td>\n",
       "      <td>9.0</td>\n",
       "      <td>3.0</td>\n",
       "      <td>4</td>\n",
       "      <td>1</td>\n",
       "      <td>3</td>\n",
       "    </tr>\n",
       "  </tbody>\n",
       "</table>\n",
       "<p>5 rows × 366 columns</p>\n",
       "</div>"
      ],
      "text/plain": [
       "      LNR  AGER_TYP  AKT_DAT_KL  ALTER_HH  ALTER_KIND1  ALTER_KIND2  \\\n",
       "0  910215        -1         NaN       NaN          NaN          NaN   \n",
       "1  910220        -1         9.0       0.0          NaN          NaN   \n",
       "2  910225        -1         9.0      17.0          NaN          NaN   \n",
       "3  910226         2         1.0      13.0          NaN          NaN   \n",
       "4  910241        -1         1.0      20.0          NaN          NaN   \n",
       "\n",
       "   ALTER_KIND3  ALTER_KIND4  ALTERSKATEGORIE_FEIN  ANZ_HAUSHALTE_AKTIV  \\\n",
       "0          NaN          NaN                   NaN                  NaN   \n",
       "1          NaN          NaN                  21.0                 11.0   \n",
       "2          NaN          NaN                  17.0                 10.0   \n",
       "3          NaN          NaN                  13.0                  1.0   \n",
       "4          NaN          NaN                  14.0                  3.0   \n",
       "\n",
       "          ...           VHN  VK_DHT4A  VK_DISTANZ  VK_ZG11  W_KEIT_KIND_HH  \\\n",
       "0         ...           NaN       NaN         NaN      NaN             NaN   \n",
       "1         ...           4.0       8.0        11.0     10.0             3.0   \n",
       "2         ...           2.0       9.0         9.0      6.0             3.0   \n",
       "3         ...           0.0       7.0        10.0     11.0             NaN   \n",
       "4         ...           2.0       3.0         5.0      4.0             2.0   \n",
       "\n",
       "   WOHNDAUER_2008  WOHNLAGE ZABEOTYP ANREDE_KZ ALTERSKATEGORIE_GROB  \n",
       "0             NaN       NaN        3         1                    2  \n",
       "1             9.0       4.0        5         2                    1  \n",
       "2             9.0       2.0        5         2                    3  \n",
       "3             9.0       7.0        3         2                    4  \n",
       "4             9.0       3.0        4         1                    3  \n",
       "\n",
       "[5 rows x 366 columns]"
      ]
     },
     "execution_count": 5,
     "metadata": {},
     "output_type": "execute_result"
    }
   ],
   "source": [
    "azdias.head()"
   ]
  },
  {
   "cell_type": "code",
   "execution_count": 6,
   "metadata": {},
   "outputs": [
    {
     "data": {
      "text/html": [
       "<div>\n",
       "<style scoped>\n",
       "    .dataframe tbody tr th:only-of-type {\n",
       "        vertical-align: middle;\n",
       "    }\n",
       "\n",
       "    .dataframe tbody tr th {\n",
       "        vertical-align: top;\n",
       "    }\n",
       "\n",
       "    .dataframe thead th {\n",
       "        text-align: right;\n",
       "    }\n",
       "</style>\n",
       "<table border=\"1\" class=\"dataframe\">\n",
       "  <thead>\n",
       "    <tr style=\"text-align: right;\">\n",
       "      <th></th>\n",
       "      <th>0</th>\n",
       "    </tr>\n",
       "  </thead>\n",
       "  <tbody>\n",
       "    <tr>\n",
       "      <th>LNR</th>\n",
       "      <td>0.000000</td>\n",
       "    </tr>\n",
       "    <tr>\n",
       "      <th>AGER_TYP</th>\n",
       "      <td>0.000000</td>\n",
       "    </tr>\n",
       "    <tr>\n",
       "      <th>AKT_DAT_KL</th>\n",
       "      <td>0.082470</td>\n",
       "    </tr>\n",
       "    <tr>\n",
       "      <th>ALTER_HH</th>\n",
       "      <td>0.082470</td>\n",
       "    </tr>\n",
       "    <tr>\n",
       "      <th>ALTER_KIND1</th>\n",
       "      <td>0.909048</td>\n",
       "    </tr>\n",
       "  </tbody>\n",
       "</table>\n",
       "</div>"
      ],
      "text/plain": [
       "                    0\n",
       "LNR          0.000000\n",
       "AGER_TYP     0.000000\n",
       "AKT_DAT_KL   0.082470\n",
       "ALTER_HH     0.082470\n",
       "ALTER_KIND1  0.909048"
      ]
     },
     "execution_count": 6,
     "metadata": {},
     "output_type": "execute_result"
    }
   ],
   "source": [
    "# Count NaNs in each column in azdias\n",
    "df_a_1 = pd.DataFrame(azdias.isnull().sum()/azdias.shape[0])\n",
    "df_a_1.head()"
   ]
  },
  {
   "cell_type": "code",
   "execution_count": 7,
   "metadata": {},
   "outputs": [
    {
     "name": "stdout",
     "output_type": "stream",
     "text": [
      "4 \n",
      " ['ALTER_KIND1', 'ALTER_KIND2', 'ALTER_KIND3', 'ALTER_KIND4']\n"
     ]
    }
   ],
   "source": [
    "# Check columns which have more than 90% nan cells.\n",
    "azdias_null_cols = list(df_a_1[df_a_1[0] > 0.9].index) \n",
    "print(len(azdias_null_cols),\"\\n\",azdias_null_cols)"
   ]
  },
  {
   "cell_type": "markdown",
   "metadata": {},
   "source": [
    "Dataset Customers"
   ]
  },
  {
   "cell_type": "code",
   "execution_count": 8,
   "metadata": {},
   "outputs": [
    {
     "name": "stdout",
     "output_type": "stream",
     "text": [
      "(191652, 369)\n"
     ]
    }
   ],
   "source": [
    "customers.head()\n",
    "print(customers.shape)"
   ]
  },
  {
   "cell_type": "code",
   "execution_count": 9,
   "metadata": {},
   "outputs": [],
   "source": [
    "# customers.describe()"
   ]
  },
  {
   "cell_type": "code",
   "execution_count": 10,
   "metadata": {},
   "outputs": [
    {
     "data": {
      "text/html": [
       "<div>\n",
       "<style scoped>\n",
       "    .dataframe tbody tr th:only-of-type {\n",
       "        vertical-align: middle;\n",
       "    }\n",
       "\n",
       "    .dataframe tbody tr th {\n",
       "        vertical-align: top;\n",
       "    }\n",
       "\n",
       "    .dataframe thead th {\n",
       "        text-align: right;\n",
       "    }\n",
       "</style>\n",
       "<table border=\"1\" class=\"dataframe\">\n",
       "  <thead>\n",
       "    <tr style=\"text-align: right;\">\n",
       "      <th></th>\n",
       "      <th>0</th>\n",
       "    </tr>\n",
       "  </thead>\n",
       "  <tbody>\n",
       "    <tr>\n",
       "      <th>LNR</th>\n",
       "      <td>0.000000</td>\n",
       "    </tr>\n",
       "    <tr>\n",
       "      <th>AGER_TYP</th>\n",
       "      <td>0.000000</td>\n",
       "    </tr>\n",
       "    <tr>\n",
       "      <th>AKT_DAT_KL</th>\n",
       "      <td>0.243128</td>\n",
       "    </tr>\n",
       "    <tr>\n",
       "      <th>ALTER_HH</th>\n",
       "      <td>0.243128</td>\n",
       "    </tr>\n",
       "    <tr>\n",
       "      <th>ALTER_KIND1</th>\n",
       "      <td>0.938607</td>\n",
       "    </tr>\n",
       "  </tbody>\n",
       "</table>\n",
       "</div>"
      ],
      "text/plain": [
       "                    0\n",
       "LNR          0.000000\n",
       "AGER_TYP     0.000000\n",
       "AKT_DAT_KL   0.243128\n",
       "ALTER_HH     0.243128\n",
       "ALTER_KIND1  0.938607"
      ]
     },
     "execution_count": 10,
     "metadata": {},
     "output_type": "execute_result"
    }
   ],
   "source": [
    "# Count nan in each column in customers.\n",
    "df_c_1 = pd.DataFrame(customers.isnull().sum()/customers.shape[0])\n",
    "df_c_1.head()"
   ]
  },
  {
   "cell_type": "code",
   "execution_count": 11,
   "metadata": {},
   "outputs": [
    {
     "name": "stdout",
     "output_type": "stream",
     "text": [
      "4 \n",
      " ['ALTER_KIND1', 'ALTER_KIND2', 'ALTER_KIND3', 'ALTER_KIND4']\n"
     ]
    }
   ],
   "source": [
    "# Check columns which have more than 90% nan cells.\n",
    "customers_null_cols = list(df_c_1[df_c_1[0]>0.9].index) \n",
    "print(len(customers_null_cols),\"\\n\",customers_null_cols)"
   ]
  },
  {
   "cell_type": "code",
   "execution_count": 12,
   "metadata": {},
   "outputs": [
    {
     "data": {
      "text/html": [
       "<div>\n",
       "<style scoped>\n",
       "    .dataframe tbody tr th:only-of-type {\n",
       "        vertical-align: middle;\n",
       "    }\n",
       "\n",
       "    .dataframe tbody tr th {\n",
       "        vertical-align: top;\n",
       "    }\n",
       "\n",
       "    .dataframe thead th {\n",
       "        text-align: right;\n",
       "    }\n",
       "</style>\n",
       "<table border=\"1\" class=\"dataframe\">\n",
       "  <thead>\n",
       "    <tr style=\"text-align: right;\">\n",
       "      <th></th>\n",
       "      <th>LNR</th>\n",
       "      <th>AGER_TYP</th>\n",
       "      <th>AKT_DAT_KL</th>\n",
       "      <th>ALTER_HH</th>\n",
       "      <th>ALTER_KIND1</th>\n",
       "      <th>ALTER_KIND2</th>\n",
       "      <th>ALTER_KIND3</th>\n",
       "      <th>ALTER_KIND4</th>\n",
       "      <th>ALTERSKATEGORIE_FEIN</th>\n",
       "      <th>ANZ_HAUSHALTE_AKTIV</th>\n",
       "      <th>...</th>\n",
       "      <th>VHN</th>\n",
       "      <th>VK_DHT4A</th>\n",
       "      <th>VK_DISTANZ</th>\n",
       "      <th>VK_ZG11</th>\n",
       "      <th>W_KEIT_KIND_HH</th>\n",
       "      <th>WOHNDAUER_2008</th>\n",
       "      <th>WOHNLAGE</th>\n",
       "      <th>ZABEOTYP</th>\n",
       "      <th>ANREDE_KZ</th>\n",
       "      <th>ALTERSKATEGORIE_GROB</th>\n",
       "    </tr>\n",
       "  </thead>\n",
       "  <tbody>\n",
       "    <tr>\n",
       "      <th>0</th>\n",
       "      <td>910215</td>\n",
       "      <td>-1</td>\n",
       "      <td>NaN</td>\n",
       "      <td>NaN</td>\n",
       "      <td>NaN</td>\n",
       "      <td>NaN</td>\n",
       "      <td>NaN</td>\n",
       "      <td>NaN</td>\n",
       "      <td>NaN</td>\n",
       "      <td>NaN</td>\n",
       "      <td>...</td>\n",
       "      <td>NaN</td>\n",
       "      <td>NaN</td>\n",
       "      <td>NaN</td>\n",
       "      <td>NaN</td>\n",
       "      <td>NaN</td>\n",
       "      <td>NaN</td>\n",
       "      <td>NaN</td>\n",
       "      <td>3</td>\n",
       "      <td>1</td>\n",
       "      <td>2</td>\n",
       "    </tr>\n",
       "    <tr>\n",
       "      <th>1</th>\n",
       "      <td>910220</td>\n",
       "      <td>-1</td>\n",
       "      <td>9.0</td>\n",
       "      <td>0.0</td>\n",
       "      <td>NaN</td>\n",
       "      <td>NaN</td>\n",
       "      <td>NaN</td>\n",
       "      <td>NaN</td>\n",
       "      <td>21.0</td>\n",
       "      <td>11.0</td>\n",
       "      <td>...</td>\n",
       "      <td>4.0</td>\n",
       "      <td>8.0</td>\n",
       "      <td>11.0</td>\n",
       "      <td>10.0</td>\n",
       "      <td>3.0</td>\n",
       "      <td>9.0</td>\n",
       "      <td>4.0</td>\n",
       "      <td>5</td>\n",
       "      <td>2</td>\n",
       "      <td>1</td>\n",
       "    </tr>\n",
       "    <tr>\n",
       "      <th>2</th>\n",
       "      <td>910225</td>\n",
       "      <td>-1</td>\n",
       "      <td>9.0</td>\n",
       "      <td>17.0</td>\n",
       "      <td>NaN</td>\n",
       "      <td>NaN</td>\n",
       "      <td>NaN</td>\n",
       "      <td>NaN</td>\n",
       "      <td>17.0</td>\n",
       "      <td>10.0</td>\n",
       "      <td>...</td>\n",
       "      <td>2.0</td>\n",
       "      <td>9.0</td>\n",
       "      <td>9.0</td>\n",
       "      <td>6.0</td>\n",
       "      <td>3.0</td>\n",
       "      <td>9.0</td>\n",
       "      <td>2.0</td>\n",
       "      <td>5</td>\n",
       "      <td>2</td>\n",
       "      <td>3</td>\n",
       "    </tr>\n",
       "    <tr>\n",
       "      <th>3</th>\n",
       "      <td>910226</td>\n",
       "      <td>2</td>\n",
       "      <td>1.0</td>\n",
       "      <td>13.0</td>\n",
       "      <td>NaN</td>\n",
       "      <td>NaN</td>\n",
       "      <td>NaN</td>\n",
       "      <td>NaN</td>\n",
       "      <td>13.0</td>\n",
       "      <td>1.0</td>\n",
       "      <td>...</td>\n",
       "      <td>0.0</td>\n",
       "      <td>7.0</td>\n",
       "      <td>10.0</td>\n",
       "      <td>11.0</td>\n",
       "      <td>NaN</td>\n",
       "      <td>9.0</td>\n",
       "      <td>7.0</td>\n",
       "      <td>3</td>\n",
       "      <td>2</td>\n",
       "      <td>4</td>\n",
       "    </tr>\n",
       "    <tr>\n",
       "      <th>4</th>\n",
       "      <td>910241</td>\n",
       "      <td>-1</td>\n",
       "      <td>1.0</td>\n",
       "      <td>20.0</td>\n",
       "      <td>NaN</td>\n",
       "      <td>NaN</td>\n",
       "      <td>NaN</td>\n",
       "      <td>NaN</td>\n",
       "      <td>14.0</td>\n",
       "      <td>3.0</td>\n",
       "      <td>...</td>\n",
       "      <td>2.0</td>\n",
       "      <td>3.0</td>\n",
       "      <td>5.0</td>\n",
       "      <td>4.0</td>\n",
       "      <td>2.0</td>\n",
       "      <td>9.0</td>\n",
       "      <td>3.0</td>\n",
       "      <td>4</td>\n",
       "      <td>1</td>\n",
       "      <td>3</td>\n",
       "    </tr>\n",
       "  </tbody>\n",
       "</table>\n",
       "<p>5 rows × 366 columns</p>\n",
       "</div>"
      ],
      "text/plain": [
       "      LNR  AGER_TYP  AKT_DAT_KL  ALTER_HH  ALTER_KIND1  ALTER_KIND2  \\\n",
       "0  910215        -1         NaN       NaN          NaN          NaN   \n",
       "1  910220        -1         9.0       0.0          NaN          NaN   \n",
       "2  910225        -1         9.0      17.0          NaN          NaN   \n",
       "3  910226         2         1.0      13.0          NaN          NaN   \n",
       "4  910241        -1         1.0      20.0          NaN          NaN   \n",
       "\n",
       "   ALTER_KIND3  ALTER_KIND4  ALTERSKATEGORIE_FEIN  ANZ_HAUSHALTE_AKTIV  \\\n",
       "0          NaN          NaN                   NaN                  NaN   \n",
       "1          NaN          NaN                  21.0                 11.0   \n",
       "2          NaN          NaN                  17.0                 10.0   \n",
       "3          NaN          NaN                  13.0                  1.0   \n",
       "4          NaN          NaN                  14.0                  3.0   \n",
       "\n",
       "          ...           VHN  VK_DHT4A  VK_DISTANZ  VK_ZG11  W_KEIT_KIND_HH  \\\n",
       "0         ...           NaN       NaN         NaN      NaN             NaN   \n",
       "1         ...           4.0       8.0        11.0     10.0             3.0   \n",
       "2         ...           2.0       9.0         9.0      6.0             3.0   \n",
       "3         ...           0.0       7.0        10.0     11.0             NaN   \n",
       "4         ...           2.0       3.0         5.0      4.0             2.0   \n",
       "\n",
       "   WOHNDAUER_2008  WOHNLAGE ZABEOTYP ANREDE_KZ ALTERSKATEGORIE_GROB  \n",
       "0             NaN       NaN        3         1                    2  \n",
       "1             9.0       4.0        5         2                    1  \n",
       "2             9.0       2.0        5         2                    3  \n",
       "3             9.0       7.0        3         2                    4  \n",
       "4             9.0       3.0        4         1                    3  \n",
       "\n",
       "[5 rows x 366 columns]"
      ]
     },
     "execution_count": 12,
     "metadata": {},
     "output_type": "execute_result"
    }
   ],
   "source": [
    "azdias.head()"
   ]
  },
  {
   "cell_type": "code",
   "execution_count": 13,
   "metadata": {},
   "outputs": [
    {
     "data": {
      "image/png": "[encoded data removed]",
      "text/plain": [
       "<matplotlib.figure.Figure at 0x7f9749236d68>"
      ]
     },
     "metadata": {
      "needs_background": "light"
     },
     "output_type": "display_data"
    }
   ],
   "source": [
    "# Count NaNs in each rows in azdias\n",
    "df_a_2 =pd.DataFrame(azdias.isnull().sum(axis=1)/azdias.shape[1])\n",
    "df_a_2[0].hist(bins=50);"
   ]
  },
  {
   "cell_type": "code",
   "execution_count": 14,
   "metadata": {},
   "outputs": [
    {
     "data": {
      "image/png": "[encoded data removed]",
      "text/plain": [
       "<matplotlib.figure.Figure at 0x7f974bd03358>"
      ]
     },
     "metadata": {
      "needs_background": "light"
     },
     "output_type": "display_data"
    }
   ],
   "source": [
    "# Count NaNs in each rows in customers\n",
    "df_c_2 =pd.DataFrame(customers.isnull().sum(axis=1)/customers.shape[1])\n",
    "df_c_2[0].hist(bins=50);"
   ]
  },
  {
   "cell_type": "code",
   "execution_count": 15,
   "metadata": {},
   "outputs": [
    {
     "data": {
      "text/html": [
       "<div>\n",
       "<style scoped>\n",
       "    .dataframe tbody tr th:only-of-type {\n",
       "        vertical-align: middle;\n",
       "    }\n",
       "\n",
       "    .dataframe tbody tr th {\n",
       "        vertical-align: top;\n",
       "    }\n",
       "\n",
       "    .dataframe thead th {\n",
       "        text-align: right;\n",
       "    }\n",
       "</style>\n",
       "<table border=\"1\" class=\"dataframe\">\n",
       "  <thead>\n",
       "    <tr style=\"text-align: right;\">\n",
       "      <th></th>\n",
       "      <th>0</th>\n",
       "    </tr>\n",
       "  </thead>\n",
       "  <tbody>\n",
       "    <tr>\n",
       "      <th>LNR</th>\n",
       "      <td>0.0</td>\n",
       "    </tr>\n",
       "    <tr>\n",
       "      <th>FINANZ_HAUSBAUER</th>\n",
       "      <td>0.0</td>\n",
       "    </tr>\n",
       "    <tr>\n",
       "      <th>FINANZ_ANLEGER</th>\n",
       "      <td>0.0</td>\n",
       "    </tr>\n",
       "    <tr>\n",
       "      <th>D19_WEIN_FEINKOST</th>\n",
       "      <td>0.0</td>\n",
       "    </tr>\n",
       "    <tr>\n",
       "      <th>D19_VOLLSORTIMENT</th>\n",
       "      <td>0.0</td>\n",
       "    </tr>\n",
       "    <tr>\n",
       "      <th>D19_VERSICHERUNGEN</th>\n",
       "      <td>0.0</td>\n",
       "    </tr>\n",
       "    <tr>\n",
       "      <th>D19_VERSI_ONLINE_DATUM</th>\n",
       "      <td>0.0</td>\n",
       "    </tr>\n",
       "    <tr>\n",
       "      <th>D19_VERSI_OFFLINE_DATUM</th>\n",
       "      <td>0.0</td>\n",
       "    </tr>\n",
       "    <tr>\n",
       "      <th>D19_VERSI_DATUM</th>\n",
       "      <td>0.0</td>\n",
       "    </tr>\n",
       "    <tr>\n",
       "      <th>D19_VERSI_ANZ_24</th>\n",
       "      <td>0.0</td>\n",
       "    </tr>\n",
       "    <tr>\n",
       "      <th>D19_VERSI_ANZ_12</th>\n",
       "      <td>0.0</td>\n",
       "    </tr>\n",
       "    <tr>\n",
       "      <th>D19_VERSAND_REST</th>\n",
       "      <td>0.0</td>\n",
       "    </tr>\n",
       "    <tr>\n",
       "      <th>D19_VERSAND_ONLINE_DATUM</th>\n",
       "      <td>0.0</td>\n",
       "    </tr>\n",
       "    <tr>\n",
       "      <th>D19_VERSAND_OFFLINE_DATUM</th>\n",
       "      <td>0.0</td>\n",
       "    </tr>\n",
       "    <tr>\n",
       "      <th>FINANZ_MINIMALIST</th>\n",
       "      <td>0.0</td>\n",
       "    </tr>\n",
       "    <tr>\n",
       "      <th>D19_VERSAND_DATUM</th>\n",
       "      <td>0.0</td>\n",
       "    </tr>\n",
       "    <tr>\n",
       "      <th>D19_VERSAND_ANZ_12</th>\n",
       "      <td>0.0</td>\n",
       "    </tr>\n",
       "    <tr>\n",
       "      <th>D19_TIERARTIKEL</th>\n",
       "      <td>0.0</td>\n",
       "    </tr>\n",
       "    <tr>\n",
       "      <th>D19_TELKO_REST</th>\n",
       "      <td>0.0</td>\n",
       "    </tr>\n",
       "    <tr>\n",
       "      <th>D19_TELKO_ONLINE_DATUM</th>\n",
       "      <td>0.0</td>\n",
       "    </tr>\n",
       "    <tr>\n",
       "      <th>D19_TELKO_OFFLINE_DATUM</th>\n",
       "      <td>0.0</td>\n",
       "    </tr>\n",
       "    <tr>\n",
       "      <th>D19_TELKO_MOBILE</th>\n",
       "      <td>0.0</td>\n",
       "    </tr>\n",
       "    <tr>\n",
       "      <th>D19_TELKO_DATUM</th>\n",
       "      <td>0.0</td>\n",
       "    </tr>\n",
       "    <tr>\n",
       "      <th>D19_TELKO_ANZ_24</th>\n",
       "      <td>0.0</td>\n",
       "    </tr>\n",
       "    <tr>\n",
       "      <th>D19_TELKO_ANZ_12</th>\n",
       "      <td>0.0</td>\n",
       "    </tr>\n",
       "    <tr>\n",
       "      <th>D19_TECHNIK</th>\n",
       "      <td>0.0</td>\n",
       "    </tr>\n",
       "    <tr>\n",
       "      <th>D19_SONSTIGE</th>\n",
       "      <td>0.0</td>\n",
       "    </tr>\n",
       "    <tr>\n",
       "      <th>D19_SCHUHE</th>\n",
       "      <td>0.0</td>\n",
       "    </tr>\n",
       "    <tr>\n",
       "      <th>D19_SAMMELARTIKEL</th>\n",
       "      <td>0.0</td>\n",
       "    </tr>\n",
       "    <tr>\n",
       "      <th>D19_VERSAND_ANZ_24</th>\n",
       "      <td>0.0</td>\n",
       "    </tr>\n",
       "    <tr>\n",
       "      <th>D19_REISEN</th>\n",
       "      <td>0.0</td>\n",
       "    </tr>\n",
       "    <tr>\n",
       "      <th>FINANZ_SPARER</th>\n",
       "      <td>0.0</td>\n",
       "    </tr>\n",
       "    <tr>\n",
       "      <th>FINANZ_VORSORGER</th>\n",
       "      <td>0.0</td>\n",
       "    </tr>\n",
       "    <tr>\n",
       "      <th>ONLINE_PURCHASE</th>\n",
       "      <td>0.0</td>\n",
       "    </tr>\n",
       "    <tr>\n",
       "      <th>CUSTOMER_GROUP</th>\n",
       "      <td>0.0</td>\n",
       "    </tr>\n",
       "    <tr>\n",
       "      <th>PRODUCT_GROUP</th>\n",
       "      <td>0.0</td>\n",
       "    </tr>\n",
       "    <tr>\n",
       "      <th>ZABEOTYP</th>\n",
       "      <td>0.0</td>\n",
       "    </tr>\n",
       "    <tr>\n",
       "      <th>VERS_TYP</th>\n",
       "      <td>0.0</td>\n",
       "    </tr>\n",
       "    <tr>\n",
       "      <th>SHOPPER_TYP</th>\n",
       "      <td>0.0</td>\n",
       "    </tr>\n",
       "    <tr>\n",
       "      <th>SEMIO_VERT</th>\n",
       "      <td>0.0</td>\n",
       "    </tr>\n",
       "    <tr>\n",
       "      <th>SEMIO_TRADV</th>\n",
       "      <td>0.0</td>\n",
       "    </tr>\n",
       "    <tr>\n",
       "      <th>SEMIO_SOZ</th>\n",
       "      <td>0.0</td>\n",
       "    </tr>\n",
       "    <tr>\n",
       "      <th>SEMIO_REL</th>\n",
       "      <td>0.0</td>\n",
       "    </tr>\n",
       "    <tr>\n",
       "      <th>SEMIO_RAT</th>\n",
       "      <td>0.0</td>\n",
       "    </tr>\n",
       "    <tr>\n",
       "      <th>SEMIO_PFLICHT</th>\n",
       "      <td>0.0</td>\n",
       "    </tr>\n",
       "    <tr>\n",
       "      <th>SEMIO_MAT</th>\n",
       "      <td>0.0</td>\n",
       "    </tr>\n",
       "    <tr>\n",
       "      <th>FINANZ_UNAUFFAELLIGER</th>\n",
       "      <td>0.0</td>\n",
       "    </tr>\n",
       "    <tr>\n",
       "      <th>SEMIO_LUST</th>\n",
       "      <td>0.0</td>\n",
       "    </tr>\n",
       "    <tr>\n",
       "      <th>SEMIO_KRIT</th>\n",
       "      <td>0.0</td>\n",
       "    </tr>\n",
       "    <tr>\n",
       "      <th>SEMIO_KAEM</th>\n",
       "      <td>0.0</td>\n",
       "    </tr>\n",
       "  </tbody>\n",
       "</table>\n",
       "</div>"
      ],
      "text/plain": [
       "                             0\n",
       "LNR                        0.0\n",
       "FINANZ_HAUSBAUER           0.0\n",
       "FINANZ_ANLEGER             0.0\n",
       "D19_WEIN_FEINKOST          0.0\n",
       "D19_VOLLSORTIMENT          0.0\n",
       "D19_VERSICHERUNGEN         0.0\n",
       "D19_VERSI_ONLINE_DATUM     0.0\n",
       "D19_VERSI_OFFLINE_DATUM    0.0\n",
       "D19_VERSI_DATUM            0.0\n",
       "D19_VERSI_ANZ_24           0.0\n",
       "D19_VERSI_ANZ_12           0.0\n",
       "D19_VERSAND_REST           0.0\n",
       "D19_VERSAND_ONLINE_DATUM   0.0\n",
       "D19_VERSAND_OFFLINE_DATUM  0.0\n",
       "FINANZ_MINIMALIST          0.0\n",
       "D19_VERSAND_DATUM          0.0\n",
       "D19_VERSAND_ANZ_12         0.0\n",
       "D19_TIERARTIKEL            0.0\n",
       "D19_TELKO_REST             0.0\n",
       "D19_TELKO_ONLINE_DATUM     0.0\n",
       "D19_TELKO_OFFLINE_DATUM    0.0\n",
       "D19_TELKO_MOBILE           0.0\n",
       "D19_TELKO_DATUM            0.0\n",
       "D19_TELKO_ANZ_24           0.0\n",
       "D19_TELKO_ANZ_12           0.0\n",
       "D19_TECHNIK                0.0\n",
       "D19_SONSTIGE               0.0\n",
       "D19_SCHUHE                 0.0\n",
       "D19_SAMMELARTIKEL          0.0\n",
       "D19_VERSAND_ANZ_24         0.0\n",
       "D19_REISEN                 0.0\n",
       "FINANZ_SPARER              0.0\n",
       "FINANZ_VORSORGER           0.0\n",
       "ONLINE_PURCHASE            0.0\n",
       "CUSTOMER_GROUP             0.0\n",
       "PRODUCT_GROUP              0.0\n",
       "ZABEOTYP                   0.0\n",
       "VERS_TYP                   0.0\n",
       "SHOPPER_TYP                0.0\n",
       "SEMIO_VERT                 0.0\n",
       "SEMIO_TRADV                0.0\n",
       "SEMIO_SOZ                  0.0\n",
       "SEMIO_REL                  0.0\n",
       "SEMIO_RAT                  0.0\n",
       "SEMIO_PFLICHT              0.0\n",
       "SEMIO_MAT                  0.0\n",
       "FINANZ_UNAUFFAELLIGER      0.0\n",
       "SEMIO_LUST                 0.0\n",
       "SEMIO_KRIT                 0.0\n",
       "SEMIO_KAEM                 0.0"
      ]
     },
     "execution_count": 15,
     "metadata": {},
     "output_type": "execute_result"
    }
   ],
   "source": [
    "# Choose some columns where there are no or few missing values\n",
    "# customers\n",
    "df_c_1.sort_values(0,ascending=True).head(50)"
   ]
  },
  {
   "cell_type": "code",
   "execution_count": 16,
   "metadata": {},
   "outputs": [
    {
     "data": {
      "text/html": [
       "<div>\n",
       "<style scoped>\n",
       "    .dataframe tbody tr th:only-of-type {\n",
       "        vertical-align: middle;\n",
       "    }\n",
       "\n",
       "    .dataframe tbody tr th {\n",
       "        vertical-align: top;\n",
       "    }\n",
       "\n",
       "    .dataframe thead th {\n",
       "        text-align: right;\n",
       "    }\n",
       "</style>\n",
       "<table border=\"1\" class=\"dataframe\">\n",
       "  <thead>\n",
       "    <tr style=\"text-align: right;\">\n",
       "      <th></th>\n",
       "      <th>0</th>\n",
       "    </tr>\n",
       "  </thead>\n",
       "  <tbody>\n",
       "    <tr>\n",
       "      <th>LNR</th>\n",
       "      <td>0.0</td>\n",
       "    </tr>\n",
       "    <tr>\n",
       "      <th>D19_WEIN_FEINKOST</th>\n",
       "      <td>0.0</td>\n",
       "    </tr>\n",
       "    <tr>\n",
       "      <th>D19_VOLLSORTIMENT</th>\n",
       "      <td>0.0</td>\n",
       "    </tr>\n",
       "    <tr>\n",
       "      <th>D19_VERSICHERUNGEN</th>\n",
       "      <td>0.0</td>\n",
       "    </tr>\n",
       "    <tr>\n",
       "      <th>D19_VERSI_ONLINE_DATUM</th>\n",
       "      <td>0.0</td>\n",
       "    </tr>\n",
       "    <tr>\n",
       "      <th>D19_VERSI_OFFLINE_DATUM</th>\n",
       "      <td>0.0</td>\n",
       "    </tr>\n",
       "    <tr>\n",
       "      <th>D19_VERSI_DATUM</th>\n",
       "      <td>0.0</td>\n",
       "    </tr>\n",
       "    <tr>\n",
       "      <th>D19_VERSI_ANZ_24</th>\n",
       "      <td>0.0</td>\n",
       "    </tr>\n",
       "    <tr>\n",
       "      <th>D19_VERSI_ANZ_12</th>\n",
       "      <td>0.0</td>\n",
       "    </tr>\n",
       "    <tr>\n",
       "      <th>D19_VERSAND_REST</th>\n",
       "      <td>0.0</td>\n",
       "    </tr>\n",
       "    <tr>\n",
       "      <th>D19_VERSAND_ONLINE_DATUM</th>\n",
       "      <td>0.0</td>\n",
       "    </tr>\n",
       "    <tr>\n",
       "      <th>D19_VERSAND_OFFLINE_DATUM</th>\n",
       "      <td>0.0</td>\n",
       "    </tr>\n",
       "    <tr>\n",
       "      <th>D19_VERSAND_DATUM</th>\n",
       "      <td>0.0</td>\n",
       "    </tr>\n",
       "    <tr>\n",
       "      <th>D19_VERSAND_ANZ_24</th>\n",
       "      <td>0.0</td>\n",
       "    </tr>\n",
       "    <tr>\n",
       "      <th>D19_VERSAND_ANZ_12</th>\n",
       "      <td>0.0</td>\n",
       "    </tr>\n",
       "    <tr>\n",
       "      <th>D19_TIERARTIKEL</th>\n",
       "      <td>0.0</td>\n",
       "    </tr>\n",
       "    <tr>\n",
       "      <th>D19_TELKO_REST</th>\n",
       "      <td>0.0</td>\n",
       "    </tr>\n",
       "    <tr>\n",
       "      <th>D19_TELKO_ONLINE_DATUM</th>\n",
       "      <td>0.0</td>\n",
       "    </tr>\n",
       "    <tr>\n",
       "      <th>D19_TELKO_OFFLINE_DATUM</th>\n",
       "      <td>0.0</td>\n",
       "    </tr>\n",
       "    <tr>\n",
       "      <th>D19_TELKO_MOBILE</th>\n",
       "      <td>0.0</td>\n",
       "    </tr>\n",
       "    <tr>\n",
       "      <th>D19_TELKO_DATUM</th>\n",
       "      <td>0.0</td>\n",
       "    </tr>\n",
       "    <tr>\n",
       "      <th>D19_TELKO_ANZ_24</th>\n",
       "      <td>0.0</td>\n",
       "    </tr>\n",
       "    <tr>\n",
       "      <th>D19_TELKO_ANZ_12</th>\n",
       "      <td>0.0</td>\n",
       "    </tr>\n",
       "    <tr>\n",
       "      <th>D19_TECHNIK</th>\n",
       "      <td>0.0</td>\n",
       "    </tr>\n",
       "    <tr>\n",
       "      <th>D19_SONSTIGE</th>\n",
       "      <td>0.0</td>\n",
       "    </tr>\n",
       "    <tr>\n",
       "      <th>D19_SCHUHE</th>\n",
       "      <td>0.0</td>\n",
       "    </tr>\n",
       "    <tr>\n",
       "      <th>D19_SAMMELARTIKEL</th>\n",
       "      <td>0.0</td>\n",
       "    </tr>\n",
       "    <tr>\n",
       "      <th>D19_REISEN</th>\n",
       "      <td>0.0</td>\n",
       "    </tr>\n",
       "    <tr>\n",
       "      <th>FINANZ_ANLEGER</th>\n",
       "      <td>0.0</td>\n",
       "    </tr>\n",
       "    <tr>\n",
       "      <th>D19_RATGEBER</th>\n",
       "      <td>0.0</td>\n",
       "    </tr>\n",
       "    <tr>\n",
       "      <th>FINANZ_HAUSBAUER</th>\n",
       "      <td>0.0</td>\n",
       "    </tr>\n",
       "    <tr>\n",
       "      <th>FINANZ_SPARER</th>\n",
       "      <td>0.0</td>\n",
       "    </tr>\n",
       "    <tr>\n",
       "      <th>ZABEOTYP</th>\n",
       "      <td>0.0</td>\n",
       "    </tr>\n",
       "    <tr>\n",
       "      <th>VERS_TYP</th>\n",
       "      <td>0.0</td>\n",
       "    </tr>\n",
       "    <tr>\n",
       "      <th>SHOPPER_TYP</th>\n",
       "      <td>0.0</td>\n",
       "    </tr>\n",
       "    <tr>\n",
       "      <th>SEMIO_VERT</th>\n",
       "      <td>0.0</td>\n",
       "    </tr>\n",
       "    <tr>\n",
       "      <th>SEMIO_TRADV</th>\n",
       "      <td>0.0</td>\n",
       "    </tr>\n",
       "    <tr>\n",
       "      <th>SEMIO_SOZ</th>\n",
       "      <td>0.0</td>\n",
       "    </tr>\n",
       "    <tr>\n",
       "      <th>SEMIO_REL</th>\n",
       "      <td>0.0</td>\n",
       "    </tr>\n",
       "    <tr>\n",
       "      <th>SEMIO_RAT</th>\n",
       "      <td>0.0</td>\n",
       "    </tr>\n",
       "    <tr>\n",
       "      <th>SEMIO_PFLICHT</th>\n",
       "      <td>0.0</td>\n",
       "    </tr>\n",
       "    <tr>\n",
       "      <th>SEMIO_MAT</th>\n",
       "      <td>0.0</td>\n",
       "    </tr>\n",
       "    <tr>\n",
       "      <th>SEMIO_LUST</th>\n",
       "      <td>0.0</td>\n",
       "    </tr>\n",
       "    <tr>\n",
       "      <th>SEMIO_KULT</th>\n",
       "      <td>0.0</td>\n",
       "    </tr>\n",
       "    <tr>\n",
       "      <th>SEMIO_KRIT</th>\n",
       "      <td>0.0</td>\n",
       "    </tr>\n",
       "    <tr>\n",
       "      <th>SEMIO_KAEM</th>\n",
       "      <td>0.0</td>\n",
       "    </tr>\n",
       "    <tr>\n",
       "      <th>SEMIO_FAM</th>\n",
       "      <td>0.0</td>\n",
       "    </tr>\n",
       "    <tr>\n",
       "      <th>SEMIO_ERL</th>\n",
       "      <td>0.0</td>\n",
       "    </tr>\n",
       "    <tr>\n",
       "      <th>SEMIO_DOM</th>\n",
       "      <td>0.0</td>\n",
       "    </tr>\n",
       "    <tr>\n",
       "      <th>PRAEGENDE_JUGENDJAHRE</th>\n",
       "      <td>0.0</td>\n",
       "    </tr>\n",
       "  </tbody>\n",
       "</table>\n",
       "</div>"
      ],
      "text/plain": [
       "                             0\n",
       "LNR                        0.0\n",
       "D19_WEIN_FEINKOST          0.0\n",
       "D19_VOLLSORTIMENT          0.0\n",
       "D19_VERSICHERUNGEN         0.0\n",
       "D19_VERSI_ONLINE_DATUM     0.0\n",
       "D19_VERSI_OFFLINE_DATUM    0.0\n",
       "D19_VERSI_DATUM            0.0\n",
       "D19_VERSI_ANZ_24           0.0\n",
       "D19_VERSI_ANZ_12           0.0\n",
       "D19_VERSAND_REST           0.0\n",
       "D19_VERSAND_ONLINE_DATUM   0.0\n",
       "D19_VERSAND_OFFLINE_DATUM  0.0\n",
       "D19_VERSAND_DATUM          0.0\n",
       "D19_VERSAND_ANZ_24         0.0\n",
       "D19_VERSAND_ANZ_12         0.0\n",
       "D19_TIERARTIKEL            0.0\n",
       "D19_TELKO_REST             0.0\n",
       "D19_TELKO_ONLINE_DATUM     0.0\n",
       "D19_TELKO_OFFLINE_DATUM    0.0\n",
       "D19_TELKO_MOBILE           0.0\n",
       "D19_TELKO_DATUM            0.0\n",
       "D19_TELKO_ANZ_24           0.0\n",
       "D19_TELKO_ANZ_12           0.0\n",
       "D19_TECHNIK                0.0\n",
       "D19_SONSTIGE               0.0\n",
       "D19_SCHUHE                 0.0\n",
       "D19_SAMMELARTIKEL          0.0\n",
       "D19_REISEN                 0.0\n",
       "FINANZ_ANLEGER             0.0\n",
       "D19_RATGEBER               0.0\n",
       "FINANZ_HAUSBAUER           0.0\n",
       "FINANZ_SPARER              0.0\n",
       "ZABEOTYP                   0.0\n",
       "VERS_TYP                   0.0\n",
       "SHOPPER_TYP                0.0\n",
       "SEMIO_VERT                 0.0\n",
       "SEMIO_TRADV                0.0\n",
       "SEMIO_SOZ                  0.0\n",
       "SEMIO_REL                  0.0\n",
       "SEMIO_RAT                  0.0\n",
       "SEMIO_PFLICHT              0.0\n",
       "SEMIO_MAT                  0.0\n",
       "SEMIO_LUST                 0.0\n",
       "SEMIO_KULT                 0.0\n",
       "SEMIO_KRIT                 0.0\n",
       "SEMIO_KAEM                 0.0\n",
       "SEMIO_FAM                  0.0\n",
       "SEMIO_ERL                  0.0\n",
       "SEMIO_DOM                  0.0\n",
       "PRAEGENDE_JUGENDJAHRE      0.0"
      ]
     },
     "execution_count": 16,
     "metadata": {},
     "output_type": "execute_result"
    }
   ],
   "source": [
    "# Choose some columns where there are no or few missing values\n",
    "# azdias\n",
    "df_a_1.sort_values(0,ascending=True).head(50)"
   ]
  },
  {
   "cell_type": "code",
   "execution_count": 17,
   "metadata": {},
   "outputs": [],
   "source": [
    "more_info = pd.read_excel('./DIAS Attributes - Values 2017.xlsx')"
   ]
  },
  {
   "cell_type": "code",
   "execution_count": 18,
   "metadata": {},
   "outputs": [
    {
     "data": {
      "text/html": [
       "<div>\n",
       "<style scoped>\n",
       "    .dataframe tbody tr th:only-of-type {\n",
       "        vertical-align: middle;\n",
       "    }\n",
       "\n",
       "    .dataframe tbody tr th {\n",
       "        vertical-align: top;\n",
       "    }\n",
       "\n",
       "    .dataframe thead th {\n",
       "        text-align: right;\n",
       "    }\n",
       "</style>\n",
       "<table border=\"1\" class=\"dataframe\">\n",
       "  <thead>\n",
       "    <tr style=\"text-align: right;\">\n",
       "      <th></th>\n",
       "      <th>Unnamed: 0</th>\n",
       "      <th>Attribute</th>\n",
       "      <th>Description</th>\n",
       "      <th>Value</th>\n",
       "      <th>Meaning</th>\n",
       "    </tr>\n",
       "  </thead>\n",
       "  <tbody>\n",
       "    <tr>\n",
       "      <th>0</th>\n",
       "      <td>NaN</td>\n",
       "      <td>AGER_TYP</td>\n",
       "      <td>best-ager typology</td>\n",
       "      <td>-1</td>\n",
       "      <td>unknown</td>\n",
       "    </tr>\n",
       "    <tr>\n",
       "      <th>1</th>\n",
       "      <td>NaN</td>\n",
       "      <td>NaN</td>\n",
       "      <td>NaN</td>\n",
       "      <td>0</td>\n",
       "      <td>no classification possible</td>\n",
       "    </tr>\n",
       "    <tr>\n",
       "      <th>2</th>\n",
       "      <td>NaN</td>\n",
       "      <td>NaN</td>\n",
       "      <td>NaN</td>\n",
       "      <td>1</td>\n",
       "      <td>passive elderly</td>\n",
       "    </tr>\n",
       "    <tr>\n",
       "      <th>3</th>\n",
       "      <td>NaN</td>\n",
       "      <td>NaN</td>\n",
       "      <td>NaN</td>\n",
       "      <td>2</td>\n",
       "      <td>cultural elderly</td>\n",
       "    </tr>\n",
       "    <tr>\n",
       "      <th>4</th>\n",
       "      <td>NaN</td>\n",
       "      <td>NaN</td>\n",
       "      <td>NaN</td>\n",
       "      <td>3</td>\n",
       "      <td>experience-driven elderly</td>\n",
       "    </tr>\n",
       "  </tbody>\n",
       "</table>\n",
       "</div>"
      ],
      "text/plain": [
       "   Unnamed: 0 Attribute         Description Value                     Meaning\n",
       "0         NaN  AGER_TYP  best-ager typology    -1                     unknown\n",
       "1         NaN       NaN                 NaN     0  no classification possible\n",
       "2         NaN       NaN                 NaN     1             passive elderly\n",
       "3         NaN       NaN                 NaN     2            cultural elderly\n",
       "4         NaN       NaN                 NaN     3   experience-driven elderly"
      ]
     },
     "execution_count": 18,
     "metadata": {},
     "output_type": "execute_result"
    }
   ],
   "source": [
    "more_info.head()"
   ]
  },
  {
   "cell_type": "code",
   "execution_count": 20,
   "metadata": {},
   "outputs": [
    {
     "name": "stdout",
     "output_type": "stream",
     "text": [
      "SEMIO_FAM\n",
      "FINANZ_HAUSBAUER\n",
      "FINANZ_ANLEGER\n",
      "D19_TECHNIK\n",
      "SEMIO_KAEM\n",
      "SEMIO_SOZ\n"
     ]
    },
    {
     "data": {
      "image/png": "[encoded data removed]",
      "text/plain": [
       "<matplotlib.figure.Figure at 0x7f974acd1e80>"
      ]
     },
     "metadata": {
      "needs_background": "light"
     },
     "output_type": "display_data"
    },
    {
     "data": {
      "image/png": "[encoded data removed]",
      "text/plain": [
       "<matplotlib.figure.Figure at 0x7f974936f9b0>"
      ]
     },
     "metadata": {
      "needs_background": "light"
     },
     "output_type": "display_data"
    },
    {
     "data": {
      "image/png": "[encoded data removed]",
      "text/plain": [
       "<matplotlib.figure.Figure at 0x7f9749150320>"
      ]
     },
     "metadata": {
      "needs_background": "light"
     },
     "output_type": "display_data"
    },
    {
     "data": {
      "image/png": "[encoded data removed]",
      "text/plain": [
       "<matplotlib.figure.Figure at 0x7f974bda84a8>"
      ]
     },
     "metadata": {
      "needs_background": "light"
     },
     "output_type": "display_data"
    },
    {
     "data": {
      "image/png": "[encoded data removed]",
      "text/plain": [
       "<matplotlib.figure.Figure at 0x7f97492ab7f0>"
      ]
     },
     "metadata": {
      "needs_background": "light"
     },
     "output_type": "display_data"
    },
    {
     "data": {
      "image/png": "[encoded data removed]",
      "text/plain": [
       "<matplotlib.figure.Figure at 0x7f974be98358>"
      ]
     },
     "metadata": {
      "needs_background": "light"
     },
     "output_type": "display_data"
    }
   ],
   "source": [
    "# Compare the distribution of values for at least five columns where there are no or few missing values, between the two subsets.\n",
    "cols = [\"SEMIO_FAM\",\"FINANZ_HAUSBAUER\",\"FINANZ_ANLEGER\",\"D19_TECHNIK\",\"SEMIO_KAEM\",\"SEMIO_SOZ\"]\n",
    "for i in range(len(cols)):\n",
    "    print(cols[i])\n",
    "    plt.figure(figsize=(12,5))\n",
    "    plt.subplot(1,2,1) #create subplots\n",
    "    df_azdias = azdias[cols[i]]  #reshape images\n",
    "    sns.countplot(df_azdias, color = sns.color_palette()[0]);\n",
    "    plt.xlabel(\"Public  \"+cols[i])\n",
    "    \n",
    "    plt.subplot(1,2,2)\n",
    "    df_customers = customers[cols[i]]\n",
    "    sns.countplot(df_customers, color = sns.color_palette()[1]);\n",
    "    plt.xlabel(\"Customers  \"+cols[i])\n",
    "    plt.savefig(cols[i]+\".png\")"
   ]
  },
  {
   "cell_type": "code",
   "execution_count": 21,
   "metadata": {},
   "outputs": [
    {
     "name": "stdout",
     "output_type": "stream",
     "text": [
      "['PRODUCT_GROUP', 'CUSTOMER_GROUP', 'ONLINE_PURCHASE']\n"
     ]
    }
   ],
   "source": [
    "differences = []\n",
    "for i in customers.columns:\n",
    "    if i not in azdias:\n",
    "        differences.append(i)\n",
    "        \n",
    "print(differences)"
   ]
  },
  {
   "cell_type": "code",
   "execution_count": 22,
   "metadata": {},
   "outputs": [],
   "source": [
    "# find data that is missing in dataset\n",
    "azdias_null = azdias.isnull().sum()\n",
    "azdias_null_percentage = azdias_null / len(azdias) * 100"
   ]
  },
  {
   "cell_type": "code",
   "execution_count": 23,
   "metadata": {},
   "outputs": [
    {
     "data": {
      "text/plain": [
       "<matplotlib.axes._subplots.AxesSubplot at 0x7f9749f4a470>"
      ]
     },
     "execution_count": 23,
     "metadata": {},
     "output_type": "execute_result"
    },
    {
     "data": {
      "image/png": "[encoded data removed]",
      "text/plain": [
       "<matplotlib.figure.Figure at 0x7f9749f4f0f0>"
      ]
     },
     "metadata": {
      "needs_background": "light"
     },
     "output_type": "display_data"
    }
   ],
   "source": [
    "(azdias_null.sort_values(ascending = False)[:50].plot(kind='bar', figsize=(20,8), fontsize=13))"
   ]
  },
  {
   "cell_type": "code",
   "execution_count": 24,
   "metadata": {},
   "outputs": [
    {
     "data": {
      "image/png": "[encoded data removed]",
      "text/plain": [
       "<matplotlib.figure.Figure at 0x7f9749e510b8>"
      ]
     },
     "metadata": {
      "needs_background": "light"
     },
     "output_type": "display_data"
    }
   ],
   "source": [
    "plt.figure(figsize=(10,5))\n",
    "plt.hist(azdias_null_percentage, bins = np.linspace(10,100,19), facecolor='r', alpha = 0.75)\n",
    "\n",
    "plt.xlabel('Percentage of missing values')\n",
    "plt.ylabel('# of Columns')\n",
    "plt.title('Distribution of missing values in each columns')\n",
    "plt.grid(True)\n",
    "\n",
    "plt.show()"
   ]
  },
  {
   "cell_type": "code",
   "execution_count": 25,
   "metadata": {},
   "outputs": [
    {
     "name": "stdout",
     "output_type": "stream",
     "text": [
      "% of missing data in columns \n",
      " ALTER_KIND4                    99.864792\n",
      "ALTER_KIND3                    99.307691\n",
      "ALTER_KIND2                    96.690047\n",
      "ALTER_KIND1                    90.904837\n",
      "EXTSEL992                      73.399639\n",
      "KK_KUNDENTYP                   65.596749\n",
      "ALTERSKATEGORIE_FEIN           29.504130\n",
      "D19_LETZTER_KAUF_BRANCHE       28.849522\n",
      "D19_LOTTO                      28.849522\n",
      "D19_VERSI_ONLINE_QUOTE_12      28.849522\n",
      "D19_BANKEN_ONLINE_QUOTE_12     28.849522\n",
      "D19_SOZIALES                   28.849522\n",
      "D19_GESAMT_ONLINE_QUOTE_12     28.849522\n",
      "D19_KONSUMTYP                  28.849522\n",
      "D19_TELKO_ONLINE_QUOTE_12      28.849522\n",
      "D19_VERSAND_ONLINE_QUOTE_12    28.849522\n",
      "KBA05_MOTOR                    14.959701\n",
      "KBA05_MOD8                     14.959701\n",
      "KBA05_MOD4                     14.959701\n",
      "KBA05_MOD3                     14.959701\n",
      "KBA05_MOD2                     14.959701\n",
      "KBA05_SEG1                     14.959701\n",
      "KBA05_MOD1                     14.959701\n",
      "KBA05_MAXVORB                  14.959701\n",
      "KBA05_MAXSEG                   14.959701\n",
      "KBA05_MAXHERST                 14.959701\n",
      "KBA05_MAXBJ                    14.959701\n",
      "KBA05_MAXAH                    14.959701\n",
      "KBA05_KW3                      14.959701\n",
      "KBA05_MOTRAD                   14.959701\n",
      "                                 ...    \n",
      "D19_RATGEBER                    0.000000\n",
      "FINANZ_ANLEGER                  0.000000\n",
      "D19_REISEN                      0.000000\n",
      "D19_SAMMELARTIKEL               0.000000\n",
      "D19_SCHUHE                      0.000000\n",
      "D19_SONSTIGE                    0.000000\n",
      "D19_TECHNIK                     0.000000\n",
      "D19_TELKO_ANZ_12                0.000000\n",
      "D19_TELKO_ANZ_24                0.000000\n",
      "D19_TELKO_DATUM                 0.000000\n",
      "D19_TELKO_MOBILE                0.000000\n",
      "D19_TELKO_OFFLINE_DATUM         0.000000\n",
      "D19_TELKO_ONLINE_DATUM          0.000000\n",
      "D19_TELKO_REST                  0.000000\n",
      "D19_TIERARTIKEL                 0.000000\n",
      "D19_VERSAND_ANZ_12              0.000000\n",
      "D19_VERSAND_ANZ_24              0.000000\n",
      "D19_VERSAND_DATUM               0.000000\n",
      "D19_VERSAND_OFFLINE_DATUM       0.000000\n",
      "D19_VERSAND_ONLINE_DATUM        0.000000\n",
      "D19_VERSAND_REST                0.000000\n",
      "D19_VERSI_ANZ_12                0.000000\n",
      "D19_VERSI_ANZ_24                0.000000\n",
      "D19_VERSI_DATUM                 0.000000\n",
      "D19_VERSI_OFFLINE_DATUM         0.000000\n",
      "D19_VERSI_ONLINE_DATUM          0.000000\n",
      "D19_VERSICHERUNGEN              0.000000\n",
      "D19_VOLLSORTIMENT               0.000000\n",
      "D19_WEIN_FEINKOST               0.000000\n",
      "LNR                             0.000000\n",
      "Length: 366, dtype: float64\n"
     ]
    }
   ],
   "source": [
    "print('% of missing data in columns','\\n',azdias_null_percentage.sort_values(ascending=False))"
   ]
  },
  {
   "cell_type": "code",
   "execution_count": 26,
   "metadata": {},
   "outputs": [
    {
     "data": {
      "text/plain": [
       "Text(0,0.5,'probability of missing values')"
      ]
     },
     "execution_count": 26,
     "metadata": {},
     "output_type": "execute_result"
    },
    {
     "data": {
      "image/png": "[encoded data removed]",
      "text/plain": [
       "<matplotlib.figure.Figure at 0x7f9749e022b0>"
      ]
     },
     "metadata": {
      "needs_background": "light"
     },
     "output_type": "display_data"
    }
   ],
   "source": [
    "column_nans = azdias.isnull().mean()\n",
    "\n",
    "plt.hist(column_nans, bins = np.arange(0,1+.05,.05))\n",
    "plt.xlabel('number of features')\n",
    "plt.ylabel('probability of missing values')"
   ]
  },
  {
   "cell_type": "code",
   "execution_count": 27,
   "metadata": {},
   "outputs": [
    {
     "name": "stdout",
     "output_type": "stream",
     "text": [
      "columns having  missing values >30%:  6\n",
      "columns having  missing values >65%:  6\n",
      "columns having  missing values >90%:  4\n"
     ]
    }
   ],
   "source": [
    "print('columns having  missing values >30%: ',len(azdias_null_percentage[azdias_null_percentage>30].index))\n",
    "print('columns having  missing values >65%: ',len(azdias_null_percentage[azdias_null_percentage>65].index))\n",
    "print('columns having  missing values >90%: ',len(azdias_null_percentage[azdias_null_percentage>90].index))"
   ]
  },
  {
   "cell_type": "code",
   "execution_count": 28,
   "metadata": {},
   "outputs": [
    {
     "name": "stdout",
     "output_type": "stream",
     "text": [
      "columns to drop:  Index(['ALTER_KIND1', 'ALTER_KIND2', 'ALTER_KIND3', 'ALTER_KIND4', 'EXTSEL992',\n",
      "       'KK_KUNDENTYP'],\n",
      "      dtype='object')\n"
     ]
    }
   ],
   "source": [
    "drop_cols = azdias.columns[column_nans > 0.65]\n",
    "print('columns to drop: ', drop_cols)"
   ]
  },
  {
   "cell_type": "code",
   "execution_count": 29,
   "metadata": {},
   "outputs": [
    {
     "name": "stdout",
     "output_type": "stream",
     "text": [
      "# of column in azdias before dropping:  366\n",
      "# of column in azdias after dropping:  360\n",
      "# of column in customers before dropping:  369\n",
      "# of column in customers after dropping:  363\n"
     ]
    }
   ],
   "source": [
    "#Drop columns\n",
    "print('# of column in azdias before dropping: ', len(azdias.columns))\n",
    "azdias = azdias.drop(drop_cols,axis=1)\n",
    "print('# of column in azdias after dropping: ', len(azdias.columns))\n",
    "\n",
    "print('# of column in customers before dropping: ', len(customers.columns))\n",
    "customers = customers.drop(drop_cols,axis=1)\n",
    "print('# of column in customers after dropping: ', len(customers.columns))"
   ]
  },
  {
   "cell_type": "code",
   "execution_count": 30,
   "metadata": {},
   "outputs": [
    {
     "data": {
      "text/plain": [
       "Index(['LNR', 'AGER_TYP', 'AKT_DAT_KL', 'ALTER_HH', 'ALTERSKATEGORIE_FEIN',\n",
       "       'ANZ_HAUSHALTE_AKTIV', 'ANZ_HH_TITEL', 'ANZ_KINDER', 'ANZ_PERSONEN',\n",
       "       'ANZ_STATISTISCHE_HAUSHALTE',\n",
       "       ...\n",
       "       'VHN', 'VK_DHT4A', 'VK_DISTANZ', 'VK_ZG11', 'W_KEIT_KIND_HH',\n",
       "       'WOHNDAUER_2008', 'WOHNLAGE', 'ZABEOTYP', 'ANREDE_KZ',\n",
       "       'ALTERSKATEGORIE_GROB'],\n",
       "      dtype='object', length=360)"
      ]
     },
     "execution_count": 30,
     "metadata": {},
     "output_type": "execute_result"
    }
   ],
   "source": [
    "azdias.columns"
   ]
  },
  {
   "cell_type": "code",
   "execution_count": 31,
   "metadata": {},
   "outputs": [],
   "source": [
    "#azdias = azdias.drop(['EINGEFUEGT_AM'],axis=1)\n",
    "#customers = customers.drop(['EINGEFUEGT_AM'],axis=1)"
   ]
  },
  {
   "cell_type": "markdown",
   "metadata": {},
   "source": [
    "## Part 1: Customer Segmentation Report\n",
    "\n",
    "The main bulk of your analysis will come in this part of the project. Here, you should use unsupervised learning techniques to describe the relationship between the demographics of the company's existing customers and the general population of Germany. By the end of this part, you should be able to describe parts of the general population that are more likely to be part of the mail-order company's main customer base, and which parts of the general population are less so."
   ]
  },
  {
   "cell_type": "code",
   "execution_count": 32,
   "metadata": {},
   "outputs": [
    {
     "name": "stdout",
     "output_type": "stream",
     "text": [
      "['GREEN_AVANTGARDE', 'ANREDE_KZ']\n",
      "[[0, 1], [1, 2]]\n",
      "['AGER_TYP', 'AKT_DAT_KL', 'ANZ_KINDER', 'ANZ_TITEL', 'ARBEIT', 'BALLRAUM', 'CAMEO_DEUG_2015', 'CJT_GESAMTTYP', 'CJT_KATALOGNUTZER', 'CJT_TYP_1', 'CJT_TYP_2', 'CJT_TYP_3', 'CJT_TYP_4', 'CJT_TYP_5', 'CJT_TYP_6', 'D19_BANKEN_ANZ_12', 'D19_BANKEN_ANZ_24', 'D19_BANKEN_DATUM', 'D19_BANKEN_DIREKT', 'D19_BANKEN_GROSS', 'D19_BANKEN_LOKAL', 'D19_BANKEN_OFFLINE_DATUM', 'D19_BANKEN_ONLINE_DATUM', 'D19_BANKEN_ONLINE_QUOTE_12', 'D19_BANKEN_REST', 'D19_BEKLEIDUNG_GEH', 'D19_BEKLEIDUNG_REST', 'D19_BILDUNG', 'D19_BIO_OEKO', 'D19_BUCH_CD', 'D19_DIGIT_SERV', 'D19_DROGERIEARTIKEL', 'D19_ENERGIE', 'D19_FREIZEIT', 'D19_GARTEN', 'D19_GESAMT_ANZ_12', 'D19_GESAMT_ANZ_24', 'D19_GESAMT_DATUM', 'D19_GESAMT_OFFLINE_DATUM', 'D19_GESAMT_ONLINE_DATUM', 'D19_GESAMT_ONLINE_QUOTE_12', 'D19_HANDWERK', 'D19_HAUS_DEKO', 'D19_KINDERARTIKEL', 'D19_KONSUMTYP', 'D19_KONSUMTYP_MAX', 'D19_KOSMETIK', 'D19_LEBENSMITTEL', 'D19_LOTTO', 'D19_NAHRUNGSERGAENZUNG', 'D19_RATGEBER', 'D19_REISEN', 'D19_SAMMELARTIKEL', 'D19_SCHUHE', 'D19_SONSTIGE', 'D19_SOZIALES', 'D19_TECHNIK', 'D19_TELKO_ANZ_12', 'D19_TELKO_ANZ_24', 'D19_TELKO_DATUM', 'D19_TELKO_MOBILE', 'D19_TELKO_OFFLINE_DATUM', 'D19_TELKO_ONLINE_DATUM', 'D19_TELKO_ONLINE_QUOTE_12', 'D19_TELKO_REST', 'D19_TIERARTIKEL', 'D19_VERSAND_ANZ_12', 'D19_VERSAND_ANZ_24', 'D19_VERSAND_DATUM', 'D19_VERSAND_OFFLINE_DATUM', 'D19_VERSAND_ONLINE_DATUM', 'D19_VERSAND_ONLINE_QUOTE_12', 'D19_VERSAND_REST', 'D19_VERSI_ANZ_12', 'D19_VERSI_ANZ_24', 'D19_VERSI_DATUM', 'D19_VERSI_OFFLINE_DATUM', 'D19_VERSI_ONLINE_DATUM', 'D19_VERSI_ONLINE_QUOTE_12', 'D19_VERSICHERUNGEN', 'D19_VOLLSORTIMENT', 'D19_WEIN_FEINKOST', 'DSL_FLAG', 'EWDICHTE', 'FINANZ_ANLEGER', 'FINANZ_HAUSBAUER', 'FINANZ_MINIMALIST', 'FINANZ_SPARER', 'FINANZ_UNAUFFAELLIGER', 'FINANZ_VORSORGER', 'FINANZTYP', 'FIRMENDICHTE', 'GEBAEUDETYP', 'GEBAEUDETYP_RASTER', 'GEMEINDETYP', 'GFK_URLAUBERTYP', 'HEALTH_TYP', 'HH_DELTA_FLAG', 'HH_EINKOMMEN_SCORE', 'INNENSTADT', 'KBA05_ALTER1', 'KBA05_ALTER2', 'KBA05_ALTER3', 'KBA05_ALTER4', 'KBA05_ANHANG', 'KBA05_ANTG1', 'KBA05_ANTG2', 'KBA05_ANTG3', 'KBA05_ANTG4', 'KBA05_AUTOQUOT', 'KBA05_BAUMAX', 'KBA05_CCM1', 'KBA05_CCM2', 'KBA05_CCM3', 'KBA05_CCM4', 'KBA05_DIESEL', 'KBA05_FRAU', 'KBA05_GBZ', 'KBA05_HERST1', 'KBA05_HERST2', 'KBA05_HERST3', 'KBA05_HERST4', 'KBA05_HERST5', 'KBA05_HERSTTEMP', 'KBA05_KRSAQUOT', 'KBA05_KRSHERST1', 'KBA05_KRSHERST2', 'KBA05_KRSHERST3', 'KBA05_KRSKLEIN', 'KBA05_KRSOBER', 'KBA05_KRSVAN', 'KBA05_KRSZUL', 'KBA05_KW1', 'KBA05_KW2', 'KBA05_KW3', 'KBA05_MAXAH', 'KBA05_MAXBJ', 'KBA05_MAXHERST', 'KBA05_MAXSEG', 'KBA05_MAXVORB', 'KBA05_MOD1', 'KBA05_MOD2', 'KBA05_MOD3', 'KBA05_MOD4', 'KBA05_MOD8', 'KBA05_MODTEMP', 'KBA05_MOTOR', 'KBA05_MOTRAD', 'KBA05_SEG1', 'KBA05_SEG10', 'KBA05_SEG2', 'KBA05_SEG3', 'KBA05_SEG4', 'KBA05_SEG5', 'KBA05_SEG6', 'KBA05_SEG7', 'KBA05_SEG8', 'KBA05_SEG9', 'KBA05_VORB0', 'KBA05_VORB1', 'KBA05_VORB2', 'KBA05_ZUL1', 'KBA05_ZUL2', 'KBA05_ZUL3', 'KBA05_ZUL4', 'KBA13_ALTERHALTER_30', 'KBA13_ALTERHALTER_45', 'KBA13_ALTERHALTER_60', 'KBA13_ALTERHALTER_61', 'KBA13_ANTG1', 'KBA13_ANTG2', 'KBA13_ANTG3', 'KBA13_ANTG4', 'KBA13_AUDI', 'KBA13_AUTOQUOTE', 'KBA13_BAUMAX', 'KBA13_BJ_1999', 'KBA13_BJ_2000', 'KBA13_BJ_2004', 'KBA13_BJ_2006', 'KBA13_BJ_2008', 'KBA13_BJ_2009', 'KBA13_BMW', 'KBA13_CCM_0_1400', 'KBA13_CCM_1000', 'KBA13_CCM_1200', 'KBA13_CCM_1400', 'KBA13_CCM_1401_2500', 'KBA13_CCM_1500', 'KBA13_CCM_1600', 'KBA13_CCM_1800', 'KBA13_CCM_2000', 'KBA13_CCM_2500', 'KBA13_CCM_2501', 'KBA13_CCM_3000', 'KBA13_CCM_3001', 'KBA13_FAB_ASIEN', 'KBA13_FAB_SONSTIGE', 'KBA13_FIAT', 'KBA13_FORD', 'KBA13_GBZ', 'KBA13_HALTER_20', 'KBA13_HALTER_25', 'KBA13_HALTER_30', 'KBA13_HALTER_35', 'KBA13_HALTER_40', 'KBA13_HALTER_45', 'KBA13_HALTER_50', 'KBA13_HALTER_55', 'KBA13_HALTER_60', 'KBA13_HALTER_65', 'KBA13_HALTER_66', 'KBA13_HERST_ASIEN', 'KBA13_HERST_AUDI_VW', 'KBA13_HERST_BMW_BENZ', 'KBA13_HERST_EUROPA', 'KBA13_HERST_FORD_OPEL', 'KBA13_HERST_SONST', 'KBA13_HHZ', 'KBA13_KMH_0_140', 'KBA13_KMH_110', 'KBA13_KMH_140', 'KBA13_KMH_140_210', 'KBA13_KMH_180', 'KBA13_KMH_210', 'KBA13_KMH_211', 'KBA13_KMH_250', 'KBA13_KMH_251', 'KBA13_KRSAQUOT', 'KBA13_KRSHERST_AUDI_VW', 'KBA13_KRSHERST_BMW_BENZ', 'KBA13_KRSHERST_FORD_OPEL', 'KBA13_KRSSEG_KLEIN', 'KBA13_KRSSEG_OBER', 'KBA13_KRSSEG_VAN', 'KBA13_KRSZUL_NEU', 'KBA13_KW_0_60', 'KBA13_KW_110', 'KBA13_KW_120', 'KBA13_KW_121', 'KBA13_KW_30', 'KBA13_KW_40', 'KBA13_KW_50', 'KBA13_KW_60', 'KBA13_KW_61_120', 'KBA13_KW_70', 'KBA13_KW_80', 'KBA13_KW_90', 'KBA13_MAZDA', 'KBA13_MERCEDES', 'KBA13_MOTOR', 'KBA13_NISSAN', 'KBA13_OPEL', 'KBA13_PEUGEOT', 'KBA13_RENAULT', 'KBA13_SEG_GELAENDEWAGEN', 'KBA13_SEG_GROSSRAUMVANS', 'KBA13_SEG_KLEINST', 'KBA13_SEG_KLEINWAGEN', 'KBA13_SEG_KOMPAKTKLASSE', 'KBA13_SEG_MINIVANS', 'KBA13_SEG_MINIWAGEN', 'KBA13_SEG_MITTELKLASSE', 'KBA13_SEG_OBEREMITTELKLASSE', 'KBA13_SEG_OBERKLASSE', 'KBA13_SEG_SONSTIGE', 'KBA13_SEG_SPORTWAGEN', 'KBA13_SEG_UTILITIES', 'KBA13_SEG_VAN', 'KBA13_SEG_WOHNMOBILE', 'KBA13_SITZE_4', 'KBA13_SITZE_5', 'KBA13_SITZE_6', 'KBA13_TOYOTA', 'KBA13_VORB_0', 'KBA13_VORB_1', 'KBA13_VORB_1_2', 'KBA13_VORB_2', 'KBA13_VORB_3', 'KBA13_VW', 'KKK', 'KOMBIALTER', 'KONSUMNAEHE', 'KONSUMZELLE', 'LP_FAMILIE_FEIN', 'LP_FAMILIE_GROB', 'LP_LEBENSPHASE_GROB', 'LP_STATUS_FEIN', 'LP_STATUS_GROB', 'MOBI_RASTER', 'MOBI_REGIO', 'NATIONALITAET_KZ', 'ONLINE_AFFINITAET', 'ORTSGR_KLS9', 'OST_WEST_KZ', 'PLZ8_ANTG1', 'PLZ8_ANTG2', 'PLZ8_ANTG3', 'PLZ8_ANTG4', 'PLZ8_BAUMAX', 'PLZ8_GBZ', 'PLZ8_HHZ', 'PRAEGENDE_JUGENDJAHRE', 'REGIOTYP', 'RELAT_AB', 'RETOURTYP_BK_S', 'RT_KEIN_ANREIZ', 'RT_SCHNAEPPCHEN', 'RT_UEBERGROESSE', 'SEMIO_DOM', 'SEMIO_ERL', 'SEMIO_FAM', 'SEMIO_KAEM', 'SEMIO_KRIT', 'SEMIO_KULT', 'SEMIO_LUST', 'SEMIO_MAT', 'SEMIO_PFLICHT', 'SEMIO_RAT', 'SEMIO_REL', 'SEMIO_SOZ', 'SEMIO_TRADV', 'SEMIO_VERT', 'SHOPPER_TYP', 'SOHO_KZ', 'STRUKTURTYP', 'TITEL_KZ', 'UMFELD_ALT', 'UMFELD_JUNG', 'UNGLEICHENN_FLAG', 'VERS_TYP', 'VHA', 'VHN', 'VK_DHT4A', 'VK_DISTANZ', 'VK_ZG11', 'W_KEIT_KIND_HH', 'WOHNDAUER_2008', 'WOHNLAGE', 'ZABEOTYP', 'ALTERSKATEGORIE_GROB']\n",
      "[[-1, 2, 3, 0, 1], [nan, 9.0, 1.0, 5.0, 8.0, 7.0, 6.0, 4.0, 3.0, 2.0], [nan, 0.0, 1.0, 2.0, 3.0, 4.0, 5.0, 6.0, 9.0, 7.0, 11.0, 8.0], [nan, 0.0, 1.0, 2.0, 4.0, 3.0, 6.0], [nan, 3.0, 2.0, 4.0, 1.0, 5.0, 9.0], [nan, 6.0, 2.0, 4.0, 3.0, 7.0, 1.0, 5.0], [nan, 8.0, 4.0, 2.0, 6.0, 1.0, 9.0, 5.0, 7.0, 3.0, '4', '3', '7', '2', '8', '9', '6', '5', '1', 'X'], [2.0, 5.0, 3.0, 4.0, 1.0, 6.0, nan], [5.0, 1.0, 2.0, 3.0, 4.0, nan], [1.0, 5.0, 4.0, 2.0, 3.0, nan], [1.0, 5.0, 4.0, 2.0, 3.0, nan], [5.0, 2.0, 1.0, 4.0, 3.0, nan], [5.0, 3.0, 4.0, 1.0, 2.0, nan], [5.0, 1.0, 2.0, 3.0, 4.0, nan], [5.0, 1.0, 2.0, 3.0, 4.0, nan], [0, 3, 1, 2, 4, 5, 6], [0, 5, 1, 2, 4, 3, 6], [10, 5, 8, 6, 9, 1, 7, 4, 2, 3], [0, 1, 6, 5, 4, 3, 7, 2], [0, 2, 6, 3, 5, 1, 4], [0, 7, 3, 6, 5, 2, 1, 4], [10, 9, 8, 2, 5, 4, 1, 6, 7, 3], [10, 5, 8, 6, 9, 1, 4, 7, 2, 3], [nan, 0.0, 10.0, 8.0, 5.0, 9.0, 7.0, 6.0, 3.0, 4.0, 2.0, 1.0], [0, 6, 5, 4, 3, 7, 2, 1], [0, 6, 5, 7, 3, 2, 4, 1], [0, 1, 6, 7, 5, 3, 4, 2], [0, 6, 3, 7, 2, 4, 5, 1], [0, 6, 7, 3, 5, 2, 4, 1], [0, 6, 5, 3, 1, 7, 4, 2], [0, 6, 7, 3, 5, 2, 4, 1], [0, 1, 6, 3, 7, 4, 5, 2], [0, 5, 3, 6, 7, 2, 1, 4], [0, 7, 3, 6, 5, 4, 1, 2], [0, 3, 6, 7, 5, 4, 2, 1], [0, 6, 1, 2, 3, 4, 5], [0, 6, 1, 2, 3, 5, 4], [10, 1, 3, 5, 9, 4, 7, 6, 8, 2], [10, 6, 8, 9, 5, 2, 4, 1, 7, 3], [10, 1, 3, 5, 9, 4, 7, 6, 8, 2], [nan, 0.0, 10.0, 7.0, 9.0, 5.0, 8.0, 6.0, 3.0, 4.0, 2.0, 1.0], [0, 6, 3, 5, 7, 4, 2, 1], [0, 5, 6, 7, 1, 3, 4, 2], [0, 6, 7, 3, 5, 2, 1, 4], [nan, 9.0, 1.0, 4.0, 3.0, 6.0, 5.0, 2.0], [9, 8, 1, 2, 3, 4], [0, 6, 3, 5, 7, 2, 4, 1], [0, 6, 7, 5, 3, 4, 1, 2], [nan, 0.0, 6.0, 7.0, 5.0, 3.0, 4.0, 2.0, 1.0], [0, 5, 6, 7, 4, 1, 2, 3], [0, 7, 6, 3, 5, 2, 4, 1], [0, 6, 7, 3, 5, 2, 4, 1], [0, 6, 1, 7, 5, 3, 2, 4], [0, 1, 3, 5, 6, 2, 7, 4], [0, 6, 4, 7, 5, 3, 2, 1], [nan, 0.0, 4.0, 5.0, 3.0, 1.0, 2.0], [0, 6, 5, 7, 3, 1, 4, 2], [0, 1, 2, 6, 3, 4, 5], [0, 1, 2, 4, 3, 6, 5], [10, 6, 9, 8, 7, 5, 4, 2, 1, 3], [0, 6, 3, 7, 4, 5, 2, 1], [10, 8, 9, 5, 6, 7, 4, 2, 3, 1], [10, 9, 7, 8, 6, 5, 4, 1, 2, 3], [nan, 0.0, 10.0, 5.0, 7.0, 3.0], [0, 5, 6, 4, 3, 7, 2, 1], [0, 6, 5, 3, 4, 7, 2, 1], [0, 6, 1, 2, 5, 3, 4], [0, 6, 2, 1, 3, 4, 5], [10, 1, 5, 9, 4, 8, 7, 6, 3, 2], [10, 9, 6, 8, 5, 2, 1, 4, 7, 3], [10, 1, 5, 9, 4, 8, 7, 6, 3, 2], [nan, 0.0, 10.0, 7.0, 5.0, 9.0, 3.0, 8.0, 6.0, 4.0, 2.0, 1.0], [0, 2, 6, 5, 3, 1, 4, 7], [0, 1, 2, 3, 4, 5, 6], [0, 3, 1, 2, 4, 5, 6], [10, 2, 8, 9, 6, 7, 5, 1, 4, 3], [10, 7, 9, 6, 4, 8, 5, 2, 3, 1], [10, 8, 9, 5, 6, 7, 4, 1, 2, 3], [nan, 0.0, 10.0, 5.0, 7.0, 8.0, 6.0, 3.0, 9.0], [0, 3, 6, 4, 5, 7, 2, 1], [0, 7, 6, 3, 2, 5, 4, 1], [0, 6, 7, 5, 3, 2, 4, 1], [nan, 1.0, 0.0], [nan, 3.0, 4.0, 2.0, 5.0, 6.0, 1.0], [5, 2, 1, 4, 3], [3, 5, 2, 4, 1], [3, 1, 4, 2, 5], [4, 5, 2, 3, 1], [5, 4, 3, 1, 2], [3, 2, 1, 5, 4], [4, 1, 6, 5, 2, 3], [nan, 2.0, 4.0, 5.0, 3.0, 1.0], [nan, 8.0, 1.0, 3.0, 2.0, 6.0, 4.0, 5.0], [nan, 3.0, 4.0, 5.0, 1.0, 2.0], [nan, 22.0, 40.0, 21.0, 12.0, 30.0, 11.0, 50.0], [10.0, 1.0, 5.0, 12.0, 9.0, 3.0, 8.0, 11.0, 4.0, 2.0, 7.0, 6.0, nan], [-1, 3, 2, 1], [nan, 0.0, 1.0], [2.0, 6.0, 4.0, 1.0, 5.0, 3.0, nan], [nan, 8.0, 4.0, 6.0, 1.0, 7.0, 3.0, 2.0, 5.0], [nan, 3.0, 2.0, 0.0, 1.0, 4.0, 9.0], [nan, 4.0, 3.0, 5.0, 2.0, 9.0, 1.0], [nan, 1.0, 3.0, 4.0, 2.0, 5.0, 9.0], [nan, 4.0, 3.0, 0.0, 5.0, 2.0, 1.0, 9.0], [nan, 0.0, 1.0, 2.0, 3.0, 9.0], [nan, 0.0, 1.0, 4.0, 2.0, 3.0], [nan, 0.0, 3.0, 1.0, 4.0, 2.0], [nan, 0.0, 1.0, 2.0, 3.0], [nan, 2.0, 0.0, 1.0], [nan, 1.0, 3.0, 4.0, 2.0, 5.0, 9.0], [nan, 5.0, 0.0, 1.0, 2.0, 3.0, 4.0], [nan, 1.0, 5.0, 2.0, 4.0, 3.0, 9.0], [nan, 5.0, 2.0, 3.0, 1.0, 4.0, 9.0], [nan, 1.0, 3.0, 5.0, 4.0, 2.0, 9.0], [nan, 4.0, 0.0, 1.0, 2.0, 3.0, 9.0], [nan, 2.0, 0.0, 3.0, 1.0, 4.0, 9.0], [nan, 4.0, 3.0, 5.0, 2.0, 1.0, 9.0], [nan, 1.0, 3.0, 4.0, 5.0, 2.0], [nan, 5.0, 2.0, 4.0, 3.0, 0.0, 1.0, 9.0], [nan, 5.0, 2.0, 3.0, 4.0, 9.0, 1.0], [nan, 2.0, 3.0, 4.0, 1.0, 0.0, 5.0, 9.0], [nan, 2.0, 1.0, 3.0, 4.0, 0.0, 5.0, 9.0], [nan, 0.0, 5.0, 3.0, 4.0, 2.0, 1.0, 9.0], [nan, 4.0, 3.0, 1.0, 2.0, 5.0, 9.0], [nan, 1.0, 3.0, 4.0, 2.0, 5.0, 9.0], [nan, 5.0, 3.0, 4.0, 2.0, 1.0, 9.0], [nan, 4.0, 2.0, 3.0, 5.0, 1.0, 9.0], [nan, 2.0, 3.0, 1.0, 4.0, 5.0, 9.0], [nan, 1.0, 3.0, 2.0, 9.0], [nan, 2.0, 1.0, 3.0, 9.0], [nan, 1.0, 2.0, 3.0, 9.0], [nan, 2.0, 3.0, 1.0, 9.0], [nan, 1.0, 3.0, 4.0, 2.0, 5.0, 9.0], [nan, 3.0, 2.0, 4.0, 5.0, 1.0, 9.0], [nan, 4.0, 2.0, 1.0, 3.0, 0.0, 9.0], [nan, 2.0, 3.0, 5.0, 1.0, 4.0, 9.0], [nan, 1.0, 4.0, 2.0, 3.0, 9.0], [nan, 2.0, 5.0, 3.0, 1.0, 4.0, 9.0], [nan, 4.0, 1.0, 2.0, 3.0, 9.0], [nan, 3.0, 1.0, 2.0, 9.0], [nan, 3.0, 0.0, 2.0, 1.0, 4.0, 9.0], [nan, 2.0, 4.0, 1.0, 3.0, 5.0, 9.0], [nan, 2.0, 5.0, 4.0, 1.0, 3.0, 9.0], [nan, 0.0, 1.0, 2.0, 4.0, 5.0, 3.0, 9.0], [nan, 0.0, 1.0, 2.0, 3.0, 9.0], [nan, 1.0, 4.0, 3.0, 5.0, 2.0, 6.0], [nan, 3.0, 1.0, 4.0, 2.0, 9.0], [nan, 0.0, 1.0, 3.0, 2.0, 9.0], [nan, 0.0, 2.0, 1.0, 3.0, 9.0], [nan, 4.0, 1.0, 3.0, 2.0, 0.0, 9.0], [nan, 1.0, 5.0, 2.0, 4.0, 3.0, 9.0], [nan, 2.0, 3.0, 5.0, 1.0, 4.0, 9.0], [nan, 2.0, 3.0, 4.0, 1.0, 5.0, 9.0], [nan, 2.0, 1.0, 0.0, 3.0, 4.0, 9.0], [nan, 1.0, 0.0, 9.0], [nan, 3.0, 0.0, 1.0, 2.0, 9.0], [nan, 3.0, 0.0, 1.0, 2.0, 9.0], [nan, 0.0, 1.0, 2.0, 3.0, 9.0], [nan, 1.0, 4.0, 2.0, 5.0, 3.0, 9.0], [nan, 1.0, 2.0, 5.0, 3.0, 4.0, 9.0], [nan, 5.0, 3.0, 1.0, 4.0, 2.0, 0.0, 9.0], [nan, 5.0, 2.0, 3.0, 4.0, 1.0, 9.0], [nan, 1.0, 3.0, 4.0, 2.0, 5.0, 9.0], [nan, 0.0, 4.0, 3.0, 2.0, 1.0, 5.0, 9.0], [nan, 2.0, 4.0, 3.0, 5.0, 1.0, 0.0, 9.0], [nan, 3.0, 2.0, 1.0, 4.0, 5.0], [nan, 2.0, 3.0, 4.0, 1.0, 5.0], [nan, 3.0, 5.0, 2.0, 4.0, 1.0], [nan, 4.0, 3.0, 2.0, 5.0, 1.0], [nan, 2.0, 1.0, 4.0, 3.0, 0.0], [nan, 4.0, 3.0, 2.0, 1.0, 0.0], [nan, 2.0, 1.0, 0.0, 3.0], [nan, 1.0, 0.0, 2.0], [nan, 4.0, 3.0, 5.0, 2.0, 1.0], [nan, 2.0, 3.0, 4.0, 5.0, 1.0, 0.0], [nan, 2.0, 1.0, 4.0, 5.0, 3.0], [nan, 3.0, 2.0, 4.0, 1.0, 5.0], [nan, 3.0, 2.0, 1.0, 4.0, 5.0], [nan, 3.0, 4.0, 2.0, 1.0, 5.0], [nan, 3.0, 5.0, 2.0, 4.0, 1.0], [nan, 3.0, 4.0, 0.0, 2.0, 5.0, 1.0], [nan, 2.0, 1.0, 3.0, 5.0, 0.0, 4.0], [nan, 3.0, 4.0, 2.0, 5.0, 1.0], [nan, 2.0, 1.0, 3.0, 5.0, 0.0, 4.0], [nan, 0.0, 1.0, 4.0, 5.0, 3.0, 2.0], [nan, 0.0, 2.0, 1.0, 4.0, 5.0, 3.0], [nan, 4.0, 2.0, 3.0, 1.0, 5.0], [nan, 3.0, 2.0, 1.0, 4.0, 5.0], [nan, 1.0, 4.0, 3.0, 5.0, 2.0], [nan, 2.0, 3.0, 1.0, 4.0, 5.0], [nan, 2.0, 4.0, 3.0, 5.0, 1.0, 0.0], [nan, 5.0, 3.0, 4.0, 2.0, 1.0], [nan, 3.0, 4.0, 0.0, 5.0, 2.0, 1.0], [nan, 3.0, 4.0, 5.0, 0.0, 2.0, 1.0], [nan, 0.0, 3.0, 5.0, 2.0, 1.0, 4.0], [nan, 5.0, 4.0, 1.0, 3.0, 2.0], [nan, 2.0, 4.0, 3.0, 1.0, 5.0], [nan, 3.0, 2.0, 1.0, 4.0, 5.0], [nan, 4.0, 3.0, 5.0, 2.0, 1.0], [nan, 2.0, 4.0, 3.0, 1.0, 5.0], [nan, 4.0, 3.0, 5.0, 2.0, 1.0], [nan, 3.0, 2.0, 4.0, 5.0, 1.0], [nan, 3.0, 2.0, 1.0, 4.0, 5.0], [nan, 3.0, 2.0, 1.0, 4.0, 5.0], [nan, 3.0, 2.0, 1.0, 4.0, 5.0], [nan, 3.0, 2.0, 1.0, 4.0, 5.0], [nan, 2.0, 3.0, 5.0, 1.0, 4.0], [nan, 2.0, 3.0, 5.0, 4.0, 1.0], [nan, 3.0, 5.0, 4.0, 2.0, 1.0], [nan, 3.0, 4.0, 2.0, 5.0, 1.0], [nan, 3.0, 4.0, 5.0, 2.0, 1.0], [nan, 4.0, 3.0, 2.0, 5.0, 1.0], [nan, 1.0, 3.0, 4.0, 2.0, 5.0], [nan, 4.0, 2.0, 3.0, 5.0, 1.0], [nan, 4.0, 3.0, 5.0, 2.0, 1.0], [nan, 4.0, 3.0, 2.0, 5.0, 1.0], [nan, 2.0, 3.0, 1.0, 4.0, 5.0], [nan, 3.0, 2.0, 1.0, 4.0, 5.0], [nan, 5.0, 4.0, 3.0, 2.0, 1.0], [nan, 3.0, 1.0, 5.0, 0.0, 4.0, 2.0], [nan, 1.0, 2.0, 3.0], [nan, 3.0, 1.0, 5.0, 2.0, 4.0], [nan, 3.0, 2.0, 1.0, 4.0, 5.0], [nan, 2.0, 1.0, 3.0, 4.0, 5.0], [nan, 4.0, 2.0, 3.0, 5.0, 1.0], [nan, 3.0, 4.0, 5.0, 2.0, 1.0, 0.0], [nan, 3.0, 4.0, 5.0, 2.0, 1.0, 0.0], [nan, 1.0, 3.0, 2.0], [nan, 2.0, 3.0, 4.0, 1.0, 5.0, 0.0], [nan, 4.0, 3.0, 2.0, 1.0, 5.0, 0.0], [nan, 3.0, 4.0, 5.0, 2.0, 1.0, 0.0], [nan, 3.0, 2.0, 4.0, 1.0, 5.0, 0.0], [nan, 2.0, 3.0, 1.0, 0.0], [nan, 2.0, 3.0, 1.0, 0.0], [nan, 2.0, 1.0, 3.0, 0.0], [nan, 1.0, 2.0, 3.0, 0.0], [nan, 3.0, 1.0, 2.0, 4.0, 5.0], [nan, 4.0, 3.0, 1.0, 5.0, 0.0, 2.0], [nan, 4.0, 3.0, 1.0, 5.0, 0.0, 2.0], [nan, 3.0, 4.0, 5.0, 2.0, 0.0, 1.0], [nan, 1.0, 2.0, 3.0], [nan, 2.0, 1.0, 4.0, 5.0, 0.0, 3.0], [nan, 4.0, 2.0, 3.0, 0.0, 1.0, 5.0], [nan, 0.0, 1.0, 2.0, 3.0, 4.0, 5.0], [nan, 3.0, 5.0, 2.0, 4.0, 1.0], [nan, 1.0, 4.0, 3.0, 2.0, 0.0, 5.0], [nan, 2.0, 4.0, 1.0, 3.0, 0.0, 5.0], [nan, 3.0, 2.0, 0.0, 4.0, 1.0, 5.0], [nan, 2.0, 3.0, 4.0, 5.0, 1.0], [nan, 4.0, 3.0, 5.0, 2.0, 1.0], [nan, 3.0, 4.0, 2.0, 1.0], [nan, 2.0, 3.0, 5.0, 4.0, 1.0], [nan, 3.0, 2.0, 4.0, 1.0, 5.0], [nan, 4.0, 3.0, 2.0, 1.0, 5.0], [nan, 3.0, 2.0, 4.0, 5.0, 1.0], [nan, 2.0, 5.0, 3.0, 4.0, 1.0], [nan, 3.0, 4.0, 1.0, 5.0, 2.0], [nan, 2.0, 3.0, 5.0, 4.0, 1.0], [nan, 2.0, 3.0, 4.0, 1.0, 5.0], [nan, 5.0, 1.0, 4.0, 3.0, 2.0], [nan, 4.0, 3.0, 2.0, 1.0, 5.0], [nan, 2.0, 3.0, 5.0, 4.0, 1.0], [nan, 3.0, 2.0, 4.0, 5.0, 1.0], [nan, 3.0, 4.0, 5.0, 2.0, 1.0], [nan, 3.0, 1.0, 4.0, 5.0, 0.0, 2.0], [nan, 2.0, 5.0, 3.0, 4.0, 1.0], [nan, 3.0, 4.0, 5.0, 1.0, 2.0, 0.0], [nan, 3.0, 5.0, 2.0, 4.0, 1.0], [nan, 4.0, 3.0, 2.0, 1.0, 5.0], [nan, 2.0, 5.0, 3.0, 4.0, 0.0, 1.0], [nan, 3.0, 4.0, 5.0, 2.0, 1.0], [nan, 3.0, 2.0, 1.0, 4.0, 5.0], [nan, 4.0, 3.0, 2.0, 5.0, 1.0], [nan, 2.0, 3.0, 4.0, 5.0, 1.0], [nan, 3.0, 4.0, 5.0, 2.0, 1.0], [nan, 3.0, 4.0, 2.0, 1.0, 5.0], [nan, 3.0, 4.0, 2.0, 1.0, 5.0], [nan, 3.0, 2.0, 4.0, 1.0, 5.0], [nan, 3.0, 2.0, 4.0, 0.0, 1.0, 5.0], [nan, 4.0, 2.0, 3.0, 5.0, 1.0], [nan, 2.0, 0.0, 3.0, 4.0, 1.0], [9, 1, 2, 4, 3], [nan, 1.0, 5.0, 4.0, 3.0, 2.0, 6.0, 7.0], [nan, 1.0, 0.0], [2.0, 5.0, 1.0, 0.0, 10.0, 7.0, 11.0, 3.0, 8.0, 4.0, 6.0, nan, 9.0], [2.0, 3.0, 1.0, 0.0, 5.0, 4.0, nan], [4.0, 6.0, 1.0, 0.0, 10.0, 2.0, 3.0, 5.0, 7.0, 12.0, 11.0, 9.0, 8.0, nan], [1.0, 2.0, 3.0, 9.0, 4.0, 10.0, 5.0, 8.0, 6.0, 7.0, nan], [1.0, 2.0, 4.0, 5.0, 3.0, nan], [nan, 1.0, 2.0, 4.0, 3.0, 5.0, 6.0], [nan, 1.0, 3.0, 4.0, 5.0, 2.0, 6.0], [0, 1, 3, 2], [1.0, 3.0, 2.0, 5.0, 4.0, 0.0, nan], [nan, 5.0, 3.0, 6.0, 4.0, 8.0, 2.0, 7.0, 9.0, 1.0, 0.0], [nan, 'W', 'O'], [nan, 2.0, 3.0, 1.0, 4.0, 0.0], [nan, 3.0, 2.0, 4.0, 1.0, 0.0], [nan, 2.0, 1.0, 3.0, 0.0], [nan, 1.0, 0.0, 2.0], [nan, 1.0, 2.0, 4.0, 5.0, 3.0], [nan, 4.0, 3.0, 5.0, 2.0, 1.0], [nan, 5.0, 4.0, 3.0, 2.0, 1.0], [0, 14, 15, 8, 3, 10, 11, 5, 9, 6, 4, 2, 1, 12, 13, 7], [nan, 3.0, 2.0, 0.0, 5.0, 1.0, 7.0, 6.0, 4.0], [nan, 4.0, 2.0, 3.0, 5.0, 1.0, 9.0], [5.0, 1.0, 3.0, 2.0, 4.0, nan], [1.0, 5.0, 3.0, 4.0, 2.0, nan], [4.0, 3.0, 2.0, 5.0, 1.0, nan], [1.0, 5.0, 3.0, 4.0, nan, 2.0, 0.0], [6, 7, 4, 2, 1, 5, 3], [3, 2, 6, 7, 4, 5, 1], [6, 4, 1, 5, 7, 2, 3], [6, 4, 7, 5, 2, 3, 1], [7, 4, 3, 1, 5, 6, 2], [3, 4, 6, 5, 7, 1, 2], [5, 2, 4, 6, 7, 3, 1], [5, 3, 1, 2, 4, 7, 6], [5, 7, 3, 4, 1, 6, 2], [4, 6, 3, 2, 7, 5, 1], [7, 4, 3, 2, 5, 1, 6], [2, 5, 4, 6, 7, 3, 1], [3, 6, 4, 2, 7, 5, 1], [1, 4, 7, 2, 6, 5, 3], [-1, 3, 2, 1, 0], [nan, 1.0, 0.0], [nan, 2.0, 3.0, 1.0], [nan, 0.0, 4.0, 1.0, 3.0, 5.0, 2.0], [nan, 3.0, 2.0, 4.0, 5.0, 1.0], [nan, 3.0, 5.0, 4.0, 2.0, 1.0], [nan, 1.0, 0.0], [-1, 2, 1], [nan, 0.0, 1.0, 5.0, 2.0, 4.0, 3.0], [nan, 4.0, 2.0, 0.0, 1.0, 3.0], [nan, 8.0, 9.0, 7.0, 3.0, 10.0, 1.0, 6.0, 4.0, 2.0, 5.0, 11.0], [nan, 11.0, 9.0, 10.0, 5.0, 7.0, 12.0, 1.0, 6.0, 13.0, 8.0, 4.0, 3.0, 2.0], [nan, 10.0, 6.0, 11.0, 4.0, 9.0, 8.0, 1.0, 3.0, 7.0, 5.0, 2.0], [nan, 3.0, 2.0, 6.0, 5.0, 4.0, 0.0, 1.0], [nan, 9.0, 8.0, 3.0, 4.0, 5.0, 6.0, 2.0, 7.0, 1.0], [nan, 4.0, 2.0, 7.0, 3.0, 5.0, 1.0, 8.0, 0.0], [3, 5, 4, 1, 6, 2], [2, 1, 3, 4, 9]]\n"
     ]
    }
   ],
   "source": [
    "#Re-encode categorical features\n",
    "cols = list(azdias.columns)\n",
    "binary_col = []\n",
    "binary_value = []\n",
    "multi_level_col = []\n",
    "multi_level_value = []\n",
    "for col in cols:\n",
    "    if len(azdias[col].unique()) ==2:\n",
    "        binary_col.append(col)\n",
    "        binary_value.append(list(azdias[col].unique()))\n",
    "    elif len(azdias[col].unique()) <=20:\n",
    "        multi_level_col.append(col) \n",
    "        multi_level_value.append(list(azdias[col].unique()))\n",
    "print(binary_col)\n",
    "print(binary_value)\n",
    "print(multi_level_col)\n",
    "print(multi_level_value)"
   ]
  },
  {
   "cell_type": "code",
   "execution_count": 33,
   "metadata": {},
   "outputs": [
    {
     "name": "stdout",
     "output_type": "stream",
     "text": [
      "CAMEO_DEU_2015 : 50428 \n",
      " ['1A', nan, '5D', '4C', '7B', '3B', '1D', '9E', '2D', '4A', '6B', '9D', '8B', '5C', '9C', '4E', '6C', '8C', '8A', '5B', '9B', '3D', '2A', '3C', '5F', '7A', '1E', '2C', '7C', '5A', '2B', '6D', '7E', '5E', '6E', '3A', '9A', '4B', '1C', '1B', '6A', '8D', '7D', '6F', '4D', 'XX'] \n",
      "\n",
      "\n",
      "CAMEO_DEUG_2015 : 50428 \n",
      " [1.0, nan, 5.0, 4.0, 7.0, 3.0, 9.0, 2.0, 6.0, 8.0, '6', '3', '8', '9', '2', '4', '1', '7', '5', 'X'] \n",
      "\n",
      "\n",
      "CAMEO_INTL_2015 : 50428 \n",
      " [13.0, nan, 34.0, 24.0, 41.0, 23.0, 15.0, 55.0, 14.0, 22.0, 43.0, 51.0, 33.0, 25.0, 44.0, 54.0, 32.0, 12.0, 35.0, 31.0, 45.0, 52.0, '45', '25', '55', '51', '14', '54', '43', '22', '15', '24', '35', '23', '12', '44', '41', '52', '31', '13', '34', '32', '33', 'XX'] \n",
      "\n",
      "\n",
      "D19_LETZTER_KAUF_BRANCHE : 47697 \n",
      " ['D19_UNBEKANNT', 'D19_BANKEN_GROSS', 'D19_NAHRUNGSERGAENZUNG', 'D19_SCHUHE', 'D19_BUCH_CD', 'D19_DROGERIEARTIKEL', 'D19_SONSTIGE', 'D19_TECHNIK', 'D19_VERSICHERUNGEN', 'D19_TELKO_MOBILE', 'D19_VOLLSORTIMENT', nan, 'D19_HAUS_DEKO', 'D19_ENERGIE', 'D19_REISEN', 'D19_BANKEN_LOKAL', 'D19_VERSAND_REST', 'D19_BEKLEIDUNG_REST', 'D19_FREIZEIT', 'D19_BEKLEIDUNG_GEH', 'D19_TELKO_REST', 'D19_SAMMELARTIKEL', 'D19_BANKEN_DIREKT', 'D19_KINDERARTIKEL', 'D19_BANKEN_REST', 'D19_LEBENSMITTEL', 'D19_GARTEN', 'D19_HANDWERK', 'D19_RATGEBER', 'D19_DIGIT_SERV', 'D19_BIO_OEKO', 'D19_BILDUNG', 'D19_WEIN_FEINKOST', 'D19_TIERARTIKEL', 'D19_LOTTO', 'D19_KOSMETIK'] \n",
      "\n",
      "\n",
      "EINGEFUEGT_AM : 49927 \n",
      " ['1992-02-12 00:00:00', nan, '1992-02-10 00:00:00', '2004-10-14 00:00:00', '1997-07-14 00:00:00', '1995-08-14 00:00:00', '2007-03-20 00:00:00', '2005-08-23 00:00:00', '1996-07-22 00:00:00', '1996-04-01 00:00:00', '1997-09-29 00:00:00', '1995-12-04 00:00:00', '2012-01-04 00:00:00', '1994-04-12 00:00:00', '2008-05-11 00:00:00', '1997-07-21 00:00:00', '2003-11-18 00:00:00', '1996-05-08 00:00:00', '1997-01-09 00:00:00', '1996-03-07 00:00:00', '1994-06-14 00:00:00', '1994-05-25 00:00:00', '1995-08-31 00:00:00', '2008-12-04 00:00:00', '2006-02-14 00:00:00', '1995-09-08 00:00:00', '1993-09-16 00:00:00', '1995-02-07 00:00:00', '1997-11-14 00:00:00', '1993-09-21 00:00:00', '2005-04-09 00:00:00', '1996-03-15 00:00:00', '2005-01-11 00:00:00', '1997-01-23 00:00:00', '2005-12-16 00:00:00', '1993-03-22 00:00:00', '1998-10-15 00:00:00', '2004-04-14 00:00:00', '1997-10-06 00:00:00', '1997-05-10 00:00:00', '2005-04-15 00:00:00', '2005-11-17 00:00:00', '2015-06-02 00:00:00', '1995-12-27 00:00:00', '1992-12-22 00:00:00', '1993-11-02 00:00:00', '1995-08-25 00:00:00', '1994-10-27 00:00:00', '1995-08-09 00:00:00', '2006-11-20 00:00:00', '1995-10-10 00:00:00', '2006-09-09 00:00:00', '1996-01-17 00:00:00', '1993-03-01 00:00:00', '1995-06-28 00:00:00', '1998-03-11 00:00:00', '1996-03-06 00:00:00', '2011-01-07 00:00:00', '2000-05-10 00:00:00', '1992-12-28 00:00:00', '2011-03-11 00:00:00', '1993-10-26 00:00:00', '2007-03-07 00:00:00', '1993-09-23 00:00:00', '1994-12-27 00:00:00', '2004-07-05 00:00:00', '1994-02-24 00:00:00', '2000-12-04 00:00:00', '1993-10-21 00:00:00', '1999-08-06 00:00:00', '1993-09-22 00:00:00', '1995-10-09 00:00:00', '1995-09-25 00:00:00', '1996-04-16 00:00:00', '1995-09-27 00:00:00', '1997-03-10 00:00:00', '1998-01-20 00:00:00', '1996-10-29 00:00:00', '2003-01-20 00:00:00', '1994-05-19 00:00:00', '1994-03-07 00:00:00', '1996-02-19 00:00:00', '1997-08-04 00:00:00', '2008-12-03 00:00:00', '2015-01-28 00:00:00', '2009-07-10 00:00:00', '1996-03-27 00:00:00', '2010-05-05 00:00:00', '1993-06-18 00:00:00', '1994-09-12 00:00:00', '1996-03-29 00:00:00', '1997-09-09 00:00:00', '1995-12-22 00:00:00', '1997-06-10 00:00:00', '1993-01-19 00:00:00', '2006-12-18 00:00:00', '1996-09-23 00:00:00', '2007-03-02 00:00:00', '1994-04-07 00:00:00', '1997-08-11 00:00:00', '1993-09-08 00:00:00', '1995-07-19 00:00:00', '1994-02-18 00:00:00', '2012-09-05 00:00:00', '1993-04-01 00:00:00', '2002-09-19 00:00:00', '1994-07-25 00:00:00', '2008-08-15 00:00:00', '1993-07-02 00:00:00', '2014-12-02 00:00:00', '2009-01-16 00:00:00', '1993-11-04 00:00:00', '2006-01-19 00:00:00', '2015-12-08 00:00:00', '2006-06-01 00:00:00', '1996-08-16 00:00:00', '1996-07-11 00:00:00', '2007-06-21 00:00:00', '1996-03-04 00:00:00', '1997-08-12 00:00:00', '1999-04-12 00:00:00', '1994-11-28 00:00:00', '1995-01-24 00:00:00', '2006-03-17 00:00:00', '1994-05-27 00:00:00', '1994-02-22 00:00:00', '1995-10-26 00:00:00', '2003-10-02 00:00:00', '1994-07-29 00:00:00', '2004-12-30 00:00:00', '1996-04-10 00:00:00', '1995-10-17 00:00:00', '1994-02-01 00:00:00', '2003-11-15 00:00:00', '2001-12-04 00:00:00', '2011-10-28 00:00:00', '1995-04-07 00:00:00', '1996-02-13 00:00:00', '1993-12-02 00:00:00', '1993-05-24 00:00:00', '2009-12-22 00:00:00', '2005-03-14 00:00:00', '1997-09-17 00:00:00', '1997-07-03 00:00:00', '2007-03-13 00:00:00', '1996-09-24 00:00:00', '1996-11-14 00:00:00', '1995-10-11 00:00:00', '1994-09-14 00:00:00', '1998-01-19 00:00:00', '1997-11-10 00:00:00', '1993-04-14 00:00:00', '1994-01-04 00:00:00', '1997-09-30 00:00:00', '2005-03-22 00:00:00', '2000-11-08 00:00:00', '1995-09-07 00:00:00', '2000-05-11 00:00:00', '1993-11-03 00:00:00', '2000-09-20 00:00:00', '1996-01-25 00:00:00', '2006-11-15 00:00:00', '1996-05-28 00:00:00', '1997-07-28 00:00:00', '1998-03-23 00:00:00', '1996-07-24 00:00:00', '1998-01-14 00:00:00', '1995-09-13 00:00:00', '2001-04-24 00:00:00', '1997-07-22 00:00:00', '1995-08-15 00:00:00', '1993-02-03 00:00:00', '2003-07-30 00:00:00', '1994-07-11 00:00:00', '2014-10-29 00:00:00', '2006-05-15 00:00:00', '1997-03-05 00:00:00', '2003-11-17 00:00:00', '1994-02-03 00:00:00', '1995-09-01 00:00:00', '1997-03-13 00:00:00', '1995-09-22 00:00:00', '2006-01-04 00:00:00', '1997-08-18 00:00:00', '1997-01-27 00:00:00', '2006-02-16 00:00:00', '1995-10-04 00:00:00', '1997-03-18 00:00:00', '2005-10-10 00:00:00', '1992-02-21 00:00:00', '1993-09-27 00:00:00', '2007-02-19 00:00:00', '1995-07-17 00:00:00', '1996-02-27 00:00:00', '1996-08-05 00:00:00', '1995-11-02 00:00:00', '1993-01-25 00:00:00', '2007-05-15 00:00:00', '1994-02-04 00:00:00', '2002-02-06 00:00:00', '1996-06-03 00:00:00', '1996-11-13 00:00:00', '2009-09-18 00:00:00', '2013-04-29 00:00:00', '2013-05-29 00:00:00', '1996-01-26 00:00:00', '1997-12-06 00:00:00', '1996-10-11 00:00:00', '1994-12-13 00:00:00', '2002-02-27 00:00:00', '1996-04-04 00:00:00', '2004-02-13 00:00:00', '1995-08-10 00:00:00', '1993-03-23 00:00:00', '1996-08-08 00:00:00', '1995-10-05 00:00:00', '1996-02-20 00:00:00', '2003-05-22 00:00:00', '1996-01-29 00:00:00', '1994-06-24 00:00:00', '1995-10-18 00:00:00', '1998-03-16 00:00:00', '1995-05-22 00:00:00', '2001-12-28 00:00:00', '2010-03-02 00:00:00', '1999-04-22 00:00:00', '1997-06-26 00:00:00', '1995-09-28 00:00:00', '2004-07-01 00:00:00', '1993-02-24 00:00:00', '1996-07-18 00:00:00', '1994-06-17 00:00:00', '1997-10-08 00:00:00', '1996-05-24 00:00:00', '2001-07-02 00:00:00', '1996-05-29 00:00:00', '1994-09-22 00:00:00', '1996-05-30 00:00:00', '1997-12-15 00:00:00', '1996-10-16 00:00:00', '2002-03-20 00:00:00', '2006-11-29 00:00:00', '1997-09-10 00:00:00', '1993-01-20 00:00:00', '1996-07-09 00:00:00', '2003-05-27 00:00:00', '1996-01-16 00:00:00', '2003-11-06 00:00:00', '1994-02-07 00:00:00', '1996-06-10 00:00:00', '2008-03-04 00:00:00', '1993-02-12 00:00:00', '1996-02-29 00:00:00', '1994-01-28 00:00:00', '2004-07-06 00:00:00', '1998-01-13 00:00:00', '2004-03-31 00:00:00', '2002-08-23 00:00:00', '1994-08-03 00:00:00', '1994-01-19 00:00:00', '2004-04-29 00:00:00', '2006-11-13 00:00:00', '1996-03-18 00:00:00', '2004-08-18 00:00:00', '2001-03-01 00:00:00', '1996-03-28 00:00:00', '1997-03-27 00:00:00', '2002-12-20 00:00:00', '1995-10-31 00:00:00', '1996-06-26 00:00:00', '2014-08-05 00:00:00', '2009-01-19 00:00:00', '1996-04-22 00:00:00', '1999-09-15 00:00:00', '1997-08-01 00:00:00', '2010-03-30 00:00:00', '2013-08-15 00:00:00', '2012-06-27 00:00:00', '1994-02-11 00:00:00', '1993-09-20 00:00:00', '1993-02-19 00:00:00', '2009-12-09 00:00:00', '2004-04-27 00:00:00', '1994-02-21 00:00:00', '2004-08-16 00:00:00', '1997-03-11 00:00:00', '1994-07-08 00:00:00', '2007-03-05 00:00:00', '1996-03-01 00:00:00', '1995-04-12 00:00:00', '2001-08-13 00:00:00', '1997-02-25 00:00:00', '1996-06-28 00:00:00', '2007-10-31 00:00:00', '1996-04-18 00:00:00', '1994-01-05 00:00:00', '2006-12-28 00:00:00', '1996-06-07 00:00:00', '1997-02-18 00:00:00', '2014-03-14 00:00:00', '2009-08-29 00:00:00', '2006-02-08 00:00:00', '1995-08-02 00:00:00', '2013-11-05 00:00:00', '2012-07-10 00:00:00', '1994-06-30 00:00:00', '2012-09-25 00:00:00', '2001-10-25 00:00:00', '1998-04-15 00:00:00', '1997-09-25 00:00:00', '2013-12-30 00:00:00', '2002-06-26 00:00:00', '1995-10-12 00:00:00', '1996-01-09 00:00:00', '2013-12-19 00:00:00', '1994-08-01 00:00:00', '1996-11-16 00:00:00', '2008-11-18 00:00:00', '1997-12-17 00:00:00', '1998-04-25 00:00:00', '2012-06-05 00:00:00', '1995-12-11 00:00:00', '1997-06-30 00:00:00', '2015-05-04 00:00:00', '2000-10-24 00:00:00', '2000-03-31 00:00:00', '1997-11-05 00:00:00', '1997-06-21 00:00:00', '2010-04-21 00:00:00', '1996-07-16 00:00:00', '1994-09-21 00:00:00', '1995-10-13 00:00:00', '2010-07-29 00:00:00', '2008-05-21 00:00:00', '2005-09-13 00:00:00', '1994-11-08 00:00:00', '1995-03-30 00:00:00', '1996-02-26 00:00:00', '1995-03-28 00:00:00', '1996-02-23 00:00:00', '2001-04-05 00:00:00', '1994-09-05 00:00:00', '2009-11-04 00:00:00', '1996-06-20 00:00:00', '2004-10-20 00:00:00', '1998-11-24 00:00:00', '1994-07-26 00:00:00', '2008-02-18 00:00:00', '1996-07-26 00:00:00', '1995-09-26 00:00:00', '2014-03-27 00:00:00', '1996-12-20 00:00:00', '2003-01-14 00:00:00', '1994-12-08 00:00:00', '1995-12-18 00:00:00', '1998-04-20 00:00:00', '2006-02-13 00:00:00', '1994-09-06 00:00:00', '1996-10-31 00:00:00', '1997-05-21 00:00:00', '1993-12-27 00:00:00', '2008-09-28 00:00:00', '1993-04-05 00:00:00', '1996-08-02 00:00:00', '1995-02-02 00:00:00', '1993-09-28 00:00:00', '1996-07-03 00:00:00', '1995-03-20 00:00:00', '1994-12-12 00:00:00', '2012-10-31 00:00:00', '2006-07-12 00:00:00', '2005-04-12 00:00:00', '1993-12-21 00:00:00', '2012-10-06 00:00:00', '2003-08-14 00:00:00', '1996-04-11 00:00:00', '1997-06-25 00:00:00', '1995-08-22 00:00:00', '2001-06-01 00:00:00', '1994-02-08 00:00:00', '2003-11-13 00:00:00', '1994-04-29 00:00:00', '2002-06-21 00:00:00', '1997-04-10 00:00:00', '1997-03-17 00:00:00', '2010-09-16 00:00:00', '2009-04-04 00:00:00', '1997-06-09 00:00:00', '1994-03-09 00:00:00', '2013-08-02 00:00:00', '1997-08-08 00:00:00', '1997-04-01 00:00:00', '1996-12-14 00:00:00', '1994-04-11 00:00:00', '1997-08-19 00:00:00', '1995-08-18 00:00:00', '1997-02-19 00:00:00', '1993-04-13 00:00:00', '1995-11-06 00:00:00', '2008-02-14 00:00:00', '1995-04-04 00:00:00', '2013-11-25 00:00:00', '1997-02-12 00:00:00', '1997-12-08 00:00:00', '2011-11-21 00:00:00', '2002-03-27 00:00:00', '2005-01-26 00:00:00', '1994-01-20 00:00:00', '2004-02-03 00:00:00', '2007-01-15 00:00:00', '2000-08-25 00:00:00', '1995-08-11 00:00:00', '2003-05-07 00:00:00', '1997-05-07 00:00:00', '1997-09-02 00:00:00', '1995-12-07 00:00:00', '1997-01-14 00:00:00', '2008-08-27 00:00:00', '1995-03-24 00:00:00', '1995-08-21 00:00:00', '2000-11-20 00:00:00', '1996-05-09 00:00:00', '2000-06-29 00:00:00', '1996-03-19 00:00:00', '1996-08-15 00:00:00', '1994-03-24 00:00:00', '2002-03-15 00:00:00', '1999-06-07 00:00:00', '2006-02-06 00:00:00', '1997-04-11 00:00:00', '1995-08-24 00:00:00', '1996-02-16 00:00:00', '1996-12-05 00:00:00', '2013-01-02 00:00:00', '2000-10-12 00:00:00', '2006-05-24 00:00:00', '1995-09-06 00:00:00', '1997-07-16 00:00:00', '1998-01-12 00:00:00', '2005-04-01 00:00:00', '2007-08-06 00:00:00', '1995-10-23 00:00:00', '2000-10-13 00:00:00', '2007-09-18 00:00:00', '1997-07-29 00:00:00', '2012-11-21 00:00:00', '2009-08-11 00:00:00', '2013-08-09 00:00:00', '1993-01-22 00:00:00', '1996-04-23 00:00:00', '1997-07-11 00:00:00', '1995-04-18 00:00:00', '1995-06-29 00:00:00', '1996-11-21 00:00:00', '1996-04-17 00:00:00', '1997-06-11 00:00:00', '2000-07-07 00:00:00', '1995-02-21 00:00:00', '1998-11-18 00:00:00', '1994-02-10 00:00:00', '1993-10-25 00:00:00', '2006-10-11 00:00:00', '1995-06-08 00:00:00', '1994-07-21 00:00:00', '1994-02-28 00:00:00', '1994-04-06 00:00:00', '1996-09-25 00:00:00', '1996-12-02 00:00:00', '1995-09-19 00:00:00', '1994-05-13 00:00:00', '1996-04-24 00:00:00', '1998-08-07 00:00:00', '2011-10-17 00:00:00', '1993-02-01 00:00:00', '2004-11-15 00:00:00', '1993-04-07 00:00:00', '1997-12-09 00:00:00', '1993-03-16 00:00:00', '1996-02-12 00:00:00', '1996-10-24 00:00:00', '1995-12-29 00:00:00', '2002-03-21 00:00:00', '1997-03-21 00:00:00', '1996-07-15 00:00:00', '2012-11-13 00:00:00', '2002-12-16 00:00:00', '1994-09-29 00:00:00', '1997-07-25 00:00:00', '1994-03-30 00:00:00', '2003-11-12 00:00:00', '1994-06-13 00:00:00', '2005-06-17 00:00:00', '2004-02-25 00:00:00', '1997-08-15 00:00:00', '1996-12-30 00:00:00', '2002-09-27 00:00:00', '2005-06-21 00:00:00', '1997-07-02 00:00:00', '2002-09-03 00:00:00', '2005-02-15 00:00:00', '1996-04-25 00:00:00', '1995-06-30 00:00:00', '1995-11-13 00:00:00', '2008-05-15 00:00:00', '1996-07-23 00:00:00', '2011-03-01 00:00:00', '2009-03-06 00:00:00', '2013-06-06 00:00:00', '1994-07-07 00:00:00', '1995-10-30 00:00:00', '1992-02-19 00:00:00', '1998-05-25 00:00:00', '2002-06-14 00:00:00', '1998-03-12 00:00:00', '2011-08-24 00:00:00', '2007-09-01 00:00:00', '1997-05-23 00:00:00', '2004-09-06 00:00:00', '2008-12-26 00:00:00', '2013-03-04 00:00:00', '2004-11-22 00:00:00', '2002-10-02 00:00:00', '1995-01-10 00:00:00', '2005-06-29 00:00:00', '2003-03-06 00:00:00', '1998-10-07 00:00:00', '1997-05-17 00:00:00', '2011-11-08 00:00:00', '2011-06-08 00:00:00', '1994-05-26 00:00:00', '1996-06-14 00:00:00', '2002-11-07 00:00:00', '1993-09-14 00:00:00', '1996-10-30 00:00:00', '2013-11-28 00:00:00', '1996-06-12 00:00:00', '1994-06-21 00:00:00', '1997-07-30 00:00:00', '1995-06-02 00:00:00', '1997-09-26 00:00:00', '2000-06-13 00:00:00', '2006-01-10 00:00:00', '1997-05-22 00:00:00', '1996-11-19 00:00:00', '2015-02-03 00:00:00', '1996-08-12 00:00:00', '1996-05-31 00:00:00', '1997-04-17 00:00:00', '1996-05-02 00:00:00', '2014-02-10 00:00:00', '1995-10-19 00:00:00', '2010-11-08 00:00:00', '2013-01-03 00:00:00', '2009-05-06 00:00:00', '1994-06-20 00:00:00', '1996-03-26 00:00:00', '1995-11-28 00:00:00', '2010-02-17 00:00:00', '2008-11-01 00:00:00', '1995-06-21 00:00:00', '2012-10-19 00:00:00', '2008-12-11 00:00:00', '1998-02-10 00:00:00', '1997-07-18 00:00:00', '1994-11-02 00:00:00', '1997-03-26 00:00:00', '1995-12-13 00:00:00', '1994-02-16 00:00:00', '1994-03-10 00:00:00', '2006-04-07 00:00:00', '2014-10-01 00:00:00', '2010-09-26 00:00:00', '1995-02-20 00:00:00', '1995-05-15 00:00:00', '2008-12-18 00:00:00', '1996-08-14 00:00:00', '1997-11-22 00:00:00', '1996-05-13 00:00:00', '1996-07-17 00:00:00', '2010-06-08 00:00:00', '1994-12-20 00:00:00', '1994-08-05 00:00:00', '2012-11-26 00:00:00', '1993-01-06 00:00:00', '1998-07-14 00:00:00', '2004-08-14 00:00:00', '1995-08-07 00:00:00', '2003-03-07 00:00:00', '1994-05-20 00:00:00', '1996-09-30 00:00:00', '2010-12-16 00:00:00', '2003-12-01 00:00:00', '2011-10-14 00:00:00', '2003-08-12 00:00:00', '2000-09-19 00:00:00', '2008-11-13 00:00:00', '1997-09-18 00:00:00', '1997-08-21 00:00:00', '1996-10-10 00:00:00', '2000-07-04 00:00:00', '1997-07-07 00:00:00', '2005-06-20 00:00:00', '1997-08-25 00:00:00', '2001-06-19 00:00:00', '1997-10-13 00:00:00', '1996-10-02 00:00:00', '1996-02-14 00:00:00', '1998-09-21 00:00:00', '1998-01-06 00:00:00', '1996-04-30 00:00:00', '2011-05-05 00:00:00', '1994-06-15 00:00:00', '1994-02-15 00:00:00', '1994-07-13 00:00:00', '2004-08-19 00:00:00', '2004-11-25 00:00:00', '2013-04-30 00:00:00', '2003-05-16 00:00:00', '1995-12-28 00:00:00', '2012-02-07 00:00:00', '1994-02-23 00:00:00', '1996-07-12 00:00:00', '1999-08-10 00:00:00', '2006-08-15 00:00:00', '1997-06-02 00:00:00', '1998-09-22 00:00:00', '1996-05-23 00:00:00', '2013-05-21 00:00:00', '1995-07-27 00:00:00', '1997-10-07 00:00:00', '1993-06-04 00:00:00', '2011-08-16 00:00:00', '2003-08-17 00:00:00', '1994-10-26 00:00:00', '1997-02-20 00:00:00', '1998-05-02 00:00:00', '1995-07-20 00:00:00', '1995-08-03 00:00:00', '1996-02-09 00:00:00', '1994-01-21 00:00:00', '2002-06-19 00:00:00', '2014-03-06 00:00:00', '1996-06-24 00:00:00', '1996-05-14 00:00:00', '1997-01-22 00:00:00', '1995-12-12 00:00:00', '1998-08-05 00:00:00', '2003-08-04 00:00:00', '1993-10-29 00:00:00', '2003-04-16 00:00:00', '1994-07-20 00:00:00', '1995-03-14 00:00:00', '1996-11-27 00:00:00', '1996-03-13 00:00:00', '1996-04-03 00:00:00', '1994-08-29 00:00:00', '2007-08-31 00:00:00', '1995-10-24 00:00:00', '1996-10-14 00:00:00', '1996-05-17 00:00:00', '1994-02-02 00:00:00', '1995-04-10 00:00:00', '1996-03-12 00:00:00', '2006-03-21 00:00:00', '1994-08-02 00:00:00', '2011-07-31 00:00:00', '1992-12-30 00:00:00', '1997-01-24 00:00:00', '1993-09-09 00:00:00', '2004-09-23 00:00:00', '1996-05-22 00:00:00', '1994-07-28 00:00:00', '1995-02-27 00:00:00', '1995-03-29 00:00:00', '2003-12-30 00:00:00', '1994-09-01 00:00:00', '2002-01-31 00:00:00', '1995-04-06 00:00:00', '2002-06-27 00:00:00', '1998-08-10 00:00:00', '2002-09-18 00:00:00', '2005-01-17 00:00:00', '2004-06-04 00:00:00', '1995-11-23 00:00:00', '1998-05-18 00:00:00', '2002-08-09 00:00:00', '1995-03-21 00:00:00', '1994-03-21 00:00:00', '1997-07-09 00:00:00', '1995-11-14 00:00:00', '2004-07-15 00:00:00', '1995-03-31 00:00:00', '2003-07-18 00:00:00', '2012-05-22 00:00:00', '2011-03-25 00:00:00', '1996-10-08 00:00:00', '1997-03-25 00:00:00', '1993-04-02 00:00:00', '2015-09-22 00:00:00', '2014-01-21 00:00:00', '2014-06-16 00:00:00', '2001-08-09 00:00:00', '1994-09-27 00:00:00', '1994-08-15 00:00:00', '1996-06-27 00:00:00', '1995-11-17 00:00:00', '1993-12-08 00:00:00', '2002-01-10 00:00:00', '2006-09-14 00:00:00', '1995-11-30 00:00:00', '1996-06-25 00:00:00', '1995-01-09 00:00:00', '2007-01-30 00:00:00', '1998-04-07 00:00:00', '1997-06-06 00:00:00', '1994-07-18 00:00:00', '1997-01-18 00:00:00', '1995-04-21 00:00:00', '1994-08-31 00:00:00', '1994-07-12 00:00:00', '1997-06-05 00:00:00', '2000-11-10 00:00:00', '1996-10-18 00:00:00', '1995-03-22 00:00:00', '1997-10-22 00:00:00', '2008-01-11 00:00:00', '1995-08-17 00:00:00', '1997-06-28 00:00:00', '1993-12-10 00:00:00', '1993-09-29 00:00:00', '2004-04-06 00:00:00', '1994-01-03 00:00:00', '2000-10-23 00:00:00', '2006-10-27 00:00:00', '1997-09-05 00:00:00', '2010-08-27 00:00:00', '1996-01-23 00:00:00', '1996-02-15 00:00:00', '1997-04-02 00:00:00', '1995-09-04 00:00:00', '1996-02-22 00:00:00', '2004-07-19 00:00:00', '1995-11-07 00:00:00', '1993-02-02 00:00:00', '2008-04-23 00:00:00', '1993-01-27 00:00:00', '1996-01-05 00:00:00', '2009-05-05 00:00:00', '2007-11-20 00:00:00', '1996-03-14 00:00:00', '1994-06-16 00:00:00', '1997-01-31 00:00:00', '1994-11-21 00:00:00', '2000-08-02 00:00:00', '2014-02-26 00:00:00', '2003-09-04 00:00:00', '2006-10-16 00:00:00', '1996-05-15 00:00:00', '2003-07-24 00:00:00', '2007-05-02 00:00:00', '2007-12-13 00:00:00', '1995-09-05 00:00:00', '1997-10-20 00:00:00', '2000-08-14 00:00:00', '1998-12-23 00:00:00', '1996-07-04 00:00:00', '1997-03-19 00:00:00', '1995-07-18 00:00:00', '1995-11-10 00:00:00', '2015-09-03 00:00:00', '2013-03-08 00:00:00', '1997-05-03 00:00:00', '1994-08-26 00:00:00', '1997-02-01 00:00:00', '1997-03-12 00:00:00', '2009-03-10 00:00:00', '1995-07-05 00:00:00', '1997-06-27 00:00:00', '2006-12-04 00:00:00', '1995-04-11 00:00:00', '1998-08-12 00:00:00', '1996-02-08 00:00:00', '2006-11-21 00:00:00', '2009-08-24 00:00:00', '1997-01-17 00:00:00', '2012-12-04 00:00:00', '1997-04-14 00:00:00', '1998-06-29 00:00:00', '1994-11-11 00:00:00', '1997-01-10 00:00:00', '2004-09-27 00:00:00', '2002-10-31 00:00:00', '1996-12-03 00:00:00', '2008-06-05 00:00:00', '1995-08-16 00:00:00', '1995-08-28 00:00:00', '1998-02-25 00:00:00', '2003-06-18 00:00:00', '1997-11-12 00:00:00', '1994-05-09 00:00:00', '1994-03-28 00:00:00', '1993-12-23 00:00:00', '2012-07-30 00:00:00', '1995-04-19 00:00:00', '2000-10-04 00:00:00', '2014-08-28 00:00:00', '2005-08-08 00:00:00', '1995-05-23 00:00:00', '2005-08-30 00:00:00', '1996-04-02 00:00:00', '1993-04-16 00:00:00', '1995-10-16 00:00:00', '1994-04-05 00:00:00', '2000-10-11 00:00:00', '1998-11-17 00:00:00', '1996-03-11 00:00:00', '1994-09-15 00:00:00', '2000-11-07 00:00:00', '1996-11-12 00:00:00', '1997-10-29 00:00:00', '2009-08-07 00:00:00', '1995-03-23 00:00:00', '2000-08-08 00:00:00', '2002-02-26 00:00:00', '1999-01-18 00:00:00', '2004-04-15 00:00:00', '2009-12-08 00:00:00', '1993-01-08 00:00:00', '2009-08-05 00:00:00', '1997-10-21 00:00:00', '2003-01-06 00:00:00', '1996-09-27 00:00:00', '1997-09-24 00:00:00', '2007-11-08 00:00:00', '1997-01-25 00:00:00', '2006-01-18 00:00:00', '2013-07-29 00:00:00', '2003-11-27 00:00:00', '2004-06-30 00:00:00', '2008-03-11 00:00:00', '2009-02-04 00:00:00', '2009-01-14 00:00:00', '2004-02-17 00:00:00', '1993-05-28 00:00:00', '2003-02-18 00:00:00', '1997-07-17 00:00:00', '2002-01-15 00:00:00', '1993-12-28 00:00:00', '2003-01-17 00:00:00', '2001-01-18 00:00:00', '1995-05-12 00:00:00', '1994-06-10 00:00:00', '2002-03-25 00:00:00', '1996-04-29 00:00:00', '1997-02-24 00:00:00', '1996-03-25 00:00:00', '1996-01-24 00:00:00', '2009-03-09 00:00:00', '2007-12-11 00:00:00', '2014-09-01 00:00:00', '2015-05-27 00:00:00', '1995-05-18 00:00:00', '1997-02-17 00:00:00', '1999-04-07 00:00:00', '1997-08-26 00:00:00', '2007-06-19 00:00:00', '2003-08-29 00:00:00', '2009-02-03 00:00:00', '2000-07-05 00:00:00', '1995-04-03 00:00:00', '1996-06-13 00:00:00', '1995-03-16 00:00:00', '2005-09-14 00:00:00', '2011-04-28 00:00:00', '2002-07-29 00:00:00', '2003-09-24 00:00:00', '1994-03-29 00:00:00', '1997-08-05 00:00:00', '2002-10-29 00:00:00', '1997-05-15 00:00:00', '1994-04-13 00:00:00', '1994-08-04 00:00:00', '1994-07-14 00:00:00', '1996-12-13 00:00:00', '1995-10-02 00:00:00', '2006-05-18 00:00:00', '2014-10-12 00:00:00', '2003-09-01 00:00:00', '2002-11-08 00:00:00', '1997-09-08 00:00:00', '2002-04-09 00:00:00', '1995-09-14 00:00:00', '1996-10-09 00:00:00', '1993-01-28 00:00:00', '2006-09-13 00:00:00', '1995-07-12 00:00:00', '2001-05-30 00:00:00', '2003-11-20 00:00:00', '1998-07-22 00:00:00', '2015-04-01 00:00:00', '2004-05-25 00:00:00', '2002-12-05 00:00:00', '1995-08-08 00:00:00', '1997-08-27 00:00:00', '2004-02-27 00:00:00', '2012-12-11 00:00:00', '1997-09-01 00:00:00', '2006-05-12 00:00:00', '1997-10-25 00:00:00', '2005-07-18 00:00:00', '1997-01-02 00:00:00', '1996-12-27 00:00:00', '2011-06-22 00:00:00', '2013-11-26 00:00:00', '1995-09-21 00:00:00', '1998-04-21 00:00:00', '1996-03-22 00:00:00', '1997-08-13 00:00:00', '1996-04-15 00:00:00', '1997-04-15 00:00:00', '2014-01-29 00:00:00', '1993-06-25 00:00:00', '1994-08-11 00:00:00', '1996-08-07 00:00:00', '1994-12-07 00:00:00', '1998-11-19 00:00:00', '2003-02-14 00:00:00', '2003-11-03 00:00:00', '2000-12-11 00:00:00', '1993-02-10 00:00:00', '1997-03-24 00:00:00', '2014-08-27 00:00:00', '2002-04-11 00:00:00', '1998-02-16 00:00:00', '2007-11-28 00:00:00', '2003-10-15 00:00:00', '1997-11-25 00:00:00', '2011-06-09 00:00:00', '2002-03-01 00:00:00', '2011-01-03 00:00:00', '1995-05-24 00:00:00', '1998-01-16 00:00:00', '2005-10-06 00:00:00', '2011-01-04 00:00:00', '2000-12-08 00:00:00', '2010-11-30 00:00:00', '1994-03-25 00:00:00', '1995-04-28 00:00:00', '2008-11-27 00:00:00', '1996-01-08 00:00:00', '1996-10-01 00:00:00', '2009-02-12 00:00:00', '1997-11-24 00:00:00', '2003-03-25 00:00:00', '1994-01-25 00:00:00', '1997-04-04 00:00:00', '1995-11-15 00:00:00', '1997-07-01 00:00:00', '1999-05-10 00:00:00', '1996-10-21 00:00:00', '1993-07-12 00:00:00', '2012-05-24 00:00:00', '2007-11-01 00:00:00', '2002-01-28 00:00:00', '1996-05-10 00:00:00', '2000-09-22 00:00:00', '2016-01-04 00:00:00', '1996-03-21 00:00:00', '1998-08-19 00:00:00', '1995-02-15 00:00:00', '1996-10-15 00:00:00', '1994-08-09 00:00:00', '1995-01-20 00:00:00', '2004-05-04 00:00:00', '2002-03-18 00:00:00', '1998-03-20 00:00:00', '1993-05-21 00:00:00', '2011-01-27 00:00:00', '1995-12-19 00:00:00', '2002-01-16 00:00:00', '2004-07-09 00:00:00', '2002-09-25 00:00:00', '1998-07-13 00:00:00', '2007-08-14 00:00:00', '2014-09-08 00:00:00', '1993-12-20 00:00:00', '2014-07-29 00:00:00', '2003-09-08 00:00:00', '1998-02-12 00:00:00', '1998-04-02 00:00:00', '1994-02-25 00:00:00', '1996-03-20 00:00:00', '2004-01-29 00:00:00', '2000-08-16 00:00:00', '1994-11-04 00:00:00', '1994-08-16 00:00:00', '1997-12-01 00:00:00', '1993-04-06 00:00:00', '2004-05-24 00:00:00', '1997-09-22 00:00:00', '2002-03-11 00:00:00', '1996-06-19 00:00:00', '2009-06-26 00:00:00', '1996-07-29 00:00:00', '2003-07-22 00:00:00', '2002-04-22 00:00:00', '2001-04-11 00:00:00', '2002-05-14 00:00:00', '1997-04-16 00:00:00', '1997-10-10 00:00:00', '2000-08-10 00:00:00', '2002-05-07 00:00:00', '2009-01-21 00:00:00', '2001-11-12 00:00:00', '1997-10-02 00:00:00', '2012-05-31 00:00:00', '2003-02-27 00:00:00', '1997-12-16 00:00:00', '2001-10-11 00:00:00', '1997-11-18 00:00:00', '1996-11-04 00:00:00', '2003-09-16 00:00:00', '2005-03-17 00:00:00', '2005-12-15 00:00:00', '2005-08-01 00:00:00', '2002-07-09 00:00:00', '1994-09-08 00:00:00', '1997-01-03 00:00:00', '2013-09-30 00:00:00', '2002-11-11 00:00:00', '1995-08-04 00:00:00', '1995-01-19 00:00:00', '1995-11-24 00:00:00', '1996-01-02 00:00:00', '2015-07-09 00:00:00', '1996-03-05 00:00:00', '2001-06-26 00:00:00', '1994-07-27 00:00:00', '1997-05-12 00:00:00', '1997-03-04 00:00:00', '2001-03-02 00:00:00', '2000-07-06 00:00:00', '2010-10-05 00:00:00', '2003-08-08 00:00:00', '2004-10-10 00:00:00', '2009-02-10 00:00:00', '1996-11-06 00:00:00', '2004-08-07 00:00:00', '2004-08-02 00:00:00', '2005-03-23 00:00:00', '2000-07-11 00:00:00', '2002-10-16 00:00:00', '2000-10-05 00:00:00', '1997-06-12 00:00:00', '2007-08-21 00:00:00', '2003-10-22 00:00:00', '2001-05-18 00:00:00', '2000-06-27 00:00:00', '1993-09-15 00:00:00', '2004-06-08 00:00:00', '2003-03-21 00:00:00', '1993-10-07 00:00:00', '2007-05-11 00:00:00', '2005-04-07 00:00:00', '2008-03-17 00:00:00', '2015-04-24 00:00:00', '1997-03-07 00:00:00', '1995-05-11 00:00:00', '2003-10-01 00:00:00', '1997-08-28 00:00:00', '2011-05-03 00:00:00', '1996-02-21 00:00:00', '1995-03-02 00:00:00', '2006-01-13 00:00:00', '1994-09-02 00:00:00', '1998-06-02 00:00:00', '2009-09-01 00:00:00', '2008-04-08 00:00:00', '2002-04-12 00:00:00', '2008-02-08 00:00:00', '1998-04-06 00:00:00', '1998-10-06 00:00:00', '2000-10-17 00:00:00', '1999-07-12 00:00:00', '2003-03-19 00:00:00', '2010-08-09 00:00:00', '2004-04-28 00:00:00', '2002-02-18 00:00:00', '2000-09-14 00:00:00', '1995-12-14 00:00:00', '2002-03-14 00:00:00', '1998-10-13 00:00:00', '2006-07-11 00:00:00', '2007-05-14 00:00:00', '1993-08-31 00:00:00', '1994-02-17 00:00:00', '2014-09-26 00:00:00', '2005-08-02 00:00:00', '2009-05-27 00:00:00', '2014-05-09 00:00:00', '1993-01-29 00:00:00', '1996-07-31 00:00:00', '1996-04-26 00:00:00', '2005-11-21 00:00:00', '1998-03-09 00:00:00', '1999-02-10 00:00:00', '1994-08-30 00:00:00', '1995-02-14 00:00:00', '1994-03-15 00:00:00', '1997-10-30 00:00:00', '1996-07-08 00:00:00', '1999-04-19 00:00:00', '1996-12-11 00:00:00', '2006-10-05 00:00:00', '1993-07-01 00:00:00', '1994-12-05 00:00:00', '2003-06-22 00:00:00', '1996-11-28 00:00:00', '1995-02-03 00:00:00', '2006-07-20 00:00:00', '1995-07-24 00:00:00', '2006-09-26 00:00:00', '1995-05-19 00:00:00', '2012-06-01 00:00:00', '1993-11-27 00:00:00', '2014-09-02 00:00:00', '1994-09-19 00:00:00', '2002-06-24 00:00:00', '1996-11-20 00:00:00', '2003-01-08 00:00:00', '1997-11-29 00:00:00', '1994-12-15 00:00:00', '1996-07-30 00:00:00', '1995-04-13 00:00:00', '1994-11-22 00:00:00', '1996-07-25 00:00:00', '2011-09-09 00:00:00', '2014-03-03 00:00:00', '2003-01-22 00:00:00', '1997-08-14 00:00:00', '2002-03-22 00:00:00', '2011-10-05 00:00:00', '2008-01-21 00:00:00', '1996-12-04 00:00:00', '1993-02-26 00:00:00', '2007-06-20 00:00:00', '1995-01-26 00:00:00', '2006-07-10 00:00:00', '2011-11-15 00:00:00', '2008-07-24 00:00:00', '2004-01-26 00:00:00', '2006-02-07 00:00:00', '2004-10-05 00:00:00', '1995-07-31 00:00:00', '1995-11-09 00:00:00', '1999-04-20 00:00:00', '1997-02-07 00:00:00', '2007-01-26 00:00:00', '2009-10-05 00:00:00', '1995-09-29 00:00:00', '1996-06-17 00:00:00', '2003-12-12 00:00:00', '1994-03-08 00:00:00', '2002-03-05 00:00:00', '2006-04-28 00:00:00', '1996-11-25 00:00:00', '2008-02-27 00:00:00', '2009-07-20 00:00:00', '1993-09-06 00:00:00', '2003-05-13 00:00:00', '1994-09-09 00:00:00', '2003-09-20 00:00:00', '1998-03-05 00:00:00', '1997-05-26 00:00:00', '2011-07-04 00:00:00', '2000-08-15 00:00:00', '1999-02-05 00:00:00', '1997-07-23 00:00:00', '1996-09-26 00:00:00', '1998-01-05 00:00:00', '1997-07-10 00:00:00', '1997-03-06 00:00:00', '2000-08-07 00:00:00', '2005-02-24 00:00:00', '2002-04-26 00:00:00', '1996-12-18 00:00:00', '2005-12-19 00:00:00', '1995-10-20 00:00:00', '2008-11-11 00:00:00', '2008-10-29 00:00:00', '2001-02-14 00:00:00', '2014-05-14 00:00:00', '2005-01-29 00:00:00', '1993-10-05 00:00:00', '1993-07-15 00:00:00', '2006-06-29 00:00:00', '2002-03-07 00:00:00', '1995-06-07 00:00:00', '2002-03-06 00:00:00', '1998-03-19 00:00:00', '2001-05-23 00:00:00', '1994-05-06 00:00:00', '2003-01-23 00:00:00', '2008-01-10 00:00:00', '2013-02-04 00:00:00', '1998-10-08 00:00:00', '2013-02-27 00:00:00', '2007-06-12 00:00:00', '2004-04-22 00:00:00', '2004-04-05 00:00:00', '2001-10-04 00:00:00', '2001-06-06 00:00:00', '2003-09-07 00:00:00', '1997-10-16 00:00:00', '2012-02-29 00:00:00', '1995-08-23 00:00:00', '2003-06-17 00:00:00', '1999-06-16 00:00:00', '1996-11-08 00:00:00', '1995-02-10 00:00:00', '2003-08-07 00:00:00', '1998-07-28 00:00:00', '2004-11-19 00:00:00', '1998-07-27 00:00:00', '2010-03-05 00:00:00', '2006-08-16 00:00:00', '2012-02-13 00:00:00', '2002-09-24 00:00:00', '1994-04-14 00:00:00', '2007-06-15 00:00:00', '2000-08-29 00:00:00', '2010-05-10 00:00:00', '1993-04-03 00:00:00', '2002-06-20 00:00:00', '2002-06-17 00:00:00', '2001-11-20 00:00:00', '1997-05-14 00:00:00', '2007-11-29 00:00:00', '1994-03-23 00:00:00', '1993-04-15 00:00:00', '2000-04-07 00:00:00', '2002-05-15 00:00:00', '2012-08-07 00:00:00', '2002-02-04 00:00:00', '1995-02-24 00:00:00', '1993-07-06 00:00:00', '1996-07-05 00:00:00', '2003-07-12 00:00:00', '2008-01-25 00:00:00', '2005-04-22 00:00:00', '1995-03-15 00:00:00', '2004-03-22 00:00:00', '2007-05-03 00:00:00', '2010-02-12 00:00:00', '1999-01-15 00:00:00', '2003-04-10 00:00:00', '1993-06-08 00:00:00', '2002-08-21 00:00:00', '1994-08-17 00:00:00', '2001-05-17 00:00:00', '1994-06-03 00:00:00', '2012-10-05 00:00:00', '1998-09-09 00:00:00', '2015-08-04 00:00:00', '1993-08-23 00:00:00', '1997-05-27 00:00:00', '1995-02-23 00:00:00', '2000-06-26 00:00:00', '1996-10-28 00:00:00', '1994-06-01 00:00:00', '2003-10-23 00:00:00', '2005-10-05 00:00:00', '2004-04-02 00:00:00', '2015-11-02 00:00:00', '1999-01-20 00:00:00', '2015-05-12 00:00:00', '2003-02-10 00:00:00', '2008-07-02 00:00:00', '2015-09-02 00:00:00', '2015-09-21 00:00:00', '1996-01-15 00:00:00', '2010-11-15 00:00:00', '1998-02-11 00:00:00', '2003-03-18 00:00:00', '1996-09-18 00:00:00', '1996-08-01 00:00:00', '2000-03-22 00:00:00', '2007-04-30 00:00:00', '2005-12-14 00:00:00', '2000-11-17 00:00:00', '2008-06-09 00:00:00', '2015-10-07 00:00:00', '1994-01-24 00:00:00', '2013-02-22 00:00:00', '2009-07-01 00:00:00', '2002-11-18 00:00:00', '2003-11-10 00:00:00', '1996-03-08 00:00:00', '2002-12-02 00:00:00', '2008-05-06 00:00:00', '2005-05-06 00:00:00', '2010-11-22 00:00:00', '2010-02-04 00:00:00', '1998-12-14 00:00:00', '1997-03-14 00:00:00', '2000-05-19 00:00:00', '1993-06-07 00:00:00', '1997-02-26 00:00:00', '1996-04-19 00:00:00', '2008-06-16 00:00:00', '1998-09-23 00:00:00', '2002-10-10 00:00:00', '1998-03-13 00:00:00', '2003-01-02 00:00:00', '2010-05-19 00:00:00', '2012-10-29 00:00:00', '2011-02-02 00:00:00', '1998-01-23 00:00:00', '1998-04-29 00:00:00', '2003-03-12 00:00:00', '2003-05-05 00:00:00', '1999-11-11 00:00:00', '2002-03-08 00:00:00', '2006-10-31 00:00:00', '2002-07-26 00:00:00', '1995-01-11 00:00:00', '2005-12-05 00:00:00', '1999-04-21 00:00:00', '2000-06-28 00:00:00', '2003-09-02 00:00:00', '2008-12-08 00:00:00', '1998-07-29 00:00:00', '1996-08-06 00:00:00', '2003-03-13 00:00:00', '1994-01-17 00:00:00', '2009-02-20 00:00:00', '1996-01-04 00:00:00', '2003-11-19 00:00:00', '1996-10-23 00:00:00', '2003-07-01 00:00:00', '1993-03-20 00:00:00', '2005-01-19 00:00:00', '2004-12-12 00:00:00', '2001-08-14 00:00:00', '2007-06-25 00:00:00', '1997-11-17 00:00:00', '2007-06-05 00:00:00', '2007-05-08 00:00:00', '2012-05-29 00:00:00', '2002-05-21 00:00:00', '2013-06-28 00:00:00', '2012-05-10 00:00:00', '2000-06-30 00:00:00', '1995-04-27 00:00:00', '1993-12-16 00:00:00', '1994-06-09 00:00:00', '1997-04-24 00:00:00', '1998-07-08 00:00:00', '2001-03-21 00:00:00', '2005-12-07 00:00:00', '1998-02-18 00:00:00', '2013-09-05 00:00:00', '1996-08-09 00:00:00', '1998-02-20 00:00:00', '1999-08-04 00:00:00', '2000-08-30 00:00:00', '2014-08-07 00:00:00', '2009-03-12 00:00:00', '1994-03-22 00:00:00', '2002-10-07 00:00:00', '2012-08-13 00:00:00', '2010-05-27 00:00:00', '2010-08-02 00:00:00', '2003-07-10 00:00:00', '2000-03-30 00:00:00', '2002-06-13 00:00:00', '1993-06-30 00:00:00', '2004-11-09 00:00:00', '2004-07-27 00:00:00', '1995-07-25 00:00:00', '2010-06-30 00:00:00', '1997-12-18 00:00:00', '2006-07-18 00:00:00', '1995-11-16 00:00:00', '2003-06-06 00:00:00', '1994-12-23 00:00:00', '2000-11-09 00:00:00', '2014-10-24 00:00:00', '2002-04-03 00:00:00', '2003-09-25 00:00:00', '1998-04-01 00:00:00', '2013-12-03 00:00:00', '1995-11-27 00:00:00', '1998-08-24 00:00:00', '1996-04-09 00:00:00', '2013-12-17 00:00:00', '2006-09-28 00:00:00', '2009-08-04 00:00:00', '2003-07-31 00:00:00', '1996-05-20 00:00:00', '2014-09-24 00:00:00', '1998-02-23 00:00:00', '1994-02-14 00:00:00', '2002-03-19 00:00:00', '2000-04-20 00:00:00', '2003-07-28 00:00:00', '1996-05-03 00:00:00', '1996-05-21 00:00:00', '2010-01-06 00:00:00', '1997-03-03 00:00:00', '2009-06-22 00:00:00', '1997-08-20 00:00:00', '2009-08-19 00:00:00', '2002-07-15 00:00:00', '1996-02-28 00:00:00', '2012-12-17 00:00:00', '2000-11-13 00:00:00', '1999-07-21 00:00:00', '1995-11-22 00:00:00', '2010-06-21 00:00:00', '2001-07-06 00:00:00', '1996-10-22 00:00:00', '2015-09-25 00:00:00', '2006-09-06 00:00:00', '2002-06-10 00:00:00', '1995-08-30 00:00:00', '2002-05-29 00:00:00', '2011-08-02 00:00:00', '1994-09-07 00:00:00', '1997-12-27 00:00:00', '1998-03-31 00:00:00', '2004-05-27 00:00:00', '1994-04-08 00:00:00', '1995-07-28 00:00:00', '1998-04-17 00:00:00', '2009-09-24 00:00:00', '2008-06-29 00:00:00', '1997-11-03 00:00:00', '2000-02-24 00:00:00', '2008-08-12 00:00:00', '2009-05-29 00:00:00', '1998-08-04 00:00:00', '1997-09-23 00:00:00', '2001-03-14 00:00:00', '2002-08-14 00:00:00', '2000-05-04 00:00:00', '2009-10-06 00:00:00', '2013-04-25 00:00:00', '2001-06-13 00:00:00', '1997-06-13 00:00:00', '1997-10-24 00:00:00', '1997-08-29 00:00:00', '1998-12-28 00:00:00', '2007-01-12 00:00:00', '2003-07-25 00:00:00', '1995-06-06 00:00:00', '2007-11-16 00:00:00', '1996-10-25 00:00:00', '2007-12-10 00:00:00', '2002-07-23 00:00:00', '2004-10-15 00:00:00', '2003-11-11 00:00:00', '1997-02-27 00:00:00', '2004-03-26 00:00:00', '2013-03-13 00:00:00', '2005-07-07 00:00:00', '2006-10-24 00:00:00', '2004-04-21 00:00:00', '2010-06-26 00:00:00', '2011-04-29 00:00:00', '1993-06-02 00:00:00', '2006-08-25 00:00:00', '1997-08-06 00:00:00', '2002-12-09 00:00:00', '2011-09-30 00:00:00', '1999-02-02 00:00:00', '1998-05-13 00:00:00', '2004-08-21 00:00:00', '1996-12-23 00:00:00', '2005-01-14 00:00:00', '1998-02-27 00:00:00', '1994-05-24 00:00:00', '2010-12-17 00:00:00', '2014-09-18 00:00:00', '2009-03-11 00:00:00', '2012-05-03 00:00:00', '1998-07-24 00:00:00', '2012-03-29 00:00:00', '2002-01-17 00:00:00', '2003-12-22 00:00:00', '2003-06-25 00:00:00', '2005-12-09 00:00:00', '1995-07-04 00:00:00', '2009-04-21 00:00:00', '1997-11-08 00:00:00', '1998-11-09 00:00:00', '2003-03-05 00:00:00', '1996-06-11 00:00:00', '2006-09-22 00:00:00', '2004-05-07 00:00:00', '2008-10-27 00:00:00', '2005-02-25 00:00:00', '1997-05-05 00:00:00', '2001-09-19 00:00:00', '2012-08-01 00:00:00', '2013-09-12 00:00:00', '1995-09-12 00:00:00', '2015-04-09 00:00:00', '1996-08-13 00:00:00', '2001-05-04 00:00:00', '2002-09-20 00:00:00', '2004-06-23 00:00:00', '2002-01-04 00:00:00', '2001-10-12 00:00:00', '1994-11-07 00:00:00', '2002-12-10 00:00:00', '2015-01-06 00:00:00', '2015-01-07 00:00:00', '2007-09-06 00:00:00', '1997-04-09 00:00:00', '2004-01-19 00:00:00', '2003-10-21 00:00:00', '1995-09-20 00:00:00', '1995-04-05 00:00:00', '2009-09-10 00:00:00', '2012-01-31 00:00:00', '2001-06-12 00:00:00', '2016-02-11 00:00:00', '2001-02-20 00:00:00', '2002-12-18 00:00:00', '2015-04-17 00:00:00', '2002-02-13 00:00:00', '1997-02-05 00:00:00', '2005-03-08 00:00:00', '2004-08-03 00:00:00', '2003-01-10 00:00:00', '1998-04-16 00:00:00', '1994-05-18 00:00:00', '2005-09-28 00:00:00', '1995-08-01 00:00:00', '2005-12-29 00:00:00', '2004-06-18 00:00:00', '1998-01-02 00:00:00', '2004-11-08 00:00:00', '2004-10-26 00:00:00', '2004-12-03 00:00:00', '2008-04-28 00:00:00', '1997-02-21 00:00:00', '1997-12-22 00:00:00', '1997-07-15 00:00:00', '2004-08-13 00:00:00', '1999-02-18 00:00:00', '2001-10-08 00:00:00', '2003-11-21 00:00:00', '2011-09-29 00:00:00', '1999-01-23 00:00:00', '2007-11-12 00:00:00', '1998-09-16 00:00:00', '2002-08-15 00:00:00', '1995-03-27 00:00:00', '2005-04-28 00:00:00', '2002-02-11 00:00:00', '2006-02-21 00:00:00', '2011-02-10 00:00:00', '2013-03-27 00:00:00', '1996-10-26 00:00:00', '2008-05-14 00:00:00', '1999-05-25 00:00:00', '2013-06-27 00:00:00', '2000-04-14 00:00:00', '2002-07-03 00:00:00', '1994-10-07 00:00:00', '1994-01-27 00:00:00', '2002-12-13 00:00:00', '1997-11-11 00:00:00', '1997-12-02 00:00:00', '1998-03-25 00:00:00', '2002-04-02 00:00:00', '2002-04-10 00:00:00', '2009-09-20 00:00:00', '2016-02-02 00:00:00', '2001-11-13 00:00:00', '1997-04-03 00:00:00', '1993-05-26 00:00:00', '2001-09-27 00:00:00', '2010-01-26 00:00:00', '2005-02-10 00:00:00', '2002-02-15 00:00:00', '2014-06-04 00:00:00', '2008-07-30 00:00:00', '2003-08-22 00:00:00', '1998-04-27 00:00:00', '2009-07-16 00:00:00', '2015-08-07 00:00:00', '2013-06-07 00:00:00', '2005-09-16 00:00:00', '2001-03-08 00:00:00', '2003-12-03 00:00:00', '2006-01-12 00:00:00', '1997-02-03 00:00:00', '2010-02-03 00:00:00', '2003-07-21 00:00:00', '2015-08-27 00:00:00', '2003-06-24 00:00:00', '2004-09-14 00:00:00', '2015-10-06 00:00:00', '2004-05-21 00:00:00', '2004-02-29 00:00:00', '1994-03-14 00:00:00', '2006-09-15 00:00:00', '2008-07-07 00:00:00', '2004-01-14 00:00:00', '1997-11-04 00:00:00', '2003-12-15 00:00:00', '2015-12-24 00:00:00', '1999-02-19 00:00:00', '2008-04-16 00:00:00', '1999-08-16 00:00:00', '1995-12-06 00:00:00', '2015-10-01 00:00:00', '2008-02-28 00:00:00', '2008-12-09 00:00:00', '2010-02-10 00:00:00', '2011-01-20 00:00:00', '2009-02-19 00:00:00', '1997-02-11 00:00:00', '2004-01-27 00:00:00', '1995-10-06 00:00:00', '2002-05-22 00:00:00', '1994-04-19 00:00:00', '2005-05-28 00:00:00', '1993-09-03 00:00:00', '2000-06-19 00:00:00', '2002-01-07 00:00:00', '2006-03-22 00:00:00', '2014-10-23 00:00:00', '2004-06-07 00:00:00', '2008-02-21 00:00:00', '2012-11-07 00:00:00', '2002-02-14 00:00:00', '2005-12-30 00:00:00', '1996-07-19 00:00:00', '2000-08-11 00:00:00', '2007-03-12 00:00:00', '2014-06-13 00:00:00', '2012-01-16 00:00:00', '2004-01-30 00:00:00', '2014-05-16 00:00:00', '2008-08-14 00:00:00', '2008-02-06 00:00:00', '2011-09-06 00:00:00', '2015-09-30 00:00:00', '1998-12-22 00:00:00', '1998-09-25 00:00:00', '1993-07-07 00:00:00', '1997-10-23 00:00:00', '2012-08-20 00:00:00', '1997-10-01 00:00:00', '1996-01-22 00:00:00', '2004-02-04 00:00:00', '1998-11-07 00:00:00', '1999-08-11 00:00:00', '2004-12-16 00:00:00', '2000-06-20 00:00:00', '2006-05-17 00:00:00', '1999-01-04 00:00:00', '2002-10-15 00:00:00', '2008-06-01 00:00:00', '2004-02-20 00:00:00', '1997-03-20 00:00:00', '2011-03-09 00:00:00', '2014-01-03 00:00:00', '2001-03-30 00:00:00', '2007-11-05 00:00:00', '2003-12-09 00:00:00', '1998-02-26 00:00:00', '2001-03-05 00:00:00', '2012-05-18 00:00:00', '2006-06-24 00:00:00', '2003-07-04 00:00:00', '2008-04-17 00:00:00', '2000-05-17 00:00:00', '2010-06-22 00:00:00', '1993-07-27 00:00:00', '2001-09-28 00:00:00', '2004-01-23 00:00:00', '2009-04-29 00:00:00', '1996-12-19 00:00:00', '2004-07-14 00:00:00', '2003-10-30 00:00:00', '2003-08-26 00:00:00', '2005-03-15 00:00:00', '2010-06-15 00:00:00', '1999-01-27 00:00:00', '1998-11-03 00:00:00', '1999-03-03 00:00:00', '2010-04-07 00:00:00', '1999-02-08 00:00:00', '1995-04-25 00:00:00', '2001-03-19 00:00:00', '1996-11-07 00:00:00', '2011-11-28 00:00:00', '1999-06-01 00:00:00', '2003-03-27 00:00:00', '2009-01-12 00:00:00', '2007-04-13 00:00:00', '2005-03-09 00:00:00', '1995-02-13 00:00:00', '1998-01-22 00:00:00', '2005-10-18 00:00:00', '2014-05-08 00:00:00', '1997-07-08 00:00:00', '1998-11-25 00:00:00', '2005-07-22 00:00:00', '1997-06-20 00:00:00', '2006-05-19 00:00:00', '2009-02-24 00:00:00', '2009-02-05 00:00:00', '2005-12-20 00:00:00', '2001-10-15 00:00:00', '1994-11-24 00:00:00', '1999-03-16 00:00:00', '2003-04-23 00:00:00', '2011-10-11 00:00:00', '2004-07-08 00:00:00', '1999-09-20 00:00:00', '2002-09-23 00:00:00', '2005-02-04 00:00:00', '2003-06-12 00:00:00', '2004-05-13 00:00:00', '2003-06-30 00:00:00', '2015-02-26 00:00:00', '2008-02-29 00:00:00', '2013-10-01 00:00:00', '2014-02-07 00:00:00', '2002-04-18 00:00:00', '1999-01-05 00:00:00', '2006-08-11 00:00:00', '1997-01-16 00:00:00', '2001-05-21 00:00:00', '2003-10-14 00:00:00', '2000-09-21 00:00:00', '1996-06-05 00:00:00', '2009-07-02 00:00:00', '1996-01-30 00:00:00', '1993-01-07 00:00:00', '2006-03-30 00:00:00', '2002-09-13 00:00:00', '2001-05-22 00:00:00', '2015-12-16 00:00:00', '2012-12-05 00:00:00', '1998-07-16 00:00:00', '2015-03-27 00:00:00', '1998-03-10 00:00:00', '2000-02-22 00:00:00', '2007-06-27 00:00:00', '2007-07-19 00:00:00', '2015-08-06 00:00:00', '2003-08-21 00:00:00', '2009-02-27 00:00:00', '1997-04-23 00:00:00', '2003-01-07 00:00:00', '2011-03-21 00:00:00', '2012-12-13 00:00:00', '2001-12-12 00:00:00', '2008-01-22 00:00:00', '1997-11-13 00:00:00', '1994-08-25 00:00:00', '2002-04-15 00:00:00', '2007-03-21 00:00:00', '2003-08-25 00:00:00', '2004-07-12 00:00:00', '2000-12-07 00:00:00', '1995-07-21 00:00:00', '2003-02-13 00:00:00', '2002-03-26 00:00:00', '2014-10-02 00:00:00', '2004-02-19 00:00:00', '2005-07-05 00:00:00', '1994-01-11 00:00:00', '1993-03-31 00:00:00', '1994-06-29 00:00:00', '2014-03-25 00:00:00', '1998-06-06 00:00:00', '2009-01-27 00:00:00', '1994-04-26 00:00:00', '2000-11-06 00:00:00', '2001-10-23 00:00:00', '2004-08-25 00:00:00', '2001-11-21 00:00:00', '1999-03-01 00:00:00', '1997-01-11 00:00:00', '2011-10-10 00:00:00', '2013-05-22 00:00:00', '2002-11-04 00:00:00', '2007-01-05 00:00:00', '2002-05-13 00:00:00', '2006-01-09 00:00:00', '1995-03-13 00:00:00', '1999-02-09 00:00:00', '2001-02-22 00:00:00', '2002-02-25 00:00:00', '1997-07-31 00:00:00', '1998-10-05 00:00:00', '1996-01-31 00:00:00', '1997-04-19 00:00:00', '2006-05-30 00:00:00', '1997-04-08 00:00:00', '2008-10-19 00:00:00', '2006-07-03 00:00:00', '2015-05-08 00:00:00', '1995-02-22 00:00:00', '2003-02-05 00:00:00', '2001-07-24 00:00:00', '2001-10-31 00:00:00', '1994-03-16 00:00:00', '2003-10-17 00:00:00', '1997-02-06 00:00:00', '2003-05-06 00:00:00', '1997-05-13 00:00:00', '1998-04-23 00:00:00', '2002-02-28 00:00:00', '2002-09-06 00:00:00', '2010-07-07 00:00:00', '1994-03-02 00:00:00', '2003-11-09 00:00:00', '2004-09-21 00:00:00', '2004-11-03 00:00:00', '2014-02-20 00:00:00', '2008-11-22 00:00:00', '2005-08-29 00:00:00', '2015-03-26 00:00:00', '2007-07-12 00:00:00', '1992-12-29 00:00:00', '1999-09-14 00:00:00', '2008-02-25 00:00:00', '2000-09-15 00:00:00', '2015-08-10 00:00:00', '2002-11-27 00:00:00', '2004-09-20 00:00:00', '2006-11-02 00:00:00', '2014-02-03 00:00:00', '2007-06-06 00:00:00', '2003-02-26 00:00:00', '2003-11-14 00:00:00', '2004-03-07 00:00:00', '2001-04-25 00:00:00', '2002-11-06 00:00:00', '2004-01-17 00:00:00', '2008-09-10 00:00:00', '2003-04-14 00:00:00', '2001-03-23 00:00:00', '2004-10-06 00:00:00', '2008-11-04 00:00:00', '2001-03-22 00:00:00', '2002-12-12 00:00:00', '1999-06-09 00:00:00', '2010-06-16 00:00:00', '1998-02-19 00:00:00', '2001-06-08 00:00:00', '2013-09-02 00:00:00', '1994-12-19 00:00:00', '2014-07-01 00:00:00', '2009-12-02 00:00:00', '1998-03-18 00:00:00', '2003-03-14 00:00:00', '1999-02-16 00:00:00', '1998-01-03 00:00:00', '2005-10-11 00:00:00', '2005-04-04 00:00:00', '2010-08-04 00:00:00', '2000-07-24 00:00:00', '2012-04-10 00:00:00', '1994-11-18 00:00:00', '2006-12-21 00:00:00', '1996-06-04 00:00:00', '2001-05-03 00:00:00', '1996-10-04 00:00:00', '2004-07-20 00:00:00', '2000-04-10 00:00:00', '2006-02-17 00:00:00', '1993-07-08 00:00:00', '2002-01-29 00:00:00', '2000-05-08 00:00:00', '2002-07-22 00:00:00', '1995-06-19 00:00:00', '2002-08-20 00:00:00', '1999-01-08 00:00:00', '2001-05-10 00:00:00', '2003-09-29 00:00:00', '1998-07-31 00:00:00', '1993-08-24 00:00:00', '2011-12-08 00:00:00', '2003-05-26 00:00:00', '2004-09-02 00:00:00', '1994-01-12 00:00:00', '2004-02-06 00:00:00', '2000-04-04 00:00:00', '2006-11-14 00:00:00', '1994-07-22 00:00:00', '2003-08-06 00:00:00', '1997-12-12 00:00:00', '2013-05-02 00:00:00', '1999-02-01 00:00:00', '2002-12-11 00:00:00', '2002-07-24 00:00:00', '2006-01-27 00:00:00', '2008-08-11 00:00:00', '1994-08-08 00:00:00', '2004-02-18 00:00:00', '2014-10-06 00:00:00', '2004-01-18 00:00:00', '2001-02-09 00:00:00', '2015-10-08 00:00:00', '2002-11-29 00:00:00', '2003-03-24 00:00:00', '2002-09-17 00:00:00', '2010-08-16 00:00:00', '2003-07-23 00:00:00', '2004-06-24 00:00:00', '2003-09-27 00:00:00', '1997-11-19 00:00:00', '2000-06-07 00:00:00', '1993-09-07 00:00:00', '2003-02-21 00:00:00', '2002-12-19 00:00:00', '1998-05-12 00:00:00', '2001-08-10 00:00:00', '2009-06-15 00:00:00', '1998-12-11 00:00:00', '2003-05-20 00:00:00', '2012-07-18 00:00:00', '2010-04-09 00:00:00', '2005-12-06 00:00:00', '2004-06-10 00:00:00', '2011-11-29 00:00:00', '1994-11-10 00:00:00', '2004-04-23 00:00:00', '2014-05-23 00:00:00', '2000-08-22 00:00:00', '2006-09-12 00:00:00', '1993-09-01 00:00:00', '2005-02-03 00:00:00', '2008-02-01 00:00:00', '2008-01-07 00:00:00', '1993-04-26 00:00:00', '2004-11-11 00:00:00', '2007-04-24 00:00:00', '2010-04-20 00:00:00', '1994-11-23 00:00:00', '2004-04-07 00:00:00', '1997-10-17 00:00:00', '2014-11-04 00:00:00', '1997-04-30 00:00:00', '2003-10-16 00:00:00', '1999-05-26 00:00:00', '2003-04-11 00:00:00', '2014-04-02 00:00:00', '2013-01-23 00:00:00', '2015-11-27 00:00:00', '2001-11-08 00:00:00', '1998-03-06 00:00:00', '2005-12-12 00:00:00', '2000-10-09 00:00:00', '2006-11-16 00:00:00', '2010-03-10 00:00:00', '2004-05-05 00:00:00', '2006-02-10 00:00:00', '2002-05-02 00:00:00', '2006-07-01 00:00:00', '2010-09-02 00:00:00', '2002-12-04 00:00:00', '1993-05-18 00:00:00', '2002-08-22 00:00:00', '2008-10-06 00:00:00', '1996-11-29 00:00:00', '1993-09-02 00:00:00', '2000-09-28 00:00:00', '2000-07-31 00:00:00', '2016-01-07 00:00:00', '2001-09-03 00:00:00', '2009-12-14 00:00:00', '2006-04-24 00:00:00', '2006-04-19 00:00:00', '1994-06-22 00:00:00', '1998-05-11 00:00:00', '1996-11-15 00:00:00', '2005-03-11 00:00:00', '1995-11-03 00:00:00', '1994-10-05 00:00:00', '2003-06-23 00:00:00', '2002-10-14 00:00:00', '2010-05-12 00:00:00', '2010-02-23 00:00:00', '2001-06-28 00:00:00', '2004-02-12 00:00:00', '2000-09-27 00:00:00', '1993-06-09 00:00:00', '1997-11-26 00:00:00', '1997-04-21 00:00:00', '1996-10-07 00:00:00', '2006-03-31 00:00:00', '1997-09-03 00:00:00', '2002-02-07 00:00:00', '1997-02-08 00:00:00', '2007-07-27 00:00:00', '1998-07-23 00:00:00', '2010-09-04 00:00:00', '1995-06-22 00:00:00', '2002-05-08 00:00:00', '2009-02-25 00:00:00', '1994-04-15 00:00:00', '1997-01-08 00:00:00', '1994-08-18 00:00:00', '2002-11-15 00:00:00', '2002-07-19 00:00:00', '2008-01-18 00:00:00', '2002-08-28 00:00:00', '2004-03-25 00:00:00', '2004-05-03 00:00:00', '2013-02-01 00:00:00', '2007-06-22 00:00:00', '2004-02-16 00:00:00', '2005-03-31 00:00:00', '1995-07-26 00:00:00', '2004-06-09 00:00:00', '2005-10-21 00:00:00', '1998-07-20 00:00:00', '2001-04-18 00:00:00', '1994-10-28 00:00:00', '1997-10-09 00:00:00', '2001-05-25 00:00:00', '2001-06-22 00:00:00', '2009-03-02 00:00:00', '2003-04-17 00:00:00', '2013-03-19 00:00:00', '2002-07-18 00:00:00', '2004-05-06 00:00:00', '1997-01-06 00:00:00', '2001-01-16 00:00:00', '1998-05-23 00:00:00', '2008-05-30 00:00:00', '2011-05-12 00:00:00', '2003-12-04 00:00:00', '2003-04-15 00:00:00', '2009-01-28 00:00:00', '2008-11-26 00:00:00', '2003-01-09 00:00:00', '2013-08-22 00:00:00', '1995-01-23 00:00:00', '2003-02-25 00:00:00', '2006-02-28 00:00:00', '1996-07-06 00:00:00', '1996-09-20 00:00:00', '2013-06-17 00:00:00', '1997-06-07 00:00:00', '2003-06-27 00:00:00', '2015-06-11 00:00:00', '2005-06-02 00:00:00', '2014-04-14 00:00:00', '1994-08-12 00:00:00', '2001-02-08 00:00:00', '2000-07-21 00:00:00', '2009-11-02 00:00:00', '2008-11-25 00:00:00', '1993-02-11 00:00:00', '2006-12-17 00:00:00', '2016-02-04 00:00:00', '2004-04-20 00:00:00', '1998-09-03 00:00:00', '2009-07-21 00:00:00', '2005-04-06 00:00:00', '2002-08-13 00:00:00', '2001-06-27 00:00:00', '1993-12-13 00:00:00', '2001-07-11 00:00:00', '2005-09-26 00:00:00', '2010-12-15 00:00:00', '2003-10-28 00:00:00', '2008-07-22 00:00:00', '1995-09-18 00:00:00', '1997-01-13 00:00:00', '1999-05-03 00:00:00', '2004-05-10 00:00:00', '1995-09-11 00:00:00', '2005-05-30 00:00:00', '2010-11-09 00:00:00', '2000-05-24 00:00:00', '2008-05-23 00:00:00', '1999-06-28 00:00:00', '1999-01-14 00:00:00', '2004-09-07 00:00:00', '2005-01-13 00:00:00', '2009-11-18 00:00:00', '2007-06-04 00:00:00', '2004-12-17 00:00:00', '2004-12-15 00:00:00', '2001-09-05 00:00:00', '1997-08-22 00:00:00', '2015-10-22 00:00:00', '2012-07-25 00:00:00', '2013-12-02 00:00:00', '2003-03-26 00:00:00', '2003-06-26 00:00:00', '2014-04-28 00:00:00', '2005-09-23 00:00:00', '2001-09-20 00:00:00', '2003-07-14 00:00:00', '2007-12-17 00:00:00', '1996-11-09 00:00:00', '2002-05-23 00:00:00', '2008-04-18 00:00:00', '2014-09-25 00:00:00', '2014-11-05 00:00:00', '2001-03-16 00:00:00', '2008-12-12 00:00:00', '2007-06-26 00:00:00', '1999-03-31 00:00:00', '2015-02-13 00:00:00', '2004-01-28 00:00:00', '2009-04-05 00:00:00', '2000-08-09 00:00:00', '2014-11-27 00:00:00', '2003-10-29 00:00:00', '2013-10-28 00:00:00', '2010-07-02 00:00:00', '2007-05-30 00:00:00', '1999-06-04 00:00:00', '2002-03-28 00:00:00', '1999-08-12 00:00:00', '1997-01-29 00:00:00', '2003-04-04 00:00:00', '2006-01-06 00:00:00', '2010-02-11 00:00:00', '2009-06-04 00:00:00', '2012-07-19 00:00:00', '1995-04-20 00:00:00', '2010-01-08 00:00:00', '2001-09-10 00:00:00', '2001-08-08 00:00:00', '1999-04-08 00:00:00', '2001-09-25 00:00:00', '2004-03-06 00:00:00', '2003-03-17 00:00:00', '2002-11-21 00:00:00', '2000-02-28 00:00:00', '1997-05-24 00:00:00', '1995-02-16 00:00:00', '1997-02-28 00:00:00', '2001-02-23 00:00:00', '2013-12-20 00:00:00', '2003-10-09 00:00:00', '1994-03-17 00:00:00', '2004-11-18 00:00:00', '2001-06-20 00:00:00', '2003-08-18 00:00:00', '2008-03-06 00:00:00', '2006-11-24 00:00:00', '2004-05-12 00:00:00', '2011-11-18 00:00:00', '2009-06-16 00:00:00', '2010-12-22 00:00:00', '1997-12-23 00:00:00', '1993-12-07 00:00:00', '2009-03-23 00:00:00', '1993-11-16 00:00:00', '2001-10-18 00:00:00', '2001-12-18 00:00:00', '2013-02-18 00:00:00', '2011-07-24 00:00:00', '2003-08-28 00:00:00', '2002-02-12 00:00:00', '2005-05-10 00:00:00', '2001-07-17 00:00:00', '1996-01-10 00:00:00', '1994-01-13 00:00:00', '2006-09-11 00:00:00', '2003-07-07 00:00:00', '2006-12-11 00:00:00', '2009-11-23 00:00:00', '2004-11-02 00:00:00', '2001-11-15 00:00:00', '2006-09-25 00:00:00', '2002-09-30 00:00:00', '2007-01-08 00:00:00', '2011-05-16 00:00:00', '2005-06-15 00:00:00', '1995-12-08 00:00:00', '2000-10-25 00:00:00', '2002-07-08 00:00:00', '1997-06-04 00:00:00', '1994-09-16 00:00:00', '1994-09-30 00:00:00', '1994-04-27 00:00:00', '2015-03-25 00:00:00', '2013-10-24 00:00:00', '2001-10-02 00:00:00', '1997-09-12 00:00:00', '2014-07-02 00:00:00', '2006-12-23 00:00:00', '2000-11-21 00:00:00', '2010-12-02 00:00:00', '2004-05-17 00:00:00', '2000-05-03 00:00:00', '2004-10-18 00:00:00', '2001-05-15 00:00:00', '2012-08-09 00:00:00', '2003-11-28 00:00:00', '2007-02-23 00:00:00', '2004-04-30 00:00:00', '2001-09-11 00:00:00', '2008-06-18 00:00:00', '2002-08-07 00:00:00', '2007-12-14 00:00:00', '2004-11-26 00:00:00', '2004-08-31 00:00:00', '1994-05-11 00:00:00', '1994-06-08 00:00:00', '2002-08-29 00:00:00', '1997-10-27 00:00:00', '2004-06-15 00:00:00', '1998-11-02 00:00:00', '1997-09-04 00:00:00', '2001-06-29 00:00:00', '2012-08-24 00:00:00', '2003-11-30 00:00:00', '2006-08-21 00:00:00', '2004-08-24 00:00:00', '1996-03-16 00:00:00', '1999-03-30 00:00:00', '2004-12-07 00:00:00', '2003-09-15 00:00:00', '1997-07-24 00:00:00', '1994-09-28 00:00:00', '2009-07-29 00:00:00', '1998-04-08 00:00:00', '2002-01-30 00:00:00', '2006-12-13 00:00:00', '2011-12-22 00:00:00', '1993-06-03 00:00:00', '1999-08-02 00:00:00', '2000-09-06 00:00:00', '2004-06-03 00:00:00', '1996-01-19 00:00:00', '2004-12-13 00:00:00', '1998-04-09 00:00:00', '2000-05-29 00:00:00', '1994-07-15 00:00:00', '2011-04-08 00:00:00', '2001-03-28 00:00:00', '2008-12-01 00:00:00', '2002-02-01 00:00:00', '2007-03-28 00:00:00', '1996-11-18 00:00:00', '2002-11-19 00:00:00', '2009-09-11 00:00:00', '2009-05-28 00:00:00', '1998-10-26 00:00:00', '1996-02-06 00:00:00', '2012-07-27 00:00:00', '2015-03-20 00:00:00', '2008-04-21 00:00:00', '2001-07-03 00:00:00', '1999-06-18 00:00:00', '2005-05-11 00:00:00', '2001-11-26 00:00:00', '2008-08-18 00:00:00', '2006-01-20 00:00:00', '2009-03-31 00:00:00', '2002-09-10 00:00:00', '2003-02-19 00:00:00', '2007-12-05 00:00:00', '2006-10-10 00:00:00', '2002-08-06 00:00:00', '2001-10-29 00:00:00', '2003-12-11 00:00:00', '2003-02-06 00:00:00', '2010-12-01 00:00:00', '1993-05-19 00:00:00', '2001-09-26 00:00:00', '2004-03-23 00:00:00', '2012-07-28 00:00:00', '2008-01-03 00:00:00', '2008-12-10 00:00:00', '2001-02-28 00:00:00', '2010-01-21 00:00:00', '2011-11-17 00:00:00', '2011-05-18 00:00:00', '2000-11-24 00:00:00', '2011-12-21 00:00:00', '2006-11-10 00:00:00', '2008-11-08 00:00:00', '2002-11-05 00:00:00', '1998-12-16 00:00:00', '2001-02-07 00:00:00', '2007-10-25 00:00:00', '2011-06-25 00:00:00', '2009-06-18 00:00:00', '1999-10-25 00:00:00', '1998-08-03 00:00:00', '2003-03-04 00:00:00', '2009-06-08 00:00:00', '2001-09-24 00:00:00', '2003-10-07 00:00:00', '1999-01-19 00:00:00', '1997-01-28 00:00:00', '2011-02-11 00:00:00', '2006-01-31 00:00:00', '2009-12-17 00:00:00', '2000-10-27 00:00:00', '2016-07-05 00:00:00', '2000-09-05 00:00:00', '1994-03-18 00:00:00', '2002-08-26 00:00:00', '2000-05-15 00:00:00', '2000-08-01 00:00:00', '2008-06-10 00:00:00', '2013-06-04 00:00:00', '1995-12-05 00:00:00', '2006-03-03 00:00:00', '2004-07-17 00:00:00', '2003-03-11 00:00:00', '2005-06-06 00:00:00', '1996-12-12 00:00:00', '1993-09-10 00:00:00', '2013-05-15 00:00:00', '2014-05-20 00:00:00', '2001-01-17 00:00:00', '2007-05-10 00:00:00', '1999-02-03 00:00:00', '2012-10-11 00:00:00', '2014-06-03 00:00:00', '2007-11-09 00:00:00', '2002-07-16 00:00:00', '1993-11-10 00:00:00', '2002-01-09 00:00:00', '2004-06-14 00:00:00', '2010-01-11 00:00:00', '2003-12-06 00:00:00', '2000-11-27 00:00:00', '2010-04-22 00:00:00', '2015-07-03 00:00:00', '2011-06-01 00:00:00', '2003-06-28 00:00:00', '2004-03-14 00:00:00', '2000-06-21 00:00:00', '2002-10-22 00:00:00', '2003-06-02 00:00:00', '2008-02-12 00:00:00', '2012-04-19 00:00:00', '2007-02-02 00:00:00', '2008-01-16 00:00:00', '2003-08-05 00:00:00', '1995-01-27 00:00:00', '1993-08-09 00:00:00', '2002-12-06 00:00:00', '2009-10-07 00:00:00', '2001-02-19 00:00:00', '1998-05-06 00:00:00', '2007-11-07 00:00:00', '1993-08-04 00:00:00', '2001-03-20 00:00:00', '1995-06-23 00:00:00', '2007-01-11 00:00:00', '2004-02-02 00:00:00', '2003-09-17 00:00:00', '2001-12-19 00:00:00', '2006-06-27 00:00:00', '2005-08-03 00:00:00', '2001-06-07 00:00:00', '2012-01-03 00:00:00', '2015-11-05 00:00:00', '2004-06-28 00:00:00', '2005-12-21 00:00:00', '2006-06-12 00:00:00', '2008-04-01 00:00:00', '2003-08-16 00:00:00', '2009-04-02 00:00:00', '2006-08-29 00:00:00', '2002-11-20 00:00:00', '1994-12-29 00:00:00', '2004-06-29 00:00:00', '2006-03-02 00:00:00', '1998-01-10 00:00:00', '2006-05-04 00:00:00', '1998-10-19 00:00:00', '2004-01-25 00:00:00', '1996-01-12 00:00:00', '2005-05-25 00:00:00', '2003-05-12 00:00:00', '2002-06-05 00:00:00', '2004-11-17 00:00:00', '2002-03-12 00:00:00', '2003-03-31 00:00:00', '2002-05-27 00:00:00', '1997-11-07 00:00:00', '2009-07-15 00:00:00', '2003-09-22 00:00:00', '1994-04-28 00:00:00', '2012-08-30 00:00:00', '1998-07-02 00:00:00', '2013-04-09 00:00:00', '2013-01-10 00:00:00', '2014-03-20 00:00:00', '2004-01-22 00:00:00', '2009-05-20 00:00:00', '2011-11-24 00:00:00', '2006-04-11 00:00:00', '2010-06-28 00:00:00', '2015-08-18 00:00:00', '2004-06-16 00:00:00', '2002-09-12 00:00:00', '1997-08-07 00:00:00', '1997-01-30 00:00:00', '2009-01-26 00:00:00', '2009-05-25 00:00:00', '2000-04-19 00:00:00', '2009-07-28 00:00:00', '2011-12-29 00:00:00', '2004-03-29 00:00:00', '2008-11-19 00:00:00', '2012-06-11 00:00:00', '1996-12-10 00:00:00', '2001-07-18 00:00:00', '2002-12-30 00:00:00', '2010-12-08 00:00:00', '1997-02-13 00:00:00', '2006-05-29 00:00:00', '2003-12-07 00:00:00', '2007-01-25 00:00:00', '2008-09-16 00:00:00', '2010-10-07 00:00:00', '2003-10-27 00:00:00', '1999-09-28 00:00:00', '1994-06-23 00:00:00', '1999-01-07 00:00:00', '2007-01-16 00:00:00', '2005-07-08 00:00:00', '1994-09-26 00:00:00', '1994-08-10 00:00:00', '2003-06-14 00:00:00', '2000-05-23 00:00:00', '2009-04-06 00:00:00', '2008-01-31 00:00:00', '1994-04-21 00:00:00', '2003-07-15 00:00:00', '2005-03-16 00:00:00', '1998-02-09 00:00:00', '2001-03-13 00:00:00', '2015-10-16 00:00:00', '2014-05-02 00:00:00', '2004-06-21 00:00:00', '2013-11-18 00:00:00', '2012-11-14 00:00:00', '2006-07-16 00:00:00', '2002-10-01 00:00:00', '2007-01-22 00:00:00', '2004-06-17 00:00:00', '1997-01-15 00:00:00', '1992-12-14 00:00:00', '2008-09-19 00:00:00', '1993-12-22 00:00:00', '1996-09-19 00:00:00', '2001-08-07 00:00:00', '2006-08-04 00:00:00', '2004-01-20 00:00:00', '1994-05-10 00:00:00', '1999-07-06 00:00:00', '1997-05-20 00:00:00', '1996-02-05 00:00:00', '2009-05-07 00:00:00', '2006-12-19 00:00:00', '2003-04-01 00:00:00', '1995-12-21 00:00:00', '2004-07-07 00:00:00', '2001-02-27 00:00:00', '2008-04-03 00:00:00', '2012-03-18 00:00:00', '1994-05-04 00:00:00', '2014-11-24 00:00:00', '2013-07-18 00:00:00', '2006-10-25 00:00:00', '2003-08-20 00:00:00', '2006-05-23 00:00:00', '2001-05-16 00:00:00', '2007-10-04 00:00:00', '2010-02-08 00:00:00', '2004-02-24 00:00:00', '1998-12-01 00:00:00', '2000-10-20 00:00:00', '2001-08-02 00:00:00', '2006-07-31 00:00:00', '2003-11-22 00:00:00', '1998-07-30 00:00:00', '2002-09-02 00:00:00', '2005-05-04 00:00:00', '2011-04-06 00:00:00', '2015-06-16 00:00:00', '1995-08-29 00:00:00', '2016-01-05 00:00:00', '2001-08-23 00:00:00', '2001-04-10 00:00:00', '2004-12-09 00:00:00', '2010-01-27 00:00:00', '2008-01-02 00:00:00', '1998-08-13 00:00:00', '2001-03-07 00:00:00', '2001-09-06 00:00:00', '2006-06-07 00:00:00', '2014-11-28 00:00:00', '1994-04-22 00:00:00', '1999-05-04 00:00:00', '1998-08-21 00:00:00', '1993-07-16 00:00:00', '2002-04-17 00:00:00', '2000-11-30 00:00:00', '2001-08-15 00:00:00', '1997-10-14 00:00:00', '2009-01-13 00:00:00', '2000-08-18 00:00:00', '2008-04-09 00:00:00', '2004-06-02 00:00:00', '1997-02-14 00:00:00', '1993-04-29 00:00:00', '2014-11-19 00:00:00', '2008-09-29 00:00:00', '2002-06-04 00:00:00', '2000-02-23 00:00:00', '2012-08-03 00:00:00', '2003-08-02 00:00:00', '2003-09-30 00:00:00', '2005-12-13 00:00:00', '1998-11-13 00:00:00', '2006-02-09 00:00:00', '1997-10-15 00:00:00', '2010-10-04 00:00:00', '2006-02-24 00:00:00', '2004-07-02 00:00:00', '2001-12-10 00:00:00', '1998-09-29 00:00:00', '1997-01-07 00:00:00', '1996-11-11 00:00:00', '2003-03-10 00:00:00', '1993-12-09 00:00:00', '2009-05-26 00:00:00', '2013-07-30 00:00:00', '2012-09-13 00:00:00', '1994-05-16 00:00:00', '2013-05-06 00:00:00', '2013-07-04 00:00:00', '2001-06-11 00:00:00', '2005-04-27 00:00:00', '2009-02-18 00:00:00', '2011-03-31 00:00:00', '2004-02-05 00:00:00', '2001-03-09 00:00:00', '2002-04-29 00:00:00', '1998-04-14 00:00:00', '2000-09-12 00:00:00', '2007-02-12 00:00:00', '1999-09-17 00:00:00', '2014-08-18 00:00:00', '2013-11-22 00:00:00', '2002-06-12 00:00:00', '2006-11-17 00:00:00', '2009-12-03 00:00:00', '2010-05-17 00:00:00', '2003-09-05 00:00:00', '2010-03-24 00:00:00', '2002-07-02 00:00:00', '2005-01-28 00:00:00', '2001-04-03 00:00:00', '2007-06-13 00:00:00', '2007-05-23 00:00:00', '2013-11-12 00:00:00', '2007-03-19 00:00:00', '2009-06-19 00:00:00', '2015-03-04 00:00:00', '2006-02-22 00:00:00', '1999-07-02 00:00:00', '2008-12-02 00:00:00', '2000-07-17 00:00:00', '2005-05-23 00:00:00', '2009-03-05 00:00:00', '2009-04-15 00:00:00', '2013-04-03 00:00:00', '2013-10-08 00:00:00', '1995-05-17 00:00:00', '1998-07-15 00:00:00', '2006-08-28 00:00:00', '2007-12-12 00:00:00', '2003-12-19 00:00:00', '2005-09-20 00:00:00', '1999-07-23 00:00:00', '2000-05-09 00:00:00', '2010-05-03 00:00:00', '2010-07-26 00:00:00', '2006-01-23 00:00:00', '2006-04-10 00:00:00', '2008-09-24 00:00:00', '2001-06-25 00:00:00', '1998-06-30 00:00:00', '2010-04-30 00:00:00', '2009-09-14 00:00:00', '2005-09-09 00:00:00', '2012-10-12 00:00:00', '2009-02-13 00:00:00', '2009-11-10 00:00:00', '1998-07-09 00:00:00', '2004-07-28 00:00:00', '2001-04-12 00:00:00', '2009-02-09 00:00:00', '2003-03-03 00:00:00', '1998-12-17 00:00:00', '2009-04-14 00:00:00', '2007-01-19 00:00:00', '2013-10-02 00:00:00', '2003-02-03 00:00:00', '1993-11-19 00:00:00', '2012-11-28 00:00:00', '2000-08-23 00:00:00', '2004-10-12 00:00:00', '1994-10-10 00:00:00', '1998-10-28 00:00:00', '2005-06-22 00:00:00', '2002-07-01 00:00:00', '2004-07-26 00:00:00', '2002-07-30 00:00:00', '2002-09-16 00:00:00', '2009-06-24 00:00:00', '2008-04-10 00:00:00', '2012-11-22 00:00:00', '2004-12-01 00:00:00', '2000-04-25 00:00:00', '2009-06-07 00:00:00', '2005-01-31 00:00:00', '2010-10-26 00:00:00', '1999-06-21 00:00:00', '2004-11-05 00:00:00', '2005-09-21 00:00:00', '1993-08-25 00:00:00', '2013-04-22 00:00:00', '1998-07-01 00:00:00', '2004-02-09 00:00:00', '1996-07-10 00:00:00', '2015-12-03 00:00:00', '2001-06-21 00:00:00', '2013-09-09 00:00:00', '2000-07-25 00:00:00', '2005-03-07 00:00:00', '2015-08-11 00:00:00', '2002-09-11 00:00:00', '2001-01-29 00:00:00', '2003-07-27 00:00:00', '2003-07-06 00:00:00', '2006-04-27 00:00:00', '1999-08-05 00:00:00', '2003-06-05 00:00:00', '2006-01-03 00:00:00', '2000-12-06 00:00:00', '2007-02-01 00:00:00', '1994-11-09 00:00:00', '1998-09-17 00:00:00', '2007-08-17 00:00:00', '2002-09-09 00:00:00', '1998-07-07 00:00:00', '2002-07-05 00:00:00', '2010-09-17 00:00:00', '2015-01-16 00:00:00', '2001-04-23 00:00:00', '2004-11-04 00:00:00', '2003-10-06 00:00:00', '2002-11-14 00:00:00', '2006-06-13 00:00:00', '1993-12-29 00:00:00', '2009-04-01 00:00:00', '2012-09-14 00:00:00', '2009-08-18 00:00:00', '1999-05-27 00:00:00', '2008-09-18 00:00:00', '1999-01-25 00:00:00', '2008-06-03 00:00:00', '2014-03-18 00:00:00', '1998-04-03 00:00:00', '2011-03-02 00:00:00', '2002-09-05 00:00:00', '2007-06-18 00:00:00', '2004-08-20 00:00:00', '2007-03-15 00:00:00', '2003-04-02 00:00:00', '2015-09-16 00:00:00', '1998-09-08 00:00:00', '2012-06-14 00:00:00', '2013-09-19 00:00:00', '1993-05-27 00:00:00', '2013-10-15 00:00:00', '2001-08-01 00:00:00', '2005-09-01 00:00:00', '1996-12-06 00:00:00', '2007-06-01 00:00:00', '2007-12-21 00:00:00', '2007-07-09 00:00:00', '2004-08-08 00:00:00', '2004-09-15 00:00:00', '2004-06-22 00:00:00', '1998-04-22 00:00:00', '1993-11-08 00:00:00', '2001-01-02 00:00:00', '2002-05-17 00:00:00', '1997-05-02 00:00:00', '2005-05-03 00:00:00', '1998-10-14 00:00:00', '2009-01-07 00:00:00', '2004-01-21 00:00:00', '2002-02-19 00:00:00', '2012-09-19 00:00:00', '1993-02-16 00:00:00', '2009-08-06 00:00:00', '2014-09-11 00:00:00', '2013-06-21 00:00:00', '2007-12-30 00:00:00', '2005-03-10 00:00:00', '2002-09-04 00:00:00', '2006-02-01 00:00:00', '2007-07-29 00:00:00', '2002-11-26 00:00:00', '2002-01-02 00:00:00', '2001-07-27 00:00:00', '2014-02-06 00:00:00', '2008-03-10 00:00:00', '2005-05-19 00:00:00', '2013-01-15 00:00:00', '2012-10-04 00:00:00', '2006-06-09 00:00:00', '1996-02-02 00:00:00', '1998-09-07 00:00:00', '2006-05-31 00:00:00', '2004-06-01 00:00:00', '2002-04-04 00:00:00', '2004-07-29 00:00:00', '2012-02-09 00:00:00', '1999-02-11 00:00:00', '2002-04-08 00:00:00', '1998-05-07 00:00:00', '2000-10-16 00:00:00', '2013-07-26 00:00:00', '2015-05-26 00:00:00', '2006-10-18 00:00:00', '1998-10-30 00:00:00', '2000-08-17 00:00:00', '2010-02-16 00:00:00', '2000-09-13 00:00:00', '2008-09-11 00:00:00', '2005-11-28 00:00:00', '2010-11-18 00:00:00', '2011-09-21 00:00:00', '2004-08-26 00:00:00', '2003-11-04 00:00:00', '2004-10-23 00:00:00', '2013-10-16 00:00:00', '2009-01-15 00:00:00', '1999-07-05 00:00:00', '2001-10-10 00:00:00', '1995-02-28 00:00:00', '2006-12-15 00:00:00', '1994-03-04 00:00:00', '2006-09-21 00:00:00', '2004-06-12 00:00:00', '1999-02-25 00:00:00', '2014-12-15 00:00:00', '2012-08-02 00:00:00', '2014-09-03 00:00:00', '2012-05-07 00:00:00', '2015-12-18 00:00:00', '2006-03-01 00:00:00', '2004-08-23 00:00:00', '2002-05-03 00:00:00', '2006-04-05 00:00:00', '2012-11-08 00:00:00', '1999-06-15 00:00:00', '2009-05-22 00:00:00', '2014-02-19 00:00:00', '2002-05-28 00:00:00', '2010-01-28 00:00:00', '2003-02-24 00:00:00', '1998-08-20 00:00:00', '2015-04-13 00:00:00', '2008-08-01 00:00:00', '2001-04-02 00:00:00', '2008-06-19 00:00:00', '2000-10-18 00:00:00', '1997-12-11 00:00:00', '2011-10-12 00:00:00', '2007-03-22 00:00:00', '2005-07-06 00:00:00', '2007-10-10 00:00:00', '2001-03-15 00:00:00', '1995-10-25 00:00:00', '2003-11-29 00:00:00', '2008-06-26 00:00:00', '2000-05-02 00:00:00', '2002-08-08 00:00:00', '2014-11-20 00:00:00', '2014-02-13 00:00:00', '2003-01-13 00:00:00', '2003-04-29 00:00:00', '2007-02-05 00:00:00', '2009-10-19 00:00:00', '2005-10-19 00:00:00', '2003-10-18 00:00:00', '2009-04-23 00:00:00', '2009-09-28 00:00:00', '2001-05-29 00:00:00', '2004-03-05 00:00:00', '2010-04-06 00:00:00', '1995-07-13 00:00:00', '1999-01-16 00:00:00', '2003-10-25 00:00:00', '2005-11-29 00:00:00', '1999-06-10 00:00:00', '2009-02-11 00:00:00', '2010-12-06 00:00:00', '1994-12-21 00:00:00', '2007-01-17 00:00:00', '2003-09-21 00:00:00', '2011-03-08 00:00:00', '2001-10-01 00:00:00', '2001-12-20 00:00:00', '2007-03-25 00:00:00', '2004-05-11 00:00:00', '2005-02-11 00:00:00', '2006-04-21 00:00:00', '2005-01-20 00:00:00', '2013-03-12 00:00:00', '2014-03-21 00:00:00', '1993-05-10 00:00:00', '2006-09-01 00:00:00', '2003-07-16 00:00:00', '2009-05-04 00:00:00', '2011-01-10 00:00:00', '2004-06-20 00:00:00', '1998-11-05 00:00:00', '2001-11-19 00:00:00', '2014-01-25 00:00:00', '2011-04-19 00:00:00', '2004-09-24 00:00:00', '1999-03-29 00:00:00', '2002-10-09 00:00:00', '1994-03-01 00:00:00', '2004-12-18 00:00:00', '2005-03-24 00:00:00', '1998-01-07 00:00:00', '2002-11-12 00:00:00', '2010-01-07 00:00:00', '2009-10-27 00:00:00', '1999-02-04 00:00:00', '2013-11-04 00:00:00', '1997-12-13 00:00:00', '2015-08-05 00:00:00', '2005-05-16 00:00:00', '2015-12-01 00:00:00', '2003-10-08 00:00:00', '2001-05-31 00:00:00', '1998-06-03 00:00:00', '1993-12-03 00:00:00', '2004-08-04 00:00:00', '2003-09-10 00:00:00', '2009-09-02 00:00:00', '2015-10-27 00:00:00', '2014-02-04 00:00:00', '1996-02-07 00:00:00', '2006-02-27 00:00:00', '2001-08-06 00:00:00', '2000-10-26 00:00:00', '1993-08-02 00:00:00', '2008-03-27 00:00:00', '2009-08-14 00:00:00', '1994-05-05 00:00:00', '2015-09-17 00:00:00', '2011-05-13 00:00:00', '1994-01-26 00:00:00', '2013-12-12 00:00:00', '2007-01-31 00:00:00', '2006-01-25 00:00:00', '2010-01-19 00:00:00', '2015-09-23 00:00:00', '1998-11-27 00:00:00', '2010-05-04 00:00:00', '1994-03-03 00:00:00', '2008-06-11 00:00:00', '2011-03-10 00:00:00', '1996-11-22 00:00:00', '1998-08-11 00:00:00', '2013-01-16 00:00:00', '1998-08-06 00:00:00', '2006-11-07 00:00:00', '2002-04-30 00:00:00', '2002-08-19 00:00:00', '2003-10-05 00:00:00', '1997-01-21 00:00:00', '2008-05-13 00:00:00', '2014-05-05 00:00:00', '2008-12-30 00:00:00', '2006-06-30 00:00:00', '1998-02-05 00:00:00', '2000-11-14 00:00:00', '2011-06-16 00:00:00', '2012-09-12 00:00:00', '1993-12-01 00:00:00', '2009-06-23 00:00:00', '1997-06-19 00:00:00', '2005-07-19 00:00:00', '2006-08-01 00:00:00', '2007-02-06 00:00:00', '2014-12-12 00:00:00', '2013-09-23 00:00:00', '2003-05-23 00:00:00', '1998-09-18 00:00:00', '2013-09-10 00:00:00', '2013-07-02 00:00:00', '2003-03-28 00:00:00', '2003-05-02 00:00:00', '1993-07-05 00:00:00', '2007-10-09 00:00:00', '2010-06-01 00:00:00', '2009-01-02 00:00:00', '1998-01-29 00:00:00', '2004-11-10 00:00:00', '2001-07-13 00:00:00', '1999-07-13 00:00:00', '1999-02-15 00:00:00', '2001-09-13 00:00:00', '2008-07-18 00:00:00', '2014-10-20 00:00:00', '2005-02-01 00:00:00', '1998-12-04 00:00:00', '2004-08-22 00:00:00', '1994-01-18 00:00:00', '2005-12-22 00:00:00', '1999-06-02 00:00:00', '2000-03-29 00:00:00', '2012-07-04 00:00:00', '2003-07-02 00:00:00', '1999-06-29 00:00:00', '2007-04-02 00:00:00', '2009-01-29 00:00:00', '2005-02-14 00:00:00', '2005-04-13 00:00:00', '2012-03-05 00:00:00', '2004-04-16 00:00:00', '2000-12-01 00:00:00', '2004-09-05 00:00:00', '2007-03-16 00:00:00', '2003-07-29 00:00:00', '2001-06-05 00:00:00', '2006-10-26 00:00:00', '1996-05-06 00:00:00', '2008-04-24 00:00:00', '2004-01-06 00:00:00', '2004-05-30 00:00:00', '2014-06-06 00:00:00', '2009-04-22 00:00:00', '1994-05-02 00:00:00', '2004-05-18 00:00:00', '2009-04-28 00:00:00', '1998-09-10 00:00:00', '2007-06-07 00:00:00', '2013-08-20 00:00:00', '1994-03-31 00:00:00', '2006-12-06 00:00:00', '2006-12-14 00:00:00', '2005-02-23 00:00:00', '2009-05-08 00:00:00', '2006-06-21 00:00:00', '2005-04-05 00:00:00', '2002-06-28 00:00:00', '2004-12-10 00:00:00', '2005-02-09 00:00:00', '2011-02-16 00:00:00', '2003-09-11 00:00:00', '1999-02-17 00:00:00', '1993-08-11 00:00:00', '2010-10-12 00:00:00', '2005-12-01 00:00:00', '2001-04-17 00:00:00', '2004-12-02 00:00:00', '2010-07-27 00:00:00', '2004-03-17 00:00:00', '2012-01-09 00:00:00', '2014-12-16 00:00:00', '1998-02-13 00:00:00', '2006-05-03 00:00:00', '2015-09-14 00:00:00', '2013-07-10 00:00:00', '2003-04-24 00:00:00', '2009-04-07 00:00:00', '2013-10-11 00:00:00', '2004-03-24 00:00:00', '1995-01-25 00:00:00', '1999-06-23 00:00:00', '2003-06-15 00:00:00', '2005-11-18 00:00:00', '2005-09-07 00:00:00', '2004-12-20 00:00:00', '2003-08-13 00:00:00', '2013-06-26 00:00:00', '2011-04-15 00:00:00', '2001-04-19 00:00:00', '2008-07-15 00:00:00', '2005-12-08 00:00:00', '2000-04-17 00:00:00', '1997-09-15 00:00:00', '2005-10-26 00:00:00', '1995-03-03 00:00:00', '2009-01-09 00:00:00', '1998-12-30 00:00:00', '2007-08-13 00:00:00', '2009-05-12 00:00:00', '2000-05-12 00:00:00', '1999-05-31 00:00:00', '2008-09-30 00:00:00', '2015-07-30 00:00:00', '2001-03-27 00:00:00', '2003-12-17 00:00:00', '2010-05-18 00:00:00', '2002-01-21 00:00:00', '2006-06-22 00:00:00', '2008-01-08 00:00:00', '1998-09-14 00:00:00', '1998-10-20 00:00:00', '2002-02-08 00:00:00', '2004-10-28 00:00:00', '2008-04-25 00:00:00', '2005-03-30 00:00:00', '2008-07-14 00:00:00'] \n",
      "\n",
      "\n",
      "OST_WEST_KZ : 49927 \n",
      " ['W', nan, 'O'] \n",
      "\n",
      "\n",
      "PRODUCT_GROUP : 0 \n",
      " ['COSMETIC_AND_FOOD', 'FOOD', 'COSMETIC'] \n",
      "\n",
      "\n"
     ]
    },
    {
     "name": "stdout",
     "output_type": "stream",
     "text": [
      "CUSTOMER_GROUP : 0 \n",
      " ['MULTI_BUYER', 'SINGLE_BUYER'] \n",
      "\n",
      "\n"
     ]
    }
   ],
   "source": [
    "#Re-encode string values\n",
    "df = pd.DataFrame(customers.describe())\n",
    "num_cols = list(df.columns)\n",
    "\n",
    "# Get string values\n",
    "for col in customers.columns:\n",
    "    if col not in num_cols:\n",
    "        print(col,\":\",customers[col].isnull().sum(), \"\\n\",list(customers[col].unique()),\"\\n\\n\")"
   ]
  },
  {
   "cell_type": "code",
   "execution_count": 34,
   "metadata": {},
   "outputs": [],
   "source": [
    "del customers[\"D19_LETZTER_KAUF_BRANCHE\"]\n",
    "del azdias[\"D19_LETZTER_KAUF_BRANCHE\"]\n",
    "del customers[\"CAMEO_DEU_2015\"]\n",
    "del azdias[\"CAMEO_DEU_2015\"]"
   ]
  },
  {
   "cell_type": "code",
   "execution_count": 35,
   "metadata": {},
   "outputs": [
    {
     "data": {
      "text/plain": [
       "1.0    130382\n",
       "0.0     11343\n",
       "Name: OST_WEST_KZ, dtype: int64"
      ]
     },
     "execution_count": 35,
     "metadata": {},
     "output_type": "execute_result"
    }
   ],
   "source": [
    "# Investigate \"OST_WEST_KZ\"  and engineer a new variables.\n",
    "def get_ost(x):\n",
    "    try:\n",
    "        if x ==\"W\":\n",
    "            return 1\n",
    "        if x == \"O\":\n",
    "            return 0\n",
    "    except:\n",
    "        return x\n",
    "azdias[\"OST_WEST_KZ\"] = azdias[\"OST_WEST_KZ\"].apply(get_ost)\n",
    "\n",
    "customers[\"OST_WEST_KZ\"] = customers[\"OST_WEST_KZ\"].apply(get_ost)\n",
    "\n",
    "customers[\"OST_WEST_KZ\"].value_counts()"
   ]
  },
  {
   "cell_type": "code",
   "execution_count": 36,
   "metadata": {},
   "outputs": [
    {
     "data": {
      "text/plain": [
       "1992.0    108901\n",
       "1995.0      5654\n",
       "1996.0      5105\n",
       "1993.0      3884\n",
       "1997.0      3657\n",
       "1994.0      2821\n",
       "2005.0      2151\n",
       "2003.0      1698\n",
       "2004.0      1103\n",
       "2000.0       957\n",
       "2006.0       898\n",
       "2007.0       649\n",
       "2008.0       579\n",
       "1998.0       546\n",
       "2002.0       541\n",
       "2009.0       486\n",
       "2012.0       356\n",
       "2011.0       343\n",
       "2013.0       286\n",
       "2010.0       284\n",
       "2001.0       260\n",
       "2014.0       224\n",
       "2015.0       166\n",
       "1999.0       166\n",
       "2016.0        10\n",
       "Name: EINGEFUEGT_AM, dtype: int64"
      ]
     },
     "execution_count": 36,
     "metadata": {},
     "output_type": "execute_result"
    }
   ],
   "source": [
    "# Investigate \"EINGEFUEGT_AM\"  and engineer a new variables.\n",
    "def get_year(x):\n",
    "    try:\n",
    "        return pd.to_datetime(x).year\n",
    "    except:\n",
    "        return x\n",
    "azdias[\"EINGEFUEGT_AM\"] = azdias[\"EINGEFUEGT_AM\"].apply(get_year)\n",
    "\n",
    "customers[\"EINGEFUEGT_AM\"] = customers[\"EINGEFUEGT_AM\"].apply(get_year)\n",
    "\n",
    "customers[\"EINGEFUEGT_AM\"].value_counts()"
   ]
  },
  {
   "cell_type": "code",
   "execution_count": 37,
   "metadata": {},
   "outputs": [
    {
     "data": {
      "text/plain": [
       "0.0     108901\n",
       "3.0       5654\n",
       "4.0       5105\n",
       "1.0       3884\n",
       "5.0       3657\n",
       "2.0       2821\n",
       "13.0      2151\n",
       "11.0      1698\n",
       "12.0      1103\n",
       "8.0        957\n",
       "14.0       898\n",
       "15.0       649\n",
       "16.0       579\n",
       "6.0        546\n",
       "10.0       541\n",
       "17.0       486\n",
       "20.0       356\n",
       "19.0       343\n",
       "21.0       286\n",
       "18.0       284\n",
       "9.0        260\n",
       "22.0       224\n",
       "23.0       166\n",
       "7.0        166\n",
       "24.0        10\n",
       "Name: EINGEFUEGT_AM, dtype: int64"
      ]
     },
     "execution_count": 37,
     "metadata": {},
     "output_type": "execute_result"
    }
   ],
   "source": [
    "def get_value(x):\n",
    "    try:\n",
    "        return x-1992\n",
    "    except:\n",
    "        return x\n",
    "azdias[\"EINGEFUEGT_AM\"] = azdias[\"EINGEFUEGT_AM\"].apply(get_value)\n",
    "customers[\"EINGEFUEGT_AM\"] = customers[\"EINGEFUEGT_AM\"].apply(get_value)\n",
    "customers[\"EINGEFUEGT_AM\"].value_counts()"
   ]
  },
  {
   "cell_type": "code",
   "execution_count": 38,
   "metadata": {},
   "outputs": [],
   "source": [
    "# Investigate \"CAMEO_DEUG_2015\"  and \"CAMEO_INTL_2015\" and engineer two new variables.\n",
    "\n",
    "def get_deug(x):\n",
    "    try:\n",
    "        if x ==\"X\":\n",
    "            return 10\n",
    "        return int(x)\n",
    "    except:\n",
    "        return x\n",
    "def get_intl(x):\n",
    "    try:\n",
    "        if x ==\"XX\":\n",
    "            return 10\n",
    "        return int(x)/10\n",
    "    except:\n",
    "        return x\n",
    "azdias[\"CAMEO_DEUG_2015\"] = azdias[\"CAMEO_DEUG_2015\"].apply(get_deug)\n",
    "azdias[\"CAMEO_INTL_2015\"] =azdias[\"CAMEO_INTL_2015\"].apply(get_intl)\n",
    "\n",
    "customers[\"CAMEO_DEUG_2015\"] = customers[\"CAMEO_DEUG_2015\"].apply(get_deug)\n",
    "customers[\"CAMEO_INTL_2015\"] =customers[\"CAMEO_INTL_2015\"].apply(get_intl)"
   ]
  },
  {
   "cell_type": "code",
   "execution_count": 39,
   "metadata": {},
   "outputs": [
    {
     "name": "stdout",
     "output_type": "stream",
     "text": [
      "PRODUCT_GROUP : 0 \n",
      " ['COSMETIC_AND_FOOD', 'FOOD', 'COSMETIC'] \n",
      "\n",
      "\n",
      "CUSTOMER_GROUP : 0 \n",
      " ['MULTI_BUYER', 'SINGLE_BUYER'] \n",
      "\n",
      "\n"
     ]
    }
   ],
   "source": [
    "#feature transformation\n",
    "# Get numerical values\n",
    "df = pd.DataFrame(customers.describe())\n",
    "num_cols = list(df.columns)\n",
    "\n",
    "for col in customers.columns:\n",
    "    if col not in num_cols:\n",
    "        print(col,\":\",customers[col].isnull().sum(), \"\\n\",list(customers[col].unique()),\"\\n\\n\")"
   ]
  },
  {
   "cell_type": "code",
   "execution_count": 40,
   "metadata": {},
   "outputs": [],
   "source": [
    "sample_customers = customers.copy()\n",
    "del sample_customers[\"CUSTOMER_GROUP\"]\n",
    "del sample_customers[\"PRODUCT_GROUP\"]\n",
    "del sample_customers[\"LNR\"]"
   ]
  },
  {
   "cell_type": "code",
   "execution_count": 41,
   "metadata": {},
   "outputs": [],
   "source": [
    "#fill nans with most frequent values\n",
    "\n",
    "imputer =Imputer(missing_values=\"NaN\", strategy=\"most_frequent\",axis=0, verbose=0,copy=True)\n",
    "clean_customers= imputer.fit_transform(sample_customers)"
   ]
  },
  {
   "cell_type": "code",
   "execution_count": 42,
   "metadata": {},
   "outputs": [],
   "source": [
    "X = StandardScaler().fit_transform(clean_customers)"
   ]
  },
  {
   "cell_type": "code",
   "execution_count": 43,
   "metadata": {},
   "outputs": [
    {
     "data": {
      "image/png": "[encoded data removed]",
      "text/plain": [
       "<matplotlib.figure.Figure at 0x7f9749f4add8>"
      ]
     },
     "metadata": {
      "needs_background": "light"
     },
     "output_type": "display_data"
    }
   ],
   "source": [
    "#Dimensionality reduction with Principal Component Analysis\n",
    "\n",
    "pca = PCA()\n",
    "X_pca = pca.fit_transform(X)\n",
    "\n",
    "# Investigate the variance accounted for by each principal component.\n",
    "def scree_plot(pca):\n",
    "    '''\n",
    "    Creates a scree plot associated with the principal components \n",
    "    \n",
    "    INPUT: pca - the result of instantian of PCA in scikit learn\n",
    "            \n",
    "    OUTPUT: None\n",
    "    '''\n",
    "    num_components=len(pca.explained_variance_ratio_)\n",
    "    ind = np.arange(num_components)\n",
    "    vals = pca.explained_variance_ratio_\n",
    " \n",
    "    plt.figure(figsize=(10, 6))\n",
    "    ax = plt.subplot(111)\n",
    "    cumvals = np.cumsum(vals)\n",
    "    ax.bar(ind, vals)\n",
    "    ax.plot(ind, cumvals)\n",
    "    for i in range(num_components):\n",
    "        ax.annotate(r\"%s%%\" % ((str(vals[i]*100)[:4])), (ind[i]+0.2, vals[i]), va=\"bottom\", ha=\"center\", fontsize=12)\n",
    " \n",
    "    ax.xaxis.set_tick_params(width=0)\n",
    "    ax.yaxis.set_tick_params(width=2, length=12)\n",
    " \n",
    "    ax.set_xlabel(\"Principal Component\")\n",
    "    ax.set_ylabel(\"Variance Explained (%)\")\n",
    "    plt.title('Explained Variance Per Principal Component')\n",
    "    plt.savefig(\"PCA.png\")\n",
    "scree_plot(pca)"
   ]
  },
  {
   "cell_type": "code",
   "execution_count": 44,
   "metadata": {},
   "outputs": [],
   "source": [
    "#First 2-3 components are likely to hold information"
   ]
  },
  {
   "cell_type": "code",
   "execution_count": 45,
   "metadata": {},
   "outputs": [
    {
     "data": {
      "image/png": "[encoded data removed]",
      "text/plain": [
       "<matplotlib.figure.Figure at 0x7f9748607668>"
      ]
     },
     "metadata": {
      "needs_background": "light"
     },
     "output_type": "display_data"
    }
   ],
   "source": [
    "# Re-apply PCA to the data while selecting for number of components to retain.\n",
    "pca = PCA(30)\n",
    "X_pca = pca.fit_transform(X)\n",
    "scree_plot(pca)"
   ]
  },
  {
   "cell_type": "code",
   "execution_count": 46,
   "metadata": {},
   "outputs": [
    {
     "data": {
      "image/png": "[encoded data removed]",
      "text/plain": [
       "<matplotlib.figure.Figure at 0x7f974bc78048>"
      ]
     },
     "metadata": {
      "needs_background": "light"
     },
     "output_type": "display_data"
    }
   ],
   "source": [
    "#Interpret principal components\n",
    "pca = PCA(30)\n",
    "X_pca = pca.fit_transform(X)\n",
    "\n",
    "def pca_component(full_dataset, pca,j):\n",
    "    '''\n",
    "    Create a DataFrame of the PCA results\n",
    "    Includes dimension feature weights and explained variance\n",
    "    Visualizes the PCA results\n",
    "    '''\n",
    "\n",
    "    # Dimension indexing\n",
    "    dimensions = dimensions = ['Dimension {}'.format(i) for i in range(1,len(pca.components_)+1)]\n",
    "\n",
    "    # PCA components\n",
    "    components = pd.DataFrame(np.round(pca.components_, 4), columns = full_dataset.columns)\n",
    "    components.index = dimensions\n",
    "\n",
    "    # PCA explained variance\n",
    "    ratios = pca.explained_variance_ratio_.reshape(len(pca.components_), 1)\n",
    "    variance_ratios = pd.DataFrame(np.round(ratios, 4), columns = ['Explained Variance'])\n",
    "    variance_ratios.index = dimensions\n",
    "    \n",
    "    # Plot\n",
    "    fig, ax = plt.subplots(figsize = (14,8))\n",
    "    component =components.iloc[j-1,:].sort_values(ascending=False)\n",
    "    component.plot(ax = ax, kind = 'bar');\n",
    "    ax.set_ylabel(\"Feature Weights\")\n",
    "    #print(component)\n",
    "    \n",
    "    return components, variance_ratios\n",
    "components, variance_ratios = pca_component(sample_customers, pca,1)"
   ]
  },
  {
   "cell_type": "code",
   "execution_count": 47,
   "metadata": {},
   "outputs": [
    {
     "data": {
      "text/html": [
       "<div>\n",
       "<style scoped>\n",
       "    .dataframe tbody tr th:only-of-type {\n",
       "        vertical-align: middle;\n",
       "    }\n",
       "\n",
       "    .dataframe tbody tr th {\n",
       "        vertical-align: top;\n",
       "    }\n",
       "\n",
       "    .dataframe thead th {\n",
       "        text-align: right;\n",
       "    }\n",
       "</style>\n",
       "<table border=\"1\" class=\"dataframe\">\n",
       "  <thead>\n",
       "    <tr style=\"text-align: right;\">\n",
       "      <th></th>\n",
       "      <th>AGER_TYP</th>\n",
       "      <th>AKT_DAT_KL</th>\n",
       "      <th>ALTER_HH</th>\n",
       "      <th>ALTERSKATEGORIE_FEIN</th>\n",
       "      <th>ANZ_HAUSHALTE_AKTIV</th>\n",
       "      <th>ANZ_HH_TITEL</th>\n",
       "      <th>ANZ_KINDER</th>\n",
       "      <th>ANZ_PERSONEN</th>\n",
       "      <th>ANZ_STATISTISCHE_HAUSHALTE</th>\n",
       "      <th>ANZ_TITEL</th>\n",
       "      <th>...</th>\n",
       "      <th>VK_DHT4A</th>\n",
       "      <th>VK_DISTANZ</th>\n",
       "      <th>VK_ZG11</th>\n",
       "      <th>W_KEIT_KIND_HH</th>\n",
       "      <th>WOHNDAUER_2008</th>\n",
       "      <th>WOHNLAGE</th>\n",
       "      <th>ZABEOTYP</th>\n",
       "      <th>ONLINE_PURCHASE</th>\n",
       "      <th>ANREDE_KZ</th>\n",
       "      <th>ALTERSKATEGORIE_GROB</th>\n",
       "    </tr>\n",
       "  </thead>\n",
       "  <tbody>\n",
       "    <tr>\n",
       "      <th>Dimension 1</th>\n",
       "      <td>0.0827</td>\n",
       "      <td>0.0185</td>\n",
       "      <td>0.1202</td>\n",
       "      <td>0.0219</td>\n",
       "      <td>0.0095</td>\n",
       "      <td>0.0084</td>\n",
       "      <td>0.0332</td>\n",
       "      <td>0.0534</td>\n",
       "      <td>0.0089</td>\n",
       "      <td>0.0139</td>\n",
       "      <td>...</td>\n",
       "      <td>0.0390</td>\n",
       "      <td>0.0481</td>\n",
       "      <td>0.0412</td>\n",
       "      <td>-0.0852</td>\n",
       "      <td>-0.0146</td>\n",
       "      <td>0.0272</td>\n",
       "      <td>-0.0569</td>\n",
       "      <td>0.0034</td>\n",
       "      <td>-0.0389</td>\n",
       "      <td>0.1059</td>\n",
       "    </tr>\n",
       "    <tr>\n",
       "      <th>Dimension 2</th>\n",
       "      <td>0.0358</td>\n",
       "      <td>0.0334</td>\n",
       "      <td>-0.0189</td>\n",
       "      <td>-0.0340</td>\n",
       "      <td>0.0865</td>\n",
       "      <td>0.0407</td>\n",
       "      <td>-0.0296</td>\n",
       "      <td>-0.0708</td>\n",
       "      <td>0.0829</td>\n",
       "      <td>0.0107</td>\n",
       "      <td>...</td>\n",
       "      <td>0.0775</td>\n",
       "      <td>0.0616</td>\n",
       "      <td>0.0480</td>\n",
       "      <td>0.0536</td>\n",
       "      <td>-0.0310</td>\n",
       "      <td>-0.0828</td>\n",
       "      <td>0.0536</td>\n",
       "      <td>-0.0053</td>\n",
       "      <td>0.0221</td>\n",
       "      <td>0.0272</td>\n",
       "    </tr>\n",
       "    <tr>\n",
       "      <th>Dimension 3</th>\n",
       "      <td>-0.0066</td>\n",
       "      <td>-0.0192</td>\n",
       "      <td>-0.0494</td>\n",
       "      <td>-0.0445</td>\n",
       "      <td>-0.0366</td>\n",
       "      <td>0.0012</td>\n",
       "      <td>-0.0225</td>\n",
       "      <td>-0.0084</td>\n",
       "      <td>-0.0327</td>\n",
       "      <td>0.0128</td>\n",
       "      <td>...</td>\n",
       "      <td>-0.0157</td>\n",
       "      <td>-0.0363</td>\n",
       "      <td>-0.0430</td>\n",
       "      <td>0.0390</td>\n",
       "      <td>0.0239</td>\n",
       "      <td>-0.0460</td>\n",
       "      <td>-0.0566</td>\n",
       "      <td>-0.0150</td>\n",
       "      <td>-0.0178</td>\n",
       "      <td>-0.0157</td>\n",
       "    </tr>\n",
       "  </tbody>\n",
       "</table>\n",
       "<p>3 rows × 358 columns</p>\n",
       "</div>"
      ],
      "text/plain": [
       "             AGER_TYP  AKT_DAT_KL  ALTER_HH  ALTERSKATEGORIE_FEIN  \\\n",
       "Dimension 1    0.0827      0.0185    0.1202                0.0219   \n",
       "Dimension 2    0.0358      0.0334   -0.0189               -0.0340   \n",
       "Dimension 3   -0.0066     -0.0192   -0.0494               -0.0445   \n",
       "\n",
       "             ANZ_HAUSHALTE_AKTIV  ANZ_HH_TITEL  ANZ_KINDER  ANZ_PERSONEN  \\\n",
       "Dimension 1               0.0095        0.0084      0.0332        0.0534   \n",
       "Dimension 2               0.0865        0.0407     -0.0296       -0.0708   \n",
       "Dimension 3              -0.0366        0.0012     -0.0225       -0.0084   \n",
       "\n",
       "             ANZ_STATISTISCHE_HAUSHALTE  ANZ_TITEL          ...           \\\n",
       "Dimension 1                      0.0089     0.0139          ...            \n",
       "Dimension 2                      0.0829     0.0107          ...            \n",
       "Dimension 3                     -0.0327     0.0128          ...            \n",
       "\n",
       "             VK_DHT4A  VK_DISTANZ  VK_ZG11  W_KEIT_KIND_HH  WOHNDAUER_2008  \\\n",
       "Dimension 1    0.0390      0.0481   0.0412         -0.0852         -0.0146   \n",
       "Dimension 2    0.0775      0.0616   0.0480          0.0536         -0.0310   \n",
       "Dimension 3   -0.0157     -0.0363  -0.0430          0.0390          0.0239   \n",
       "\n",
       "             WOHNLAGE  ZABEOTYP  ONLINE_PURCHASE  ANREDE_KZ  \\\n",
       "Dimension 1    0.0272   -0.0569           0.0034    -0.0389   \n",
       "Dimension 2   -0.0828    0.0536          -0.0053     0.0221   \n",
       "Dimension 3   -0.0460   -0.0566          -0.0150    -0.0178   \n",
       "\n",
       "             ALTERSKATEGORIE_GROB  \n",
       "Dimension 1                0.1059  \n",
       "Dimension 2                0.0272  \n",
       "Dimension 3               -0.0157  \n",
       "\n",
       "[3 rows x 358 columns]"
      ]
     },
     "execution_count": 47,
     "metadata": {},
     "output_type": "execute_result"
    }
   ],
   "source": [
    "components.head(3)"
   ]
  },
  {
   "cell_type": "code",
   "execution_count": 48,
   "metadata": {},
   "outputs": [
    {
     "name": "stdout",
     "output_type": "stream",
     "text": [
      "PCA components  1 Top5 feature ['VERS_TYP', 'NATIONALITAET_KZ', 'HEALTH_TYP', 'SEMIO_VERT', 'ALTER_HH'] \n",
      " Bottom5 Feature ['FINANZ_UNAUFFAELLIGER', 'FINANZ_SPARER', 'FINANZ_ANLEGER', 'D19_KONSUMTYP_MAX', 'KOMBIALTER'] \n",
      "\n",
      "\n",
      "PCA components  2 Top5 feature ['KBA13_ANTG3', 'PLZ8_ANTG3', 'ORTSGR_KLS9', 'KBA13_BAUMAX', 'KBA13_ANTG4'] \n",
      " Bottom5 Feature ['KBA13_HALTER_50', 'KBA13_HALTER_55', 'MOBI_REGIO', 'KBA13_AUTOQUOTE', 'KBA13_ALTERHALTER_60'] \n",
      "\n",
      "\n",
      "PCA components  3 Top5 feature ['KBA13_KMH_211', 'KBA13_KMH_250', 'KBA05_MOTOR', 'KBA13_HERST_BMW_BENZ', 'KBA13_KW_121'] \n",
      " Bottom5 Feature ['KBA13_SEG_KLEINWAGEN', 'CAMEO_DEUG_2015', 'HH_EINKOMMEN_SCORE', 'KBA13_KMH_180', 'KBA13_KW_0_60'] \n",
      "\n",
      "\n"
     ]
    }
   ],
   "source": [
    "for i in range(3):\n",
    "    component = components.iloc[i,:].sort_values(ascending=False)\n",
    "    print(\"PCA components \",i+1, \"Top5 feature\",component.index.tolist()[:5], \"\\n\",\"Bottom5 Feature\",component.index.tolist()[-5:],\"\\n\\n\")"
   ]
  },
  {
   "cell_type": "code",
   "execution_count": 49,
   "metadata": {},
   "outputs": [],
   "source": [
    "#description of 3 components"
   ]
  },
  {
   "cell_type": "code",
   "execution_count": 50,
   "metadata": {},
   "outputs": [
    {
     "name": "stdout",
     "output_type": "stream",
     "text": [
      "2 30812342.8814\n",
      "3 27902287.9448\n",
      "4 25243212.261\n",
      "5 23528421.1314\n",
      "6 22298218.6769\n",
      "7 21729294.67\n",
      "8 21265164.4334\n",
      "9 20841895.3768\n",
      "10 20492544.321\n",
      "11 20171071.5231\n",
      "12 19895663.0832\n",
      "13 19621783.9947\n",
      "14 19350742.8495\n"
     ]
    }
   ],
   "source": [
    "#Clustering with kmeans\n",
    "clusters =[]\n",
    "scores =[]\n",
    "# Over a number of different cluster counts...\n",
    "for k in range(2,15):\n",
    "    # run k-means clustering on the data and...\n",
    "    kmeans = KMeans(n_clusters=k, random_state=0).fit(X_pca)\n",
    "    # compute the average within-cluster distances.\n",
    "    score = np.abs(kmeans.score(X_pca))\n",
    "    print(k,score)\n",
    "    clusters.append(k)\n",
    "    scores.append(score)"
   ]
  },
  {
   "cell_type": "code",
   "execution_count": 51,
   "metadata": {},
   "outputs": [
    {
     "data": {
      "image/png": "[encoded data removed]",
      "text/plain": [
       "<matplotlib.figure.Figure at 0x7f9748607f98>"
      ]
     },
     "metadata": {
      "needs_background": "light"
     },
     "output_type": "display_data"
    }
   ],
   "source": [
    "# Investigate the change in within-cluster distance across number of clusters.\n",
    "# HINT: Use matplotlib's plot function to visualize this relationship.\n",
    "plt.plot(clusters,scores,\"bo\");\n",
    "plt.xlabel(\"Number of Clusters\");\n",
    "plt.ylabel(\"Score\");\n",
    "plt.title(\"Number of Clusters by Scores\");\n",
    "plt.savefig(\"kmeans.png\")"
   ]
  },
  {
   "cell_type": "code",
   "execution_count": 52,
   "metadata": {},
   "outputs": [],
   "source": [
    "#split customers into 6 subgroups"
   ]
  },
  {
   "cell_type": "code",
   "execution_count": 53,
   "metadata": {},
   "outputs": [],
   "source": [
    "kmeans = KMeans(n_clusters=6, random_state=0).fit(X_pca)\n",
    "labels = kmeans.labels_\n",
    "customers[\"kmean_label\"] = labels"
   ]
  },
  {
   "cell_type": "code",
   "execution_count": 54,
   "metadata": {},
   "outputs": [
    {
     "data": {
      "text/plain": [
       "Counter({1: 48155, 3: 28081, 0: 37964, 5: 29713, 2: 46806, 4: 933})"
      ]
     },
     "execution_count": 54,
     "metadata": {},
     "output_type": "execute_result"
    }
   ],
   "source": [
    "from collections import Counter\n",
    "Counter(labels)"
   ]
  },
  {
   "cell_type": "code",
   "execution_count": 55,
   "metadata": {},
   "outputs": [
    {
     "data": {
      "image/png": "[encoded data removed]",
      "text/plain": [
       "<matplotlib.figure.Figure at 0x7f9748a40240>"
      ]
     },
     "metadata": {
      "needs_background": "light"
     },
     "output_type": "display_data"
    }
   ],
   "source": [
    "from mpl_toolkits.mplot3d import Axes3D\n",
    "fig = plt.figure(1, figsize=(8, 6))\n",
    "ax = Axes3D(fig, elev=-150, azim=110)\n",
    "ax.scatter(X_pca[:, 0], X_pca[:, 1], X_pca[:, 2], c=labels,\n",
    "           cmap=plt.cm.Set1, s=10)\n",
    "ax.set_title(\"First three PCA directions\")\n",
    "ax.set_xlabel(\"1st\")\n",
    "ax.w_xaxis.set_ticklabels([])\n",
    "ax.set_ylabel(\"2nd\")\n",
    "ax.w_yaxis.set_ticklabels([]);\n",
    "ax.set_zlabel(\"3rd\");\n",
    "ax.w_zaxis.set_ticklabels([]);\n",
    "plt.savefig(\"PCA-kmeans.png\")"
   ]
  },
  {
   "cell_type": "code",
   "execution_count": 56,
   "metadata": {},
   "outputs": [
    {
     "name": "stdout",
     "output_type": "stream",
     "text": [
      "37964\n",
      "48155\n",
      "46806\n",
      "28081\n",
      "933\n",
      "29713\n"
     ]
    }
   ],
   "source": [
    "for i in range(6):\n",
    "    print(customers[customers[\"kmean_label\"]==i].shape[0])\n",
    "    customers[customers[\"kmean_label\"]==i].loc[:,[\"PRODUCT_GROUP\",\"CUSTOMER_GROUP\",\"kmean_label\"]].head(10)"
   ]
  },
  {
   "cell_type": "code",
   "execution_count": 57,
   "metadata": {},
   "outputs": [
    {
     "name": "stdout",
     "output_type": "stream",
     "text": [
      "37964\n"
     ]
    },
    {
     "data": {
      "text/html": [
       "<div>\n",
       "<style scoped>\n",
       "    .dataframe tbody tr th:only-of-type {\n",
       "        vertical-align: middle;\n",
       "    }\n",
       "\n",
       "    .dataframe tbody tr th {\n",
       "        vertical-align: top;\n",
       "    }\n",
       "\n",
       "    .dataframe thead th {\n",
       "        text-align: right;\n",
       "    }\n",
       "</style>\n",
       "<table border=\"1\" class=\"dataframe\">\n",
       "  <thead>\n",
       "    <tr style=\"text-align: right;\">\n",
       "      <th></th>\n",
       "      <th>PRODUCT_GROUP</th>\n",
       "      <th>CUSTOMER_GROUP</th>\n",
       "      <th>kmean_label</th>\n",
       "    </tr>\n",
       "  </thead>\n",
       "  <tbody>\n",
       "    <tr>\n",
       "      <th>4</th>\n",
       "      <td>FOOD</td>\n",
       "      <td>MULTI_BUYER</td>\n",
       "      <td>0</td>\n",
       "    </tr>\n",
       "    <tr>\n",
       "      <th>10</th>\n",
       "      <td>COSMETIC</td>\n",
       "      <td>MULTI_BUYER</td>\n",
       "      <td>0</td>\n",
       "    </tr>\n",
       "    <tr>\n",
       "      <th>11</th>\n",
       "      <td>FOOD</td>\n",
       "      <td>SINGLE_BUYER</td>\n",
       "      <td>0</td>\n",
       "    </tr>\n",
       "    <tr>\n",
       "      <th>12</th>\n",
       "      <td>FOOD</td>\n",
       "      <td>SINGLE_BUYER</td>\n",
       "      <td>0</td>\n",
       "    </tr>\n",
       "    <tr>\n",
       "      <th>13</th>\n",
       "      <td>FOOD</td>\n",
       "      <td>SINGLE_BUYER</td>\n",
       "      <td>0</td>\n",
       "    </tr>\n",
       "    <tr>\n",
       "      <th>16</th>\n",
       "      <td>COSMETIC</td>\n",
       "      <td>SINGLE_BUYER</td>\n",
       "      <td>0</td>\n",
       "    </tr>\n",
       "    <tr>\n",
       "      <th>17</th>\n",
       "      <td>COSMETIC</td>\n",
       "      <td>MULTI_BUYER</td>\n",
       "      <td>0</td>\n",
       "    </tr>\n",
       "    <tr>\n",
       "      <th>20</th>\n",
       "      <td>FOOD</td>\n",
       "      <td>SINGLE_BUYER</td>\n",
       "      <td>0</td>\n",
       "    </tr>\n",
       "    <tr>\n",
       "      <th>25</th>\n",
       "      <td>COSMETIC_AND_FOOD</td>\n",
       "      <td>MULTI_BUYER</td>\n",
       "      <td>0</td>\n",
       "    </tr>\n",
       "    <tr>\n",
       "      <th>30</th>\n",
       "      <td>COSMETIC_AND_FOOD</td>\n",
       "      <td>MULTI_BUYER</td>\n",
       "      <td>0</td>\n",
       "    </tr>\n",
       "  </tbody>\n",
       "</table>\n",
       "</div>"
      ],
      "text/plain": [
       "        PRODUCT_GROUP CUSTOMER_GROUP  kmean_label\n",
       "4                FOOD    MULTI_BUYER            0\n",
       "10           COSMETIC    MULTI_BUYER            0\n",
       "11               FOOD   SINGLE_BUYER            0\n",
       "12               FOOD   SINGLE_BUYER            0\n",
       "13               FOOD   SINGLE_BUYER            0\n",
       "16           COSMETIC   SINGLE_BUYER            0\n",
       "17           COSMETIC    MULTI_BUYER            0\n",
       "20               FOOD   SINGLE_BUYER            0\n",
       "25  COSMETIC_AND_FOOD    MULTI_BUYER            0\n",
       "30  COSMETIC_AND_FOOD    MULTI_BUYER            0"
      ]
     },
     "execution_count": 57,
     "metadata": {},
     "output_type": "execute_result"
    }
   ],
   "source": [
    "print(customers[customers[\"kmean_label\"]==0].shape[0])\n",
    "customers[customers[\"kmean_label\"]==0].loc[:,[\"PRODUCT_GROUP\",\"CUSTOMER_GROUP\",\"kmean_label\"]].head(10)"
   ]
  },
  {
   "cell_type": "code",
   "execution_count": 58,
   "metadata": {},
   "outputs": [
    {
     "name": "stdout",
     "output_type": "stream",
     "text": [
      "48155\n"
     ]
    },
    {
     "data": {
      "text/html": [
       "<div>\n",
       "<style scoped>\n",
       "    .dataframe tbody tr th:only-of-type {\n",
       "        vertical-align: middle;\n",
       "    }\n",
       "\n",
       "    .dataframe tbody tr th {\n",
       "        vertical-align: top;\n",
       "    }\n",
       "\n",
       "    .dataframe thead th {\n",
       "        text-align: right;\n",
       "    }\n",
       "</style>\n",
       "<table border=\"1\" class=\"dataframe\">\n",
       "  <thead>\n",
       "    <tr style=\"text-align: right;\">\n",
       "      <th></th>\n",
       "      <th>PRODUCT_GROUP</th>\n",
       "      <th>CUSTOMER_GROUP</th>\n",
       "      <th>kmean_label</th>\n",
       "    </tr>\n",
       "  </thead>\n",
       "  <tbody>\n",
       "    <tr>\n",
       "      <th>0</th>\n",
       "      <td>COSMETIC_AND_FOOD</td>\n",
       "      <td>MULTI_BUYER</td>\n",
       "      <td>1</td>\n",
       "    </tr>\n",
       "    <tr>\n",
       "      <th>1</th>\n",
       "      <td>FOOD</td>\n",
       "      <td>SINGLE_BUYER</td>\n",
       "      <td>1</td>\n",
       "    </tr>\n",
       "    <tr>\n",
       "      <th>3</th>\n",
       "      <td>COSMETIC</td>\n",
       "      <td>MULTI_BUYER</td>\n",
       "      <td>1</td>\n",
       "    </tr>\n",
       "    <tr>\n",
       "      <th>6</th>\n",
       "      <td>COSMETIC_AND_FOOD</td>\n",
       "      <td>MULTI_BUYER</td>\n",
       "      <td>1</td>\n",
       "    </tr>\n",
       "    <tr>\n",
       "      <th>19</th>\n",
       "      <td>FOOD</td>\n",
       "      <td>SINGLE_BUYER</td>\n",
       "      <td>1</td>\n",
       "    </tr>\n",
       "    <tr>\n",
       "      <th>22</th>\n",
       "      <td>FOOD</td>\n",
       "      <td>SINGLE_BUYER</td>\n",
       "      <td>1</td>\n",
       "    </tr>\n",
       "    <tr>\n",
       "      <th>24</th>\n",
       "      <td>COSMETIC_AND_FOOD</td>\n",
       "      <td>MULTI_BUYER</td>\n",
       "      <td>1</td>\n",
       "    </tr>\n",
       "    <tr>\n",
       "      <th>26</th>\n",
       "      <td>COSMETIC</td>\n",
       "      <td>MULTI_BUYER</td>\n",
       "      <td>1</td>\n",
       "    </tr>\n",
       "    <tr>\n",
       "      <th>33</th>\n",
       "      <td>FOOD</td>\n",
       "      <td>SINGLE_BUYER</td>\n",
       "      <td>1</td>\n",
       "    </tr>\n",
       "    <tr>\n",
       "      <th>42</th>\n",
       "      <td>FOOD</td>\n",
       "      <td>SINGLE_BUYER</td>\n",
       "      <td>1</td>\n",
       "    </tr>\n",
       "  </tbody>\n",
       "</table>\n",
       "</div>"
      ],
      "text/plain": [
       "        PRODUCT_GROUP CUSTOMER_GROUP  kmean_label\n",
       "0   COSMETIC_AND_FOOD    MULTI_BUYER            1\n",
       "1                FOOD   SINGLE_BUYER            1\n",
       "3            COSMETIC    MULTI_BUYER            1\n",
       "6   COSMETIC_AND_FOOD    MULTI_BUYER            1\n",
       "19               FOOD   SINGLE_BUYER            1\n",
       "22               FOOD   SINGLE_BUYER            1\n",
       "24  COSMETIC_AND_FOOD    MULTI_BUYER            1\n",
       "26           COSMETIC    MULTI_BUYER            1\n",
       "33               FOOD   SINGLE_BUYER            1\n",
       "42               FOOD   SINGLE_BUYER            1"
      ]
     },
     "execution_count": 58,
     "metadata": {},
     "output_type": "execute_result"
    }
   ],
   "source": [
    "print(customers[customers[\"kmean_label\"]==1].shape[0])\n",
    "customers[customers[\"kmean_label\"]==1].loc[:,[\"PRODUCT_GROUP\",\"CUSTOMER_GROUP\",\"kmean_label\"]].head(10)"
   ]
  },
  {
   "cell_type": "code",
   "execution_count": 59,
   "metadata": {},
   "outputs": [
    {
     "name": "stdout",
     "output_type": "stream",
     "text": [
      "46806\n"
     ]
    },
    {
     "data": {
      "text/html": [
       "<div>\n",
       "<style scoped>\n",
       "    .dataframe tbody tr th:only-of-type {\n",
       "        vertical-align: middle;\n",
       "    }\n",
       "\n",
       "    .dataframe tbody tr th {\n",
       "        vertical-align: top;\n",
       "    }\n",
       "\n",
       "    .dataframe thead th {\n",
       "        text-align: right;\n",
       "    }\n",
       "</style>\n",
       "<table border=\"1\" class=\"dataframe\">\n",
       "  <thead>\n",
       "    <tr style=\"text-align: right;\">\n",
       "      <th></th>\n",
       "      <th>PRODUCT_GROUP</th>\n",
       "      <th>CUSTOMER_GROUP</th>\n",
       "      <th>kmean_label</th>\n",
       "    </tr>\n",
       "  </thead>\n",
       "  <tbody>\n",
       "    <tr>\n",
       "      <th>36</th>\n",
       "      <td>FOOD</td>\n",
       "      <td>MULTI_BUYER</td>\n",
       "      <td>2</td>\n",
       "    </tr>\n",
       "    <tr>\n",
       "      <th>37</th>\n",
       "      <td>FOOD</td>\n",
       "      <td>SINGLE_BUYER</td>\n",
       "      <td>2</td>\n",
       "    </tr>\n",
       "    <tr>\n",
       "      <th>38</th>\n",
       "      <td>COSMETIC</td>\n",
       "      <td>SINGLE_BUYER</td>\n",
       "      <td>2</td>\n",
       "    </tr>\n",
       "    <tr>\n",
       "      <th>39</th>\n",
       "      <td>COSMETIC</td>\n",
       "      <td>SINGLE_BUYER</td>\n",
       "      <td>2</td>\n",
       "    </tr>\n",
       "    <tr>\n",
       "      <th>40</th>\n",
       "      <td>COSMETIC</td>\n",
       "      <td>SINGLE_BUYER</td>\n",
       "      <td>2</td>\n",
       "    </tr>\n",
       "    <tr>\n",
       "      <th>43</th>\n",
       "      <td>COSMETIC_AND_FOOD</td>\n",
       "      <td>MULTI_BUYER</td>\n",
       "      <td>2</td>\n",
       "    </tr>\n",
       "    <tr>\n",
       "      <th>44</th>\n",
       "      <td>FOOD</td>\n",
       "      <td>SINGLE_BUYER</td>\n",
       "      <td>2</td>\n",
       "    </tr>\n",
       "    <tr>\n",
       "      <th>46</th>\n",
       "      <td>COSMETIC</td>\n",
       "      <td>SINGLE_BUYER</td>\n",
       "      <td>2</td>\n",
       "    </tr>\n",
       "    <tr>\n",
       "      <th>51</th>\n",
       "      <td>FOOD</td>\n",
       "      <td>SINGLE_BUYER</td>\n",
       "      <td>2</td>\n",
       "    </tr>\n",
       "    <tr>\n",
       "      <th>53</th>\n",
       "      <td>FOOD</td>\n",
       "      <td>SINGLE_BUYER</td>\n",
       "      <td>2</td>\n",
       "    </tr>\n",
       "  </tbody>\n",
       "</table>\n",
       "</div>"
      ],
      "text/plain": [
       "        PRODUCT_GROUP CUSTOMER_GROUP  kmean_label\n",
       "36               FOOD    MULTI_BUYER            2\n",
       "37               FOOD   SINGLE_BUYER            2\n",
       "38           COSMETIC   SINGLE_BUYER            2\n",
       "39           COSMETIC   SINGLE_BUYER            2\n",
       "40           COSMETIC   SINGLE_BUYER            2\n",
       "43  COSMETIC_AND_FOOD    MULTI_BUYER            2\n",
       "44               FOOD   SINGLE_BUYER            2\n",
       "46           COSMETIC   SINGLE_BUYER            2\n",
       "51               FOOD   SINGLE_BUYER            2\n",
       "53               FOOD   SINGLE_BUYER            2"
      ]
     },
     "execution_count": 59,
     "metadata": {},
     "output_type": "execute_result"
    }
   ],
   "source": [
    "print(customers[customers[\"kmean_label\"]==2].shape[0])\n",
    "customers[customers[\"kmean_label\"]==2].loc[:,[\"PRODUCT_GROUP\",\"CUSTOMER_GROUP\",\"kmean_label\"]].head(10)"
   ]
  },
  {
   "cell_type": "code",
   "execution_count": 60,
   "metadata": {},
   "outputs": [
    {
     "name": "stdout",
     "output_type": "stream",
     "text": [
      "28081\n"
     ]
    },
    {
     "data": {
      "text/html": [
       "<div>\n",
       "<style scoped>\n",
       "    .dataframe tbody tr th:only-of-type {\n",
       "        vertical-align: middle;\n",
       "    }\n",
       "\n",
       "    .dataframe tbody tr th {\n",
       "        vertical-align: top;\n",
       "    }\n",
       "\n",
       "    .dataframe thead th {\n",
       "        text-align: right;\n",
       "    }\n",
       "</style>\n",
       "<table border=\"1\" class=\"dataframe\">\n",
       "  <thead>\n",
       "    <tr style=\"text-align: right;\">\n",
       "      <th></th>\n",
       "      <th>PRODUCT_GROUP</th>\n",
       "      <th>CUSTOMER_GROUP</th>\n",
       "      <th>kmean_label</th>\n",
       "    </tr>\n",
       "  </thead>\n",
       "  <tbody>\n",
       "    <tr>\n",
       "      <th>2</th>\n",
       "      <td>COSMETIC_AND_FOOD</td>\n",
       "      <td>MULTI_BUYER</td>\n",
       "      <td>3</td>\n",
       "    </tr>\n",
       "    <tr>\n",
       "      <th>8</th>\n",
       "      <td>COSMETIC</td>\n",
       "      <td>MULTI_BUYER</td>\n",
       "      <td>3</td>\n",
       "    </tr>\n",
       "    <tr>\n",
       "      <th>14</th>\n",
       "      <td>COSMETIC_AND_FOOD</td>\n",
       "      <td>MULTI_BUYER</td>\n",
       "      <td>3</td>\n",
       "    </tr>\n",
       "    <tr>\n",
       "      <th>18</th>\n",
       "      <td>COSMETIC</td>\n",
       "      <td>SINGLE_BUYER</td>\n",
       "      <td>3</td>\n",
       "    </tr>\n",
       "    <tr>\n",
       "      <th>21</th>\n",
       "      <td>FOOD</td>\n",
       "      <td>SINGLE_BUYER</td>\n",
       "      <td>3</td>\n",
       "    </tr>\n",
       "    <tr>\n",
       "      <th>23</th>\n",
       "      <td>COSMETIC</td>\n",
       "      <td>SINGLE_BUYER</td>\n",
       "      <td>3</td>\n",
       "    </tr>\n",
       "    <tr>\n",
       "      <th>28</th>\n",
       "      <td>COSMETIC</td>\n",
       "      <td>MULTI_BUYER</td>\n",
       "      <td>3</td>\n",
       "    </tr>\n",
       "    <tr>\n",
       "      <th>29</th>\n",
       "      <td>FOOD</td>\n",
       "      <td>SINGLE_BUYER</td>\n",
       "      <td>3</td>\n",
       "    </tr>\n",
       "    <tr>\n",
       "      <th>32</th>\n",
       "      <td>FOOD</td>\n",
       "      <td>SINGLE_BUYER</td>\n",
       "      <td>3</td>\n",
       "    </tr>\n",
       "    <tr>\n",
       "      <th>81</th>\n",
       "      <td>COSMETIC_AND_FOOD</td>\n",
       "      <td>MULTI_BUYER</td>\n",
       "      <td>3</td>\n",
       "    </tr>\n",
       "  </tbody>\n",
       "</table>\n",
       "</div>"
      ],
      "text/plain": [
       "        PRODUCT_GROUP CUSTOMER_GROUP  kmean_label\n",
       "2   COSMETIC_AND_FOOD    MULTI_BUYER            3\n",
       "8            COSMETIC    MULTI_BUYER            3\n",
       "14  COSMETIC_AND_FOOD    MULTI_BUYER            3\n",
       "18           COSMETIC   SINGLE_BUYER            3\n",
       "21               FOOD   SINGLE_BUYER            3\n",
       "23           COSMETIC   SINGLE_BUYER            3\n",
       "28           COSMETIC    MULTI_BUYER            3\n",
       "29               FOOD   SINGLE_BUYER            3\n",
       "32               FOOD   SINGLE_BUYER            3\n",
       "81  COSMETIC_AND_FOOD    MULTI_BUYER            3"
      ]
     },
     "execution_count": 60,
     "metadata": {},
     "output_type": "execute_result"
    }
   ],
   "source": [
    "print(customers[customers[\"kmean_label\"]==3].shape[0])\n",
    "customers[customers[\"kmean_label\"]==3].loc[:,[\"PRODUCT_GROUP\",\"CUSTOMER_GROUP\",\"kmean_label\"]].head(10)"
   ]
  },
  {
   "cell_type": "code",
   "execution_count": 61,
   "metadata": {},
   "outputs": [],
   "source": [
    "#Result\n",
    "#Cluster 1: Customers are more likely to buy cosmetics, while people in cluster 2,4,5 are not\n",
    "#Cluster 2: Customers are more likely to be single-buyer\n",
    "#Cluster 3: Customers are more likely to be multi-buyer"
   ]
  },
  {
   "cell_type": "markdown",
   "metadata": {},
   "source": [
    "## Part 2: Supervised Learning Model\n",
    "\n",
    "Now that you've found which parts of the population are more likely to be customers of the mail-order company, it's time to build a prediction model. Each of the rows in the \"MAILOUT\" data files represents an individual that was targeted for a mailout campaign. Ideally, we should be able to use the demographic information from each individual to decide whether or not it will be worth it to include that person in the campaign.\n",
    "\n",
    "The \"MAILOUT\" data has been split into two approximately equal parts, each with almost 43 000 data rows. In this part, you can verify your model with the \"TRAIN\" partition, which includes a column, \"RESPONSE\", that states whether or not a person became a customer of the company following the campaign. In the next part, you'll need to create predictions on the \"TEST\" partition, where the \"RESPONSE\" column has been withheld."
   ]
  },
  {
   "cell_type": "code",
   "execution_count": 62,
   "metadata": {},
   "outputs": [
    {
     "name": "stderr",
     "output_type": "stream",
     "text": [
      "/opt/conda/lib/python3.6/site-packages/IPython/core/interactiveshell.py:2785: DtypeWarning: Columns (18,19) have mixed types. Specify dtype option on import or set low_memory=False.\n",
      "  interactivity=interactivity, compiler=compiler, result=result)\n"
     ]
    }
   ],
   "source": [
    "mailout_train = pd.read_csv('../../data/Term2/capstone/arvato_data/Udacity_MAILOUT_052018_TRAIN.csv', sep=';')"
   ]
  },
  {
   "cell_type": "code",
   "execution_count": 63,
   "metadata": {},
   "outputs": [
    {
     "data": {
      "text/plain": [
       "0    42430\n",
       "1      532\n",
       "Name: RESPONSE, dtype: int64"
      ]
     },
     "execution_count": 63,
     "metadata": {},
     "output_type": "execute_result"
    }
   ],
   "source": [
    "# how many postive samples are in the data set?\n",
    "mailout_train[\"RESPONSE\"].value_counts()"
   ]
  },
  {
   "cell_type": "code",
   "execution_count": 64,
   "metadata": {},
   "outputs": [
    {
     "data": {
      "text/html": [
       "<div>\n",
       "<style scoped>\n",
       "    .dataframe tbody tr th:only-of-type {\n",
       "        vertical-align: middle;\n",
       "    }\n",
       "\n",
       "    .dataframe tbody tr th {\n",
       "        vertical-align: top;\n",
       "    }\n",
       "\n",
       "    .dataframe thead th {\n",
       "        text-align: right;\n",
       "    }\n",
       "</style>\n",
       "<table border=\"1\" class=\"dataframe\">\n",
       "  <thead>\n",
       "    <tr style=\"text-align: right;\">\n",
       "      <th></th>\n",
       "      <th>LNR</th>\n",
       "      <th>AGER_TYP</th>\n",
       "      <th>AKT_DAT_KL</th>\n",
       "      <th>ALTER_HH</th>\n",
       "      <th>ALTER_KIND1</th>\n",
       "      <th>ALTER_KIND2</th>\n",
       "      <th>ALTER_KIND3</th>\n",
       "      <th>ALTER_KIND4</th>\n",
       "      <th>ALTERSKATEGORIE_FEIN</th>\n",
       "      <th>ANZ_HAUSHALTE_AKTIV</th>\n",
       "      <th>...</th>\n",
       "      <th>VK_DHT4A</th>\n",
       "      <th>VK_DISTANZ</th>\n",
       "      <th>VK_ZG11</th>\n",
       "      <th>W_KEIT_KIND_HH</th>\n",
       "      <th>WOHNDAUER_2008</th>\n",
       "      <th>WOHNLAGE</th>\n",
       "      <th>ZABEOTYP</th>\n",
       "      <th>RESPONSE</th>\n",
       "      <th>ANREDE_KZ</th>\n",
       "      <th>ALTERSKATEGORIE_GROB</th>\n",
       "    </tr>\n",
       "  </thead>\n",
       "  <tbody>\n",
       "    <tr>\n",
       "      <th>count</th>\n",
       "      <td>42962.000000</td>\n",
       "      <td>42962.000000</td>\n",
       "      <td>35993.000000</td>\n",
       "      <td>35993.000000</td>\n",
       "      <td>1988.000000</td>\n",
       "      <td>756.000000</td>\n",
       "      <td>174.000000</td>\n",
       "      <td>41.000000</td>\n",
       "      <td>34807.000000</td>\n",
       "      <td>35185.000000</td>\n",
       "      <td>...</td>\n",
       "      <td>35695.000000</td>\n",
       "      <td>35695.000000</td>\n",
       "      <td>35695.000000</td>\n",
       "      <td>33284.000000</td>\n",
       "      <td>35993.000000</td>\n",
       "      <td>35185.000000</td>\n",
       "      <td>42962.000000</td>\n",
       "      <td>42962.000000</td>\n",
       "      <td>42962.000000</td>\n",
       "      <td>42962.000000</td>\n",
       "    </tr>\n",
       "    <tr>\n",
       "      <th>mean</th>\n",
       "      <td>42803.120129</td>\n",
       "      <td>0.542922</td>\n",
       "      <td>1.525241</td>\n",
       "      <td>10.285556</td>\n",
       "      <td>12.606137</td>\n",
       "      <td>13.783069</td>\n",
       "      <td>14.655172</td>\n",
       "      <td>14.195122</td>\n",
       "      <td>9.855058</td>\n",
       "      <td>6.706096</td>\n",
       "      <td>...</td>\n",
       "      <td>4.318644</td>\n",
       "      <td>4.505953</td>\n",
       "      <td>3.116963</td>\n",
       "      <td>4.488403</td>\n",
       "      <td>8.729947</td>\n",
       "      <td>4.059685</td>\n",
       "      <td>2.804199</td>\n",
       "      <td>0.012383</td>\n",
       "      <td>1.595084</td>\n",
       "      <td>3.213910</td>\n",
       "    </tr>\n",
       "    <tr>\n",
       "      <th>std</th>\n",
       "      <td>24778.339984</td>\n",
       "      <td>1.412924</td>\n",
       "      <td>1.741500</td>\n",
       "      <td>6.082610</td>\n",
       "      <td>3.924976</td>\n",
       "      <td>3.065817</td>\n",
       "      <td>2.615329</td>\n",
       "      <td>3.034959</td>\n",
       "      <td>4.373539</td>\n",
       "      <td>15.151790</td>\n",
       "      <td>...</td>\n",
       "      <td>3.165199</td>\n",
       "      <td>3.289502</td>\n",
       "      <td>2.534331</td>\n",
       "      <td>1.889573</td>\n",
       "      <td>1.010545</td>\n",
       "      <td>2.046697</td>\n",
       "      <td>1.121585</td>\n",
       "      <td>0.110589</td>\n",
       "      <td>0.490881</td>\n",
       "      <td>1.067475</td>\n",
       "    </tr>\n",
       "    <tr>\n",
       "      <th>min</th>\n",
       "      <td>1.000000</td>\n",
       "      <td>-1.000000</td>\n",
       "      <td>1.000000</td>\n",
       "      <td>0.000000</td>\n",
       "      <td>2.000000</td>\n",
       "      <td>5.000000</td>\n",
       "      <td>6.000000</td>\n",
       "      <td>6.000000</td>\n",
       "      <td>0.000000</td>\n",
       "      <td>0.000000</td>\n",
       "      <td>...</td>\n",
       "      <td>1.000000</td>\n",
       "      <td>1.000000</td>\n",
       "      <td>1.000000</td>\n",
       "      <td>0.000000</td>\n",
       "      <td>1.000000</td>\n",
       "      <td>0.000000</td>\n",
       "      <td>1.000000</td>\n",
       "      <td>0.000000</td>\n",
       "      <td>1.000000</td>\n",
       "      <td>1.000000</td>\n",
       "    </tr>\n",
       "    <tr>\n",
       "      <th>25%</th>\n",
       "      <td>21284.250000</td>\n",
       "      <td>-1.000000</td>\n",
       "      <td>1.000000</td>\n",
       "      <td>8.000000</td>\n",
       "      <td>9.000000</td>\n",
       "      <td>12.000000</td>\n",
       "      <td>13.000000</td>\n",
       "      <td>13.000000</td>\n",
       "      <td>8.000000</td>\n",
       "      <td>1.000000</td>\n",
       "      <td>...</td>\n",
       "      <td>1.000000</td>\n",
       "      <td>2.000000</td>\n",
       "      <td>1.000000</td>\n",
       "      <td>3.000000</td>\n",
       "      <td>9.000000</td>\n",
       "      <td>3.000000</td>\n",
       "      <td>3.000000</td>\n",
       "      <td>0.000000</td>\n",
       "      <td>1.000000</td>\n",
       "      <td>3.000000</td>\n",
       "    </tr>\n",
       "    <tr>\n",
       "      <th>50%</th>\n",
       "      <td>42710.000000</td>\n",
       "      <td>1.000000</td>\n",
       "      <td>1.000000</td>\n",
       "      <td>10.000000</td>\n",
       "      <td>13.000000</td>\n",
       "      <td>14.000000</td>\n",
       "      <td>15.000000</td>\n",
       "      <td>15.000000</td>\n",
       "      <td>10.000000</td>\n",
       "      <td>2.000000</td>\n",
       "      <td>...</td>\n",
       "      <td>3.000000</td>\n",
       "      <td>4.000000</td>\n",
       "      <td>2.000000</td>\n",
       "      <td>6.000000</td>\n",
       "      <td>9.000000</td>\n",
       "      <td>3.000000</td>\n",
       "      <td>3.000000</td>\n",
       "      <td>0.000000</td>\n",
       "      <td>2.000000</td>\n",
       "      <td>4.000000</td>\n",
       "    </tr>\n",
       "    <tr>\n",
       "      <th>75%</th>\n",
       "      <td>64340.500000</td>\n",
       "      <td>2.000000</td>\n",
       "      <td>1.000000</td>\n",
       "      <td>15.000000</td>\n",
       "      <td>16.000000</td>\n",
       "      <td>16.000000</td>\n",
       "      <td>17.000000</td>\n",
       "      <td>17.000000</td>\n",
       "      <td>13.000000</td>\n",
       "      <td>7.000000</td>\n",
       "      <td>...</td>\n",
       "      <td>7.000000</td>\n",
       "      <td>7.000000</td>\n",
       "      <td>4.000000</td>\n",
       "      <td>6.000000</td>\n",
       "      <td>9.000000</td>\n",
       "      <td>7.000000</td>\n",
       "      <td>3.000000</td>\n",
       "      <td>0.000000</td>\n",
       "      <td>2.000000</td>\n",
       "      <td>4.000000</td>\n",
       "    </tr>\n",
       "    <tr>\n",
       "      <th>max</th>\n",
       "      <td>85795.000000</td>\n",
       "      <td>3.000000</td>\n",
       "      <td>9.000000</td>\n",
       "      <td>21.000000</td>\n",
       "      <td>18.000000</td>\n",
       "      <td>18.000000</td>\n",
       "      <td>18.000000</td>\n",
       "      <td>18.000000</td>\n",
       "      <td>25.000000</td>\n",
       "      <td>438.000000</td>\n",
       "      <td>...</td>\n",
       "      <td>11.000000</td>\n",
       "      <td>13.000000</td>\n",
       "      <td>11.000000</td>\n",
       "      <td>6.000000</td>\n",
       "      <td>9.000000</td>\n",
       "      <td>8.000000</td>\n",
       "      <td>6.000000</td>\n",
       "      <td>1.000000</td>\n",
       "      <td>2.000000</td>\n",
       "      <td>9.000000</td>\n",
       "    </tr>\n",
       "  </tbody>\n",
       "</table>\n",
       "<p>8 rows × 361 columns</p>\n",
       "</div>"
      ],
      "text/plain": [
       "                LNR      AGER_TYP    AKT_DAT_KL      ALTER_HH  ALTER_KIND1  \\\n",
       "count  42962.000000  42962.000000  35993.000000  35993.000000  1988.000000   \n",
       "mean   42803.120129      0.542922      1.525241     10.285556    12.606137   \n",
       "std    24778.339984      1.412924      1.741500      6.082610     3.924976   \n",
       "min        1.000000     -1.000000      1.000000      0.000000     2.000000   \n",
       "25%    21284.250000     -1.000000      1.000000      8.000000     9.000000   \n",
       "50%    42710.000000      1.000000      1.000000     10.000000    13.000000   \n",
       "75%    64340.500000      2.000000      1.000000     15.000000    16.000000   \n",
       "max    85795.000000      3.000000      9.000000     21.000000    18.000000   \n",
       "\n",
       "       ALTER_KIND2  ALTER_KIND3  ALTER_KIND4  ALTERSKATEGORIE_FEIN  \\\n",
       "count   756.000000   174.000000    41.000000          34807.000000   \n",
       "mean     13.783069    14.655172    14.195122              9.855058   \n",
       "std       3.065817     2.615329     3.034959              4.373539   \n",
       "min       5.000000     6.000000     6.000000              0.000000   \n",
       "25%      12.000000    13.000000    13.000000              8.000000   \n",
       "50%      14.000000    15.000000    15.000000             10.000000   \n",
       "75%      16.000000    17.000000    17.000000             13.000000   \n",
       "max      18.000000    18.000000    18.000000             25.000000   \n",
       "\n",
       "       ANZ_HAUSHALTE_AKTIV          ...               VK_DHT4A    VK_DISTANZ  \\\n",
       "count         35185.000000          ...           35695.000000  35695.000000   \n",
       "mean              6.706096          ...               4.318644      4.505953   \n",
       "std              15.151790          ...               3.165199      3.289502   \n",
       "min               0.000000          ...               1.000000      1.000000   \n",
       "25%               1.000000          ...               1.000000      2.000000   \n",
       "50%               2.000000          ...               3.000000      4.000000   \n",
       "75%               7.000000          ...               7.000000      7.000000   \n",
       "max             438.000000          ...              11.000000     13.000000   \n",
       "\n",
       "            VK_ZG11  W_KEIT_KIND_HH  WOHNDAUER_2008      WOHNLAGE  \\\n",
       "count  35695.000000    33284.000000    35993.000000  35185.000000   \n",
       "mean       3.116963        4.488403        8.729947      4.059685   \n",
       "std        2.534331        1.889573        1.010545      2.046697   \n",
       "min        1.000000        0.000000        1.000000      0.000000   \n",
       "25%        1.000000        3.000000        9.000000      3.000000   \n",
       "50%        2.000000        6.000000        9.000000      3.000000   \n",
       "75%        4.000000        6.000000        9.000000      7.000000   \n",
       "max       11.000000        6.000000        9.000000      8.000000   \n",
       "\n",
       "           ZABEOTYP      RESPONSE     ANREDE_KZ  ALTERSKATEGORIE_GROB  \n",
       "count  42962.000000  42962.000000  42962.000000          42962.000000  \n",
       "mean       2.804199      0.012383      1.595084              3.213910  \n",
       "std        1.121585      0.110589      0.490881              1.067475  \n",
       "min        1.000000      0.000000      1.000000              1.000000  \n",
       "25%        3.000000      0.000000      1.000000              3.000000  \n",
       "50%        3.000000      0.000000      2.000000              4.000000  \n",
       "75%        3.000000      0.000000      2.000000              4.000000  \n",
       "max        6.000000      1.000000      2.000000              9.000000  \n",
       "\n",
       "[8 rows x 361 columns]"
      ]
     },
     "execution_count": 64,
     "metadata": {},
     "output_type": "execute_result"
    }
   ],
   "source": [
    "mailout_train.describe()"
   ]
  },
  {
   "cell_type": "code",
   "execution_count": 65,
   "metadata": {},
   "outputs": [],
   "source": [
    "# Investigate \"OST_WEST_KZ\"  and engineer a new variables.\n",
    "def get_ost(x):\n",
    "    try:\n",
    "        if x ==\"W\":\n",
    "            return 1\n",
    "        if x == \"O\":\n",
    "            return 0\n",
    "    except:\n",
    "        return x\n",
    "    \n",
    "# Investigate \"EINGEFUEGT_AM\"  and engineer a new variables.\n",
    "def get_year(x):\n",
    "    try:\n",
    "        return pd.to_datetime(x).year\n",
    "    except:\n",
    "        return x\n",
    "    \n",
    "def get_value(x):\n",
    "    try:\n",
    "        return x-1992\n",
    "    except:\n",
    "        return x\n",
    "    \n",
    "# Investigate \"CAMEO_DEUG_2015\"  and \"CAMEO_INTL_2015\" and engineer two new variables.\n",
    "def get_deug(x):\n",
    "    try:\n",
    "        if x ==\"X\":\n",
    "            return 10\n",
    "        return int(x)\n",
    "    except:\n",
    "        return x\n",
    "def get_intl(x):\n",
    "    try:\n",
    "        if x ==\"XX\":\n",
    "            return 10\n",
    "        return int(x)/10\n",
    "    except:\n",
    "        return x"
   ]
  },
  {
   "cell_type": "code",
   "execution_count": 66,
   "metadata": {},
   "outputs": [],
   "source": [
    "null_cols =['ALTER_KIND1', 'ALTER_KIND2', 'ALTER_KIND3', 'ALTER_KIND4']\n",
    "def clean_data(df):\n",
    "    for col in null_cols:\n",
    "        del df[col]   # delete null cols\n",
    "        \n",
    "    # re-encoding string values in the df\n",
    "    df[\"OST_WEST_KZ\"] = df[\"OST_WEST_KZ\"].apply(get_ost)  \n",
    "    df[\"EINGEFUEGT_AM\"] = df[\"EINGEFUEGT_AM\"].apply(get_year)\n",
    "    df[\"EINGEFUEGT_AM\"] = df[\"EINGEFUEGT_AM\"].apply(get_value)\n",
    "    df[\"CAMEO_DEUG_2015\"] = df[\"CAMEO_DEUG_2015\"].apply(get_deug)\n",
    "    df[\"CAMEO_INTL_2015\"] = df[\"CAMEO_INTL_2015\"].apply(get_intl)\n",
    "    del df[\"D19_LETZTER_KAUF_BRANCHE\"]\n",
    "    del df[\"CAMEO_DEU_2015\"]\n",
    "    \n",
    "    return df\n",
    "mailout_train =clean_data(mailout_train)"
   ]
  },
  {
   "cell_type": "code",
   "execution_count": 67,
   "metadata": {},
   "outputs": [
    {
     "name": "stdout",
     "output_type": "stream",
     "text": [
      "Train data (84381, 361)\n",
      "Test data (350, 361)\n"
     ]
    }
   ],
   "source": [
    "# Use 1/3 Postive samples and equal numbers of negative samples as test data.\n",
    "df1 = mailout_train[mailout_train[\"RESPONSE\"]==1]\n",
    "df2 = mailout_train[mailout_train[\"RESPONSE\"]==0]\n",
    "test_idx_1 = random.sample(list(df1.index),int(df1.shape[0]*0.33))\n",
    "test_idx_2 = random.sample(list(df2.index),int(df1.shape[0]*0.33))\n",
    "test_data = mailout_train.iloc[test_idx_1+test_idx_2,:]\n",
    "\n",
    "# Use 2/3 Postive samples and equal numbers of negative samples as train data.\n",
    "idxs = list(mailout_train.index)\n",
    "test_idx =test_idx_1+test_idx_2\n",
    "for i in test_idx:\n",
    "    idxs.remove(i)\n",
    "train_df = mailout_train.iloc[idxs,:]\n",
    "\n",
    "train_df1 = train_df[train_df[\"RESPONSE\"]==1]\n",
    "train_df2 = train_df[train_df[\"RESPONSE\"]==0]\n",
    "train_data =[]\n",
    "for i in range(int(train_df2.shape[0]/train_df1.shape[0])):\n",
    "    train_data.append(train_df1)\n",
    "train_data.append(train_df2)\n",
    "\n",
    "train_data = pd.concat(train_data)\n",
    "print(\"Train data\",train_data.shape)\n",
    "print(\"Test data\",test_data.shape)"
   ]
  },
  {
   "cell_type": "code",
   "execution_count": 68,
   "metadata": {},
   "outputs": [],
   "source": [
    "train_data = train_data.sort_index().reset_index(drop=True)\n",
    "train_labels = train_data.RESPONSE.tolist()\n",
    "\n",
    "test_data = test_data.sort_index().reset_index(drop=True)\n",
    "test_labels = test_data.RESPONSE.tolist()\n",
    "\n",
    "del train_data[\"LNR\"]\n",
    "del train_data[\"RESPONSE\"]\n",
    "    \n",
    "del test_data[\"LNR\"]\n",
    "del test_data[\"RESPONSE\"]"
   ]
  },
  {
   "cell_type": "code",
   "execution_count": 69,
   "metadata": {},
   "outputs": [],
   "source": [
    "def get_stand_data(data):\n",
    "    imputer =Imputer(missing_values=\"NaN\", strategy=\"most_frequent\",axis=0, verbose=0,copy=True)\n",
    "    data= imputer.fit_transform(data)\n",
    "    data_X = StandardScaler().fit_transform(data)\n",
    "    return data_X\n",
    "def get_pca(train,test):\n",
    "    imputer =Imputer(missing_values=\"NaN\", strategy=\"most_frequent\",axis=0, verbose=0,copy=True)\n",
    "    train= imputer.fit_transform(train)\n",
    "    train_X = StandardScaler().fit_transform(train)\n",
    "    \n",
    "    test= imputer.transform(test)\n",
    "    test_X = StandardScaler().fit_transform(test)\n",
    "    \n",
    "    pca = PCA(30)\n",
    "    X_train_pca = pca.fit_transform(train_X)\n",
    "    X_test_pca =pca.transform(test_X)\n",
    "    return X_train_pca, X_test_pca\n",
    "train = get_stand_data(train_data)\n",
    "test = get_stand_data(test_data)"
   ]
  },
  {
   "cell_type": "code",
   "execution_count": 70,
   "metadata": {},
   "outputs": [
    {
     "name": "stderr",
     "output_type": "stream",
     "text": [
      "/opt/conda/lib/python3.6/site-packages/sklearn/linear_model/stochastic_gradient.py:128: FutureWarning: max_iter and tol parameters have been added in <class 'sklearn.linear_model.stochastic_gradient.SGDClassifier'> in 0.19. If both are left unset, they default to max_iter=5 and tol=None. If tol is not None, max_iter defaults to max_iter=1000. From 0.21, default max_iter will be 1000, and default tol will be 1e-3.\n",
      "  \"and default tol will be 1e-3.\" % type(self), FutureWarning)\n"
     ]
    },
    {
     "name": "stdout",
     "output_type": "stream",
     "text": [
      "             precision    recall  f1-score   support\n",
      "\n",
      "          0       0.57      0.53      0.55       175\n",
      "          1       0.56      0.60      0.58       175\n",
      "\n",
      "avg / total       0.56      0.56      0.56       350\n",
      "\n"
     ]
    }
   ],
   "source": [
    "from sklearn.linear_model import SGDClassifier\n",
    "from sklearn.metrics import classification_report\n",
    "X_train, X_test, y_train, y_test = train,test,train_labels,test_labels\n",
    "clf = SGDClassifier()\n",
    "clf.fit(X_train, y_train)\n",
    "y_pred = clf.predict(X_test)\n",
    "print(classification_report(y_test, y_pred))"
   ]
  },
  {
   "cell_type": "code",
   "execution_count": 71,
   "metadata": {},
   "outputs": [
    {
     "data": {
      "text/plain": [
       "'             precision    recall  f1-score   support\\n\\n          0       0.57      0.53      0.55       175\\n          1       0.56      0.60      0.58       175\\n\\navg / total       0.56      0.56      0.56       350\\n'"
      ]
     },
     "execution_count": 71,
     "metadata": {},
     "output_type": "execute_result"
    }
   ],
   "source": [
    "df =classification_report(y_test, y_pred)\n",
    "df"
   ]
  },
  {
   "cell_type": "code",
   "execution_count": 73,
   "metadata": {},
   "outputs": [],
   "source": [
    "#sns.heatmap(classification_report(y_test, y_pred))"
   ]
  },
  {
   "cell_type": "markdown",
   "metadata": {},
   "source": [
    "## Part 3: Kaggle Competition\n",
    "\n",
    "Now that you've created a model to predict which individuals are most likely to respond to a mailout campaign, it's time to test that model in competition through Kaggle. If you click on the link [here](http://www.kaggle.com/t/21e6d45d4c574c7fa2d868f0e8c83140), you'll be taken to the competition page where, if you have a Kaggle account, you can enter.\n",
    "\n",
    "Your entry to the competition should be a CSV file with two columns. The first column should be a copy of \"LNR\", which acts as an ID number for each individual in the \"TEST\" partition. The second column, \"RESPONSE\", should be some measure of how likely each individual became a customer – this might not be a straightforward probability. As you should have found in Part 2, there is a large output class imbalance, where most individuals did not respond to the mailout. Thus, predicting individual classes and using accuracy does not seem to be an appropriate performance evaluation method. Instead, the competition will be using AUC to evaluate performance. The exact values of the \"RESPONSE\" column do not matter as much: only that the higher values try to capture as many of the actual customers as possible, early in the ROC curve sweep."
   ]
  },
  {
   "cell_type": "code",
   "execution_count": 74,
   "metadata": {},
   "outputs": [
    {
     "name": "stderr",
     "output_type": "stream",
     "text": [
      "/opt/conda/lib/python3.6/site-packages/IPython/core/interactiveshell.py:2785: DtypeWarning: Columns (18,19) have mixed types. Specify dtype option on import or set low_memory=False.\n",
      "  interactivity=interactivity, compiler=compiler, result=result)\n"
     ]
    }
   ],
   "source": [
    "mailout_test = pd.read_csv('../../data/Term2/capstone/arvato_data/Udacity_MAILOUT_052018_TEST.csv', sep=';')"
   ]
  },
  {
   "cell_type": "code",
   "execution_count": 75,
   "metadata": {},
   "outputs": [],
   "source": [
    "#print('before preprocessing mailout_test.shape: ', mailout_test.shape)\n",
    "#mailout_test_clean = data_preprocess_2(mailout_test, False)\n",
    "#print('after preprocessing mailout_test_clean.shape: ', mailout_test_clean.shape)"
   ]
  },
  {
   "cell_type": "code",
   "execution_count": 76,
   "metadata": {},
   "outputs": [],
   "source": [
    "#prediction_for_kaggle = clf_final.predict(mailout_test_clean)"
   ]
  },
  {
   "cell_type": "code",
   "execution_count": 77,
   "metadata": {},
   "outputs": [],
   "source": [
    "#df_kaggle = pd.DataFrame(index=mailout_test['LNR'].astype('int32'), data=prediction_for_kaggle)\n",
    "#df_kaggle.rename(columns={0: \"RESPONSE\"}, inplace=True)"
   ]
  },
  {
   "cell_type": "code",
   "execution_count": 78,
   "metadata": {},
   "outputs": [],
   "source": [
    "#df_kaggle.head(10)"
   ]
  },
  {
   "cell_type": "code",
   "execution_count": 79,
   "metadata": {},
   "outputs": [],
   "source": [
    "#df_kaggle.to_csv('kaggle_submission.csv')"
   ]
  },
  {
   "cell_type": "code",
   "execution_count": 80,
   "metadata": {},
   "outputs": [
    {
     "name": "stdout",
     "output_type": "stream",
     "text": [
      "before preprocessing mailout_test.shape:  (42833, 366)\n",
      "after preprocessing mailout_test_clean.shape:  (42833, 360)\n"
     ]
    },
    {
     "data": {
      "text/html": [
       "<div>\n",
       "<style scoped>\n",
       "    .dataframe tbody tr th:only-of-type {\n",
       "        vertical-align: middle;\n",
       "    }\n",
       "\n",
       "    .dataframe tbody tr th {\n",
       "        vertical-align: top;\n",
       "    }\n",
       "\n",
       "    .dataframe thead th {\n",
       "        text-align: right;\n",
       "    }\n",
       "</style>\n",
       "<table border=\"1\" class=\"dataframe\">\n",
       "  <thead>\n",
       "    <tr style=\"text-align: right;\">\n",
       "      <th></th>\n",
       "      <th>LNR</th>\n",
       "      <th>AGER_TYP</th>\n",
       "      <th>AKT_DAT_KL</th>\n",
       "      <th>ALTER_HH</th>\n",
       "      <th>ALTERSKATEGORIE_FEIN</th>\n",
       "      <th>ANZ_HAUSHALTE_AKTIV</th>\n",
       "      <th>ANZ_HH_TITEL</th>\n",
       "      <th>ANZ_KINDER</th>\n",
       "      <th>ANZ_PERSONEN</th>\n",
       "      <th>ANZ_STATISTISCHE_HAUSHALTE</th>\n",
       "      <th>...</th>\n",
       "      <th>VHN</th>\n",
       "      <th>VK_DHT4A</th>\n",
       "      <th>VK_DISTANZ</th>\n",
       "      <th>VK_ZG11</th>\n",
       "      <th>W_KEIT_KIND_HH</th>\n",
       "      <th>WOHNDAUER_2008</th>\n",
       "      <th>WOHNLAGE</th>\n",
       "      <th>ZABEOTYP</th>\n",
       "      <th>ANREDE_KZ</th>\n",
       "      <th>ALTERSKATEGORIE_GROB</th>\n",
       "    </tr>\n",
       "  </thead>\n",
       "  <tbody>\n",
       "    <tr>\n",
       "      <th>0</th>\n",
       "      <td>1754</td>\n",
       "      <td>2</td>\n",
       "      <td>1.0</td>\n",
       "      <td>7.0</td>\n",
       "      <td>6.0</td>\n",
       "      <td>2.0</td>\n",
       "      <td>0.0</td>\n",
       "      <td>0.0</td>\n",
       "      <td>2.0</td>\n",
       "      <td>2.0</td>\n",
       "      <td>...</td>\n",
       "      <td>4.0</td>\n",
       "      <td>5.0</td>\n",
       "      <td>6.0</td>\n",
       "      <td>3.0</td>\n",
       "      <td>6.0</td>\n",
       "      <td>9.0</td>\n",
       "      <td>3.0</td>\n",
       "      <td>3</td>\n",
       "      <td>1</td>\n",
       "      <td>4</td>\n",
       "    </tr>\n",
       "    <tr>\n",
       "      <th>1</th>\n",
       "      <td>1770</td>\n",
       "      <td>-1</td>\n",
       "      <td>1.0</td>\n",
       "      <td>0.0</td>\n",
       "      <td>0.0</td>\n",
       "      <td>20.0</td>\n",
       "      <td>0.0</td>\n",
       "      <td>0.0</td>\n",
       "      <td>1.0</td>\n",
       "      <td>21.0</td>\n",
       "      <td>...</td>\n",
       "      <td>1.0</td>\n",
       "      <td>5.0</td>\n",
       "      <td>2.0</td>\n",
       "      <td>1.0</td>\n",
       "      <td>6.0</td>\n",
       "      <td>9.0</td>\n",
       "      <td>5.0</td>\n",
       "      <td>3</td>\n",
       "      <td>1</td>\n",
       "      <td>4</td>\n",
       "    </tr>\n",
       "    <tr>\n",
       "      <th>2</th>\n",
       "      <td>1465</td>\n",
       "      <td>2</td>\n",
       "      <td>9.0</td>\n",
       "      <td>16.0</td>\n",
       "      <td>11.0</td>\n",
       "      <td>2.0</td>\n",
       "      <td>0.0</td>\n",
       "      <td>0.0</td>\n",
       "      <td>4.0</td>\n",
       "      <td>2.0</td>\n",
       "      <td>...</td>\n",
       "      <td>3.0</td>\n",
       "      <td>9.0</td>\n",
       "      <td>6.0</td>\n",
       "      <td>3.0</td>\n",
       "      <td>2.0</td>\n",
       "      <td>9.0</td>\n",
       "      <td>4.0</td>\n",
       "      <td>3</td>\n",
       "      <td>2</td>\n",
       "      <td>4</td>\n",
       "    </tr>\n",
       "    <tr>\n",
       "      <th>3</th>\n",
       "      <td>1470</td>\n",
       "      <td>-1</td>\n",
       "      <td>7.0</td>\n",
       "      <td>0.0</td>\n",
       "      <td>0.0</td>\n",
       "      <td>1.0</td>\n",
       "      <td>0.0</td>\n",
       "      <td>0.0</td>\n",
       "      <td>0.0</td>\n",
       "      <td>1.0</td>\n",
       "      <td>...</td>\n",
       "      <td>2.0</td>\n",
       "      <td>6.0</td>\n",
       "      <td>6.0</td>\n",
       "      <td>3.0</td>\n",
       "      <td>NaN</td>\n",
       "      <td>9.0</td>\n",
       "      <td>2.0</td>\n",
       "      <td>3</td>\n",
       "      <td>2</td>\n",
       "      <td>4</td>\n",
       "    </tr>\n",
       "    <tr>\n",
       "      <th>4</th>\n",
       "      <td>1478</td>\n",
       "      <td>1</td>\n",
       "      <td>1.0</td>\n",
       "      <td>21.0</td>\n",
       "      <td>13.0</td>\n",
       "      <td>1.0</td>\n",
       "      <td>0.0</td>\n",
       "      <td>0.0</td>\n",
       "      <td>4.0</td>\n",
       "      <td>1.0</td>\n",
       "      <td>...</td>\n",
       "      <td>1.0</td>\n",
       "      <td>2.0</td>\n",
       "      <td>4.0</td>\n",
       "      <td>3.0</td>\n",
       "      <td>3.0</td>\n",
       "      <td>9.0</td>\n",
       "      <td>7.0</td>\n",
       "      <td>4</td>\n",
       "      <td>2</td>\n",
       "      <td>4</td>\n",
       "    </tr>\n",
       "  </tbody>\n",
       "</table>\n",
       "<p>5 rows × 360 columns</p>\n",
       "</div>"
      ],
      "text/plain": [
       "    LNR  AGER_TYP  AKT_DAT_KL  ALTER_HH  ALTERSKATEGORIE_FEIN  \\\n",
       "0  1754         2         1.0       7.0                   6.0   \n",
       "1  1770        -1         1.0       0.0                   0.0   \n",
       "2  1465         2         9.0      16.0                  11.0   \n",
       "3  1470        -1         7.0       0.0                   0.0   \n",
       "4  1478         1         1.0      21.0                  13.0   \n",
       "\n",
       "   ANZ_HAUSHALTE_AKTIV  ANZ_HH_TITEL  ANZ_KINDER  ANZ_PERSONEN  \\\n",
       "0                  2.0           0.0         0.0           2.0   \n",
       "1                 20.0           0.0         0.0           1.0   \n",
       "2                  2.0           0.0         0.0           4.0   \n",
       "3                  1.0           0.0         0.0           0.0   \n",
       "4                  1.0           0.0         0.0           4.0   \n",
       "\n",
       "   ANZ_STATISTISCHE_HAUSHALTE          ...           VHN  VK_DHT4A  \\\n",
       "0                         2.0          ...           4.0       5.0   \n",
       "1                        21.0          ...           1.0       5.0   \n",
       "2                         2.0          ...           3.0       9.0   \n",
       "3                         1.0          ...           2.0       6.0   \n",
       "4                         1.0          ...           1.0       2.0   \n",
       "\n",
       "   VK_DISTANZ  VK_ZG11  W_KEIT_KIND_HH  WOHNDAUER_2008  WOHNLAGE  ZABEOTYP  \\\n",
       "0         6.0      3.0             6.0             9.0       3.0         3   \n",
       "1         2.0      1.0             6.0             9.0       5.0         3   \n",
       "2         6.0      3.0             2.0             9.0       4.0         3   \n",
       "3         6.0      3.0             NaN             9.0       2.0         3   \n",
       "4         4.0      3.0             3.0             9.0       7.0         4   \n",
       "\n",
       "   ANREDE_KZ  ALTERSKATEGORIE_GROB  \n",
       "0          1                     4  \n",
       "1          1                     4  \n",
       "2          2                     4  \n",
       "3          2                     4  \n",
       "4          2                     4  \n",
       "\n",
       "[5 rows x 360 columns]"
      ]
     },
     "execution_count": 80,
     "metadata": {},
     "output_type": "execute_result"
    }
   ],
   "source": [
    "print('before preprocessing mailout_test.shape: ', mailout_test.shape)\n",
    "mailout_test_clean = clean_data(mailout_test)\n",
    "print('after preprocessing mailout_test_clean.shape: ', mailout_test_clean.shape)\n",
    "mailout_test_clean.head()"
   ]
  },
  {
   "cell_type": "code",
   "execution_count": 81,
   "metadata": {},
   "outputs": [],
   "source": [
    "IDs = mailout_test.LNR.tolist()\n",
    "test_data = mailout_test.iloc[:,1:]\n",
    "test_data = get_stand_data(test_data)"
   ]
  },
  {
   "cell_type": "code",
   "execution_count": 82,
   "metadata": {},
   "outputs": [
    {
     "data": {
      "text/html": [
       "<div>\n",
       "<style scoped>\n",
       "    .dataframe tbody tr th:only-of-type {\n",
       "        vertical-align: middle;\n",
       "    }\n",
       "\n",
       "    .dataframe tbody tr th {\n",
       "        vertical-align: top;\n",
       "    }\n",
       "\n",
       "    .dataframe thead th {\n",
       "        text-align: right;\n",
       "    }\n",
       "</style>\n",
       "<table border=\"1\" class=\"dataframe\">\n",
       "  <thead>\n",
       "    <tr style=\"text-align: right;\">\n",
       "      <th></th>\n",
       "      <th>LNR</th>\n",
       "      <th>RESPONSE</th>\n",
       "    </tr>\n",
       "  </thead>\n",
       "  <tbody>\n",
       "    <tr>\n",
       "      <th>0</th>\n",
       "      <td>1754</td>\n",
       "      <td>1</td>\n",
       "    </tr>\n",
       "    <tr>\n",
       "      <th>1</th>\n",
       "      <td>1770</td>\n",
       "      <td>1</td>\n",
       "    </tr>\n",
       "    <tr>\n",
       "      <th>2</th>\n",
       "      <td>1465</td>\n",
       "      <td>0</td>\n",
       "    </tr>\n",
       "    <tr>\n",
       "      <th>3</th>\n",
       "      <td>1470</td>\n",
       "      <td>1</td>\n",
       "    </tr>\n",
       "    <tr>\n",
       "      <th>4</th>\n",
       "      <td>1478</td>\n",
       "      <td>1</td>\n",
       "    </tr>\n",
       "  </tbody>\n",
       "</table>\n",
       "</div>"
      ],
      "text/plain": [
       "    LNR  RESPONSE\n",
       "0  1754         1\n",
       "1  1770         1\n",
       "2  1465         0\n",
       "3  1470         1\n",
       "4  1478         1"
      ]
     },
     "execution_count": 82,
     "metadata": {},
     "output_type": "execute_result"
    }
   ],
   "source": [
    "pred = clf.predict(test_data)\n",
    "df = pd.DataFrame(IDs,columns =[\"LNR\"])\n",
    "df[\"RESPONSE\"] = pd.DataFrame(pred)\n",
    "df.head()"
   ]
  },
  {
   "cell_type": "code",
   "execution_count": 83,
   "metadata": {},
   "outputs": [],
   "source": [
    "df.to_csv('kaggle_submission.csv')"
   ]
  },
  {
   "cell_type": "code",
   "execution_count": null,
   "metadata": {},
   "outputs": [],
   "source": []
  }
 ],
 "metadata": {
  "kernelspec": {
   "display_name": "Python 3",
   "language": "python",
   "name": "python3"
  },
  "language_info": {
   "codemirror_mode": {
    "name": "ipython",
    "version": 3
   },
   "file_extension": ".py",
   "mimetype": "text/x-python",
   "name": "python",
   "nbconvert_exporter": "python",
   "pygments_lexer": "ipython3",
   "version": "3.6.3"
  }
 },
 "nbformat": 4,
 "nbformat_minor": 2
}
